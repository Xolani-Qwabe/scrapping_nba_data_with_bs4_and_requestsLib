{
 "cells": [
  {
   "cell_type": "code",
   "execution_count": 2,
   "id": "initial_id",
   "metadata": {
    "collapsed": true,
    "ExecuteTime": {
     "end_time": "2024-02-27T12:24:57.207666600Z",
     "start_time": "2024-02-27T12:24:56.476053900Z"
    }
   },
   "outputs": [],
   "source": [
    "import numpy as np\n",
    "import pandas as pd\n",
    "import sqlite3"
   ]
  },
  {
   "cell_type": "code",
   "outputs": [],
   "source": [
    "roster = pd.read_csv(r\"C:\\Users\\thabi\\Desktop\\test_sel_tut\\data\\team_tables_csv\\BOS\\BOS_Roster.csv\")"
   ],
   "metadata": {
    "collapsed": false,
    "ExecuteTime": {
     "end_time": "2024-02-27T12:24:57.219744500Z",
     "start_time": "2024-02-27T12:24:57.208666500Z"
    }
   },
   "id": "9f632050174e09a4",
   "execution_count": 3
  },
  {
   "cell_type": "code",
   "outputs": [],
   "source": [
    "team_info = pd.read_csv(r\"C:\\Users\\thabi\\Desktop\\test_sel_tut\\data\\team_tables_csv\\BOS\\BOS_Team_misc.csv\")\n"
   ],
   "metadata": {
    "collapsed": false,
    "ExecuteTime": {
     "end_time": "2024-02-27T12:24:57.227601200Z",
     "start_time": "2024-02-27T12:24:57.220745900Z"
    }
   },
   "id": "b4d4f7e8b2c8e1b8",
   "execution_count": 4
  },
  {
   "cell_type": "code",
   "outputs": [
    {
     "data": {
      "text/plain": "    No.              Player Pos   Ht   Wt          Birth Date Unnamed: 6 Exp  \\\n0    11    Payton Pritchard  PG  6-1  195    January 28, 1998         us   3   \n1    30          Sam Hauser  SF  6-8  215    December 8, 1997         us   2   \n2     0        Jayson Tatum  PF  6-8  210       March 3, 1998         us   6   \n3     9       Derrick White  SG  6-4  190        July 2, 1994         us   6   \n4     7        Jaylen Brown  SF  6-6  223    October 24, 1996         us   7   \n5     4        Jrue Holiday  PG  6-4  205       June 12, 1990         us  14   \n6    42          Al Horford   C  6-9  240        June 3, 1986         do  16   \n7     8  Kristaps Porziņģis   C  7-2  240      August 2, 1995         lv   7   \n8    40         Luke Kornet   C  7-2  250       July 15, 1995         us   6   \n9    12      Oshae Brissett  SF  6-7  210       June 20, 1998         ca   4   \n10   50      Svi Mykhailiuk  SF  6-7  205       June 10, 1997         ua   5   \n11   88  Neemias Queta (TW)   C  7-0  245       July 13, 1999         pt   2   \n12   27        Jordan Walsh  SF  6-7  205       March 3, 2004         us   R   \n13   20     JD Davison (TW)  SG  6-1  195     October 3, 2002         us   1   \n14   44      Jaden Springer  PG  6-4  204  September 25, 2002         us   2   \n15   13  Drew Peterson (TW)  PF  6-9  205    November 9, 1999         us   R   \n16   26  Xavier Tillman Sr.  PF  6-8  245    January 12, 1999         us   3   \n\n                                College  \n0                                Oregon  \n1                   Marquette, Virginia  \n2                                  Duke  \n3   Colorado-Colorado Springs, Colorado  \n4                            California  \n5                                  UCLA  \n6                               Florida  \n7                                   NaN  \n8                            Vanderbilt  \n9                              Syracuse  \n10                               Kansas  \n11                Utah State University  \n12                             Arkansas  \n13                              Alabama  \n14                            Tennessee  \n15                 Rice University, USC  \n16                       Michigan State  ",
      "text/html": "<div>\n<style scoped>\n    .dataframe tbody tr th:only-of-type {\n        vertical-align: middle;\n    }\n\n    .dataframe tbody tr th {\n        vertical-align: top;\n    }\n\n    .dataframe thead th {\n        text-align: right;\n    }\n</style>\n<table border=\"1\" class=\"dataframe\">\n  <thead>\n    <tr style=\"text-align: right;\">\n      <th></th>\n      <th>No.</th>\n      <th>Player</th>\n      <th>Pos</th>\n      <th>Ht</th>\n      <th>Wt</th>\n      <th>Birth Date</th>\n      <th>Unnamed: 6</th>\n      <th>Exp</th>\n      <th>College</th>\n    </tr>\n  </thead>\n  <tbody>\n    <tr>\n      <th>0</th>\n      <td>11</td>\n      <td>Payton Pritchard</td>\n      <td>PG</td>\n      <td>6-1</td>\n      <td>195</td>\n      <td>January 28, 1998</td>\n      <td>us</td>\n      <td>3</td>\n      <td>Oregon</td>\n    </tr>\n    <tr>\n      <th>1</th>\n      <td>30</td>\n      <td>Sam Hauser</td>\n      <td>SF</td>\n      <td>6-8</td>\n      <td>215</td>\n      <td>December 8, 1997</td>\n      <td>us</td>\n      <td>2</td>\n      <td>Marquette, Virginia</td>\n    </tr>\n    <tr>\n      <th>2</th>\n      <td>0</td>\n      <td>Jayson Tatum</td>\n      <td>PF</td>\n      <td>6-8</td>\n      <td>210</td>\n      <td>March 3, 1998</td>\n      <td>us</td>\n      <td>6</td>\n      <td>Duke</td>\n    </tr>\n    <tr>\n      <th>3</th>\n      <td>9</td>\n      <td>Derrick White</td>\n      <td>SG</td>\n      <td>6-4</td>\n      <td>190</td>\n      <td>July 2, 1994</td>\n      <td>us</td>\n      <td>6</td>\n      <td>Colorado-Colorado Springs, Colorado</td>\n    </tr>\n    <tr>\n      <th>4</th>\n      <td>7</td>\n      <td>Jaylen Brown</td>\n      <td>SF</td>\n      <td>6-6</td>\n      <td>223</td>\n      <td>October 24, 1996</td>\n      <td>us</td>\n      <td>7</td>\n      <td>California</td>\n    </tr>\n    <tr>\n      <th>5</th>\n      <td>4</td>\n      <td>Jrue Holiday</td>\n      <td>PG</td>\n      <td>6-4</td>\n      <td>205</td>\n      <td>June 12, 1990</td>\n      <td>us</td>\n      <td>14</td>\n      <td>UCLA</td>\n    </tr>\n    <tr>\n      <th>6</th>\n      <td>42</td>\n      <td>Al Horford</td>\n      <td>C</td>\n      <td>6-9</td>\n      <td>240</td>\n      <td>June 3, 1986</td>\n      <td>do</td>\n      <td>16</td>\n      <td>Florida</td>\n    </tr>\n    <tr>\n      <th>7</th>\n      <td>8</td>\n      <td>Kristaps Porziņģis</td>\n      <td>C</td>\n      <td>7-2</td>\n      <td>240</td>\n      <td>August 2, 1995</td>\n      <td>lv</td>\n      <td>7</td>\n      <td>NaN</td>\n    </tr>\n    <tr>\n      <th>8</th>\n      <td>40</td>\n      <td>Luke Kornet</td>\n      <td>C</td>\n      <td>7-2</td>\n      <td>250</td>\n      <td>July 15, 1995</td>\n      <td>us</td>\n      <td>6</td>\n      <td>Vanderbilt</td>\n    </tr>\n    <tr>\n      <th>9</th>\n      <td>12</td>\n      <td>Oshae Brissett</td>\n      <td>SF</td>\n      <td>6-7</td>\n      <td>210</td>\n      <td>June 20, 1998</td>\n      <td>ca</td>\n      <td>4</td>\n      <td>Syracuse</td>\n    </tr>\n    <tr>\n      <th>10</th>\n      <td>50</td>\n      <td>Svi Mykhailiuk</td>\n      <td>SF</td>\n      <td>6-7</td>\n      <td>205</td>\n      <td>June 10, 1997</td>\n      <td>ua</td>\n      <td>5</td>\n      <td>Kansas</td>\n    </tr>\n    <tr>\n      <th>11</th>\n      <td>88</td>\n      <td>Neemias Queta (TW)</td>\n      <td>C</td>\n      <td>7-0</td>\n      <td>245</td>\n      <td>July 13, 1999</td>\n      <td>pt</td>\n      <td>2</td>\n      <td>Utah State University</td>\n    </tr>\n    <tr>\n      <th>12</th>\n      <td>27</td>\n      <td>Jordan Walsh</td>\n      <td>SF</td>\n      <td>6-7</td>\n      <td>205</td>\n      <td>March 3, 2004</td>\n      <td>us</td>\n      <td>R</td>\n      <td>Arkansas</td>\n    </tr>\n    <tr>\n      <th>13</th>\n      <td>20</td>\n      <td>JD Davison (TW)</td>\n      <td>SG</td>\n      <td>6-1</td>\n      <td>195</td>\n      <td>October 3, 2002</td>\n      <td>us</td>\n      <td>1</td>\n      <td>Alabama</td>\n    </tr>\n    <tr>\n      <th>14</th>\n      <td>44</td>\n      <td>Jaden Springer</td>\n      <td>PG</td>\n      <td>6-4</td>\n      <td>204</td>\n      <td>September 25, 2002</td>\n      <td>us</td>\n      <td>2</td>\n      <td>Tennessee</td>\n    </tr>\n    <tr>\n      <th>15</th>\n      <td>13</td>\n      <td>Drew Peterson (TW)</td>\n      <td>PF</td>\n      <td>6-9</td>\n      <td>205</td>\n      <td>November 9, 1999</td>\n      <td>us</td>\n      <td>R</td>\n      <td>Rice University, USC</td>\n    </tr>\n    <tr>\n      <th>16</th>\n      <td>26</td>\n      <td>Xavier Tillman Sr.</td>\n      <td>PF</td>\n      <td>6-8</td>\n      <td>245</td>\n      <td>January 12, 1999</td>\n      <td>us</td>\n      <td>3</td>\n      <td>Michigan State</td>\n    </tr>\n  </tbody>\n</table>\n</div>"
     },
     "execution_count": 5,
     "metadata": {},
     "output_type": "execute_result"
    }
   ],
   "source": [
    "roster"
   ],
   "metadata": {
    "collapsed": false,
    "ExecuteTime": {
     "end_time": "2024-02-27T12:24:57.329014800Z",
     "start_time": "2024-02-27T12:24:57.227601200Z"
    }
   },
   "id": "ef45350a8e58ca65",
   "execution_count": 5
  },
  {
   "cell_type": "code",
   "outputs": [],
   "source": [],
   "metadata": {
    "collapsed": false,
    "ExecuteTime": {
     "end_time": "2024-02-27T12:24:57.330013800Z",
     "start_time": "2024-02-27T12:24:57.245483500Z"
    }
   },
   "id": "992fda8a231602a0",
   "execution_count": 5
  },
  {
   "cell_type": "code",
   "outputs": [],
   "source": [],
   "metadata": {
    "collapsed": false,
    "ExecuteTime": {
     "end_time": "2024-02-27T12:24:57.330013800Z",
     "start_time": "2024-02-27T12:24:57.249501900Z"
    }
   },
   "id": "a0bc7c58a8da5a94",
   "execution_count": 5
  }
 ],
 "metadata": {
  "kernelspec": {
   "display_name": "Python 3",
   "language": "python",
   "name": "python3"
  },
  "language_info": {
   "codemirror_mode": {
    "name": "ipython",
    "version": 2
   },
   "file_extension": ".py",
   "mimetype": "text/x-python",
   "name": "python",
   "nbconvert_exporter": "python",
   "pygments_lexer": "ipython2",
   "version": "2.7.6"
  }
 },
 "nbformat": 4,
 "nbformat_minor": 5
}
