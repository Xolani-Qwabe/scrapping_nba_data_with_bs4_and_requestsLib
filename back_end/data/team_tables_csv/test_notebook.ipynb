{
 "cells": [
  {
   "cell_type": "code",
   "execution_count": 1,
   "id": "initial_id",
   "metadata": {
    "collapsed": true,
    "ExecuteTime": {
     "end_time": "2024-02-27T07:00:56.108037800Z",
     "start_time": "2024-02-27T07:00:54.451391200Z"
    }
   },
   "outputs": [],
   "source": [
    "import pandas as pd\n",
    "import numpy as np"
   ]
  },
  {
   "cell_type": "code",
   "outputs": [],
   "source": [
    "df = pd.read_csv(r'C:\\Users\\thabi\\Desktop\\test_sel_tut\\data\\team_tables_csv\\injuries.csv')"
   ],
   "metadata": {
    "collapsed": false,
    "ExecuteTime": {
     "end_time": "2024-02-27T07:14:09.341603300Z",
     "start_time": "2024-02-27T07:14:09.263385Z"
    }
   },
   "id": "fd7cda5d98c0cc9c",
   "execution_count": 8
  },
  {
   "cell_type": "code",
   "outputs": [
    {
     "data": {
      "text/plain": "        DATE  TEAM               PLAYER      INJURY GAME STATUS\n0    2/25/24   NaN      Gary Harris  SG        Rest         Out\n1    2/25/24   NaN   Paolo Banchero  SF     Illness         Out\n2    2/25/24   NaN       Seth Curry  SG         Hip         Out\n3    2/25/24   NaN      Paul George  SF        Knee         Out\n4    2/24/24   NaN      Ben Simmons  PG         Leg  Day-to-Day\n..       ...   ...                  ...         ...         ...\n335  1/27/24   NaN      Jalen Smith  PF        Back  Day-to-Day\n336  1/27/24   NaN  Cade Cunningham  PG        Knee  Day-to-Day\n337  1/27/24   NaN     Monte Morris  PG  Quadriceps  Day-to-Day\n338  1/27/24   NaN     Bradley Beal  SG        Nose  Day-to-Day\n339  1/27/24   NaN       Luke Kornet  C   Hamstring  Day-to-Day\n\n[340 rows x 5 columns]",
      "text/html": "<div>\n<style scoped>\n    .dataframe tbody tr th:only-of-type {\n        vertical-align: middle;\n    }\n\n    .dataframe tbody tr th {\n        vertical-align: top;\n    }\n\n    .dataframe thead th {\n        text-align: right;\n    }\n</style>\n<table border=\"1\" class=\"dataframe\">\n  <thead>\n    <tr style=\"text-align: right;\">\n      <th></th>\n      <th>DATE</th>\n      <th>TEAM</th>\n      <th>PLAYER</th>\n      <th>INJURY</th>\n      <th>GAME STATUS</th>\n    </tr>\n  </thead>\n  <tbody>\n    <tr>\n      <th>0</th>\n      <td>2/25/24</td>\n      <td>NaN</td>\n      <td>Gary Harris  SG</td>\n      <td>Rest</td>\n      <td>Out</td>\n    </tr>\n    <tr>\n      <th>1</th>\n      <td>2/25/24</td>\n      <td>NaN</td>\n      <td>Paolo Banchero  SF</td>\n      <td>Illness</td>\n      <td>Out</td>\n    </tr>\n    <tr>\n      <th>2</th>\n      <td>2/25/24</td>\n      <td>NaN</td>\n      <td>Seth Curry  SG</td>\n      <td>Hip</td>\n      <td>Out</td>\n    </tr>\n    <tr>\n      <th>3</th>\n      <td>2/25/24</td>\n      <td>NaN</td>\n      <td>Paul George  SF</td>\n      <td>Knee</td>\n      <td>Out</td>\n    </tr>\n    <tr>\n      <th>4</th>\n      <td>2/24/24</td>\n      <td>NaN</td>\n      <td>Ben Simmons  PG</td>\n      <td>Leg</td>\n      <td>Day-to-Day</td>\n    </tr>\n    <tr>\n      <th>...</th>\n      <td>...</td>\n      <td>...</td>\n      <td>...</td>\n      <td>...</td>\n      <td>...</td>\n    </tr>\n    <tr>\n      <th>335</th>\n      <td>1/27/24</td>\n      <td>NaN</td>\n      <td>Jalen Smith  PF</td>\n      <td>Back</td>\n      <td>Day-to-Day</td>\n    </tr>\n    <tr>\n      <th>336</th>\n      <td>1/27/24</td>\n      <td>NaN</td>\n      <td>Cade Cunningham  PG</td>\n      <td>Knee</td>\n      <td>Day-to-Day</td>\n    </tr>\n    <tr>\n      <th>337</th>\n      <td>1/27/24</td>\n      <td>NaN</td>\n      <td>Monte Morris  PG</td>\n      <td>Quadriceps</td>\n      <td>Day-to-Day</td>\n    </tr>\n    <tr>\n      <th>338</th>\n      <td>1/27/24</td>\n      <td>NaN</td>\n      <td>Bradley Beal  SG</td>\n      <td>Nose</td>\n      <td>Day-to-Day</td>\n    </tr>\n    <tr>\n      <th>339</th>\n      <td>1/27/24</td>\n      <td>NaN</td>\n      <td>Luke Kornet  C</td>\n      <td>Hamstring</td>\n      <td>Day-to-Day</td>\n    </tr>\n  </tbody>\n</table>\n<p>340 rows × 5 columns</p>\n</div>"
     },
     "execution_count": 9,
     "metadata": {},
     "output_type": "execute_result"
    }
   ],
   "source": [
    "df"
   ],
   "metadata": {
    "collapsed": false,
    "ExecuteTime": {
     "end_time": "2024-02-27T07:14:19.117742Z",
     "start_time": "2024-02-27T07:14:19.012073300Z"
    }
   },
   "id": "a8ee352789f70f77",
   "execution_count": 9
  },
  {
   "cell_type": "code",
   "outputs": [],
   "source": [],
   "metadata": {
    "collapsed": false
   },
   "id": "25b638b07d9d7c92"
  }
 ],
 "metadata": {
  "kernelspec": {
   "display_name": "Python 3",
   "language": "python",
   "name": "python3"
  },
  "language_info": {
   "codemirror_mode": {
    "name": "ipython",
    "version": 2
   },
   "file_extension": ".py",
   "mimetype": "text/x-python",
   "name": "python",
   "nbconvert_exporter": "python",
   "pygments_lexer": "ipython2",
   "version": "2.7.6"
  }
 },
 "nbformat": 4,
 "nbformat_minor": 5
}
