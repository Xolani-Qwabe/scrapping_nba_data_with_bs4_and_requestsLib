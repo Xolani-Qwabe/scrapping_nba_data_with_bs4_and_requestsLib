{
 "cells": [
  {
   "cell_type": "code",
   "execution_count": 30,
   "id": "initial_id",
   "metadata": {
    "collapsed": true,
    "ExecuteTime": {
     "end_time": "2024-02-12T15:11:55.131821900Z",
     "start_time": "2024-02-12T15:11:55.118750400Z"
    }
   },
   "outputs": [],
   "source": [
    "import pandas as pd"
   ]
  },
  {
   "cell_type": "code",
   "outputs": [],
   "source": [
    "basic = pd.read_csv('./clean_box_scores/basic_table_H_WashingtonWizardsatSanAntonioSpursBoxScore_January29_2024.csv')\n",
    "sample_excel = pd.read_excel('./excel_sample_data/SaleData.xlsx')"
   ],
   "metadata": {
    "collapsed": false,
    "ExecuteTime": {
     "end_time": "2024-02-12T15:11:55.216605700Z",
     "start_time": "2024-02-12T15:11:55.135823Z"
    }
   },
   "id": "510c7ec66b4cd380",
   "execution_count": 31
  },
  {
   "cell_type": "code",
   "outputs": [
    {
     "name": "stdout",
     "output_type": "stream",
     "text": [
      "<class 'pandas.core.frame.DataFrame'>\n",
      "RangeIndex: 13 entries, 0 to 12\n",
      "Data columns (total 22 columns):\n",
      " #   Column      Non-Null Count  Dtype  \n",
      "---  ------      --------------  -----  \n",
      " 0   Unnamed: 0  13 non-null     int64  \n",
      " 1   Starters    13 non-null     object \n",
      " 2   MP          13 non-null     object \n",
      " 3   FG          13 non-null     float64\n",
      " 4   FGA         13 non-null     float64\n",
      " 5   FG%         13 non-null     float64\n",
      " 6   3P          13 non-null     float64\n",
      " 7   3PA         13 non-null     float64\n",
      " 8   3P%         13 non-null     float64\n",
      " 9   FT          13 non-null     float64\n",
      " 10  FTA         13 non-null     float64\n",
      " 11  FT%         13 non-null     float64\n",
      " 12  ORB         13 non-null     float64\n",
      " 13  DRB         13 non-null     float64\n",
      " 14  TRB         13 non-null     float64\n",
      " 15  AST         13 non-null     float64\n",
      " 16  STL         13 non-null     float64\n",
      " 17  BLK         13 non-null     float64\n",
      " 18  TOV         13 non-null     float64\n",
      " 19  PF          13 non-null     float64\n",
      " 20  PTS         13 non-null     float64\n",
      " 21  +/-         13 non-null     float64\n",
      "dtypes: float64(19), int64(1), object(2)\n",
      "memory usage: 2.4+ KB\n"
     ]
    }
   ],
   "source": [
    "basic.info()"
   ],
   "metadata": {
    "collapsed": false,
    "ExecuteTime": {
     "end_time": "2024-02-12T15:11:55.258165400Z",
     "start_time": "2024-02-12T15:11:55.221171Z"
    }
   },
   "id": "c60c0e3ca2f85f0a",
   "execution_count": 32
  },
  {
   "cell_type": "code",
   "outputs": [
    {
     "data": {
      "text/plain": "   Unnamed: 0       Starters     MP   FG   FGA    FG%   3P  3PA  3P%   FT  \\\n0           0  Devin Vassell  34:59  9.0  19.0  0.474  1.0  5.0  0.2  5.0   \n\n   ...  ORB  DRB  TRB  AST  STL  BLK  TOV   PF   PTS  +/-  \n0  ...  1.0  4.0  5.0  4.0  0.0  1.0  5.0  1.0  24.0 -3.0  \n\n[1 rows x 22 columns]",
      "text/html": "<div>\n<style scoped>\n    .dataframe tbody tr th:only-of-type {\n        vertical-align: middle;\n    }\n\n    .dataframe tbody tr th {\n        vertical-align: top;\n    }\n\n    .dataframe thead th {\n        text-align: right;\n    }\n</style>\n<table border=\"1\" class=\"dataframe\">\n  <thead>\n    <tr style=\"text-align: right;\">\n      <th></th>\n      <th>Unnamed: 0</th>\n      <th>Starters</th>\n      <th>MP</th>\n      <th>FG</th>\n      <th>FGA</th>\n      <th>FG%</th>\n      <th>3P</th>\n      <th>3PA</th>\n      <th>3P%</th>\n      <th>FT</th>\n      <th>...</th>\n      <th>ORB</th>\n      <th>DRB</th>\n      <th>TRB</th>\n      <th>AST</th>\n      <th>STL</th>\n      <th>BLK</th>\n      <th>TOV</th>\n      <th>PF</th>\n      <th>PTS</th>\n      <th>+/-</th>\n    </tr>\n  </thead>\n  <tbody>\n    <tr>\n      <th>0</th>\n      <td>0</td>\n      <td>Devin Vassell</td>\n      <td>34:59</td>\n      <td>9.0</td>\n      <td>19.0</td>\n      <td>0.474</td>\n      <td>1.0</td>\n      <td>5.0</td>\n      <td>0.2</td>\n      <td>5.0</td>\n      <td>...</td>\n      <td>1.0</td>\n      <td>4.0</td>\n      <td>5.0</td>\n      <td>4.0</td>\n      <td>0.0</td>\n      <td>1.0</td>\n      <td>5.0</td>\n      <td>1.0</td>\n      <td>24.0</td>\n      <td>-3.0</td>\n    </tr>\n  </tbody>\n</table>\n<p>1 rows × 22 columns</p>\n</div>"
     },
     "execution_count": 33,
     "metadata": {},
     "output_type": "execute_result"
    }
   ],
   "source": [
    "basic[basic['Starters'] == 'Devin Vassell']"
   ],
   "metadata": {
    "collapsed": false,
    "ExecuteTime": {
     "end_time": "2024-02-12T15:11:55.285647800Z",
     "start_time": "2024-02-12T15:11:55.256652200Z"
    }
   },
   "id": "c80f329dfee310fd",
   "execution_count": 33
  }
 ],
 "metadata": {
  "kernelspec": {
   "display_name": "Python 3",
   "language": "python",
   "name": "python3"
  },
  "language_info": {
   "codemirror_mode": {
    "name": "ipython",
    "version": 2
   },
   "file_extension": ".py",
   "mimetype": "text/x-python",
   "name": "python",
   "nbconvert_exporter": "python",
   "pygments_lexer": "ipython2",
   "version": "2.7.6"
  }
 },
 "nbformat": 4,
 "nbformat_minor": 5
}
