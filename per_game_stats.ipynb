{
 "cells": [
  {
   "cell_type": "code",
   "outputs": [],
   "source": [
    "import requests\n",
    "from bs4 import BeautifulSoup\n",
    "import pandas as pd"
   ],
   "metadata": {
    "collapsed": false,
    "ExecuteTime": {
     "end_time": "2024-01-30T10:57:29.962193600Z",
     "start_time": "2024-01-30T10:57:29.955973700Z"
    }
   },
   "id": "105273986a77ee51",
   "execution_count": 73
  },
  {
   "cell_type": "code",
   "outputs": [],
   "source": [
    "url = 'https://www.basketball-reference.com/leagues/NBA_2024_per_game.html'\n",
    "data_source = requests.get(url, headers={'User-Agent': 'Mozilla/5.0'})\n",
    "page = BeautifulSoup(data_source.content, 'html.parser')\n",
    "\n"
   ],
   "metadata": {
    "collapsed": false,
    "ExecuteTime": {
     "end_time": "2024-01-30T10:57:31.189723300Z",
     "start_time": "2024-01-30T10:57:29.967188600Z"
    }
   },
   "id": "507f422768b9277c",
   "execution_count": 74
  },
  {
   "cell_type": "code",
   "outputs": [],
   "source": [
    "headers = [th.getText().split('\\n') for th in page.find_all('tr',limit=1)][0][2:-1]"
   ],
   "metadata": {
    "collapsed": false,
    "ExecuteTime": {
     "end_time": "2024-01-30T10:57:31.196793100Z",
     "start_time": "2024-01-30T10:57:31.191642600Z"
    }
   },
   "id": "13bf9fbb1338d469",
   "execution_count": 75
  },
  {
   "cell_type": "code",
   "outputs": [
    {
     "name": "stdout",
     "output_type": "stream",
     "text": [
      "['Player', 'Pos', 'Age', 'Tm', 'G', 'GS', 'MP', 'FG', 'FGA', 'FG%', '3P', '3PA', '3P%', '2P', '2PA', '2P%', 'eFG%', 'FT', 'FTA', 'FT%', 'ORB', 'DRB', 'TRB', 'AST', 'STL', 'BLK', 'TOV', 'PF', 'PTS']\n"
     ]
    }
   ],
   "source": [
    "print(headers)"
   ],
   "metadata": {
    "collapsed": false,
    "ExecuteTime": {
     "end_time": "2024-01-30T10:57:31.206163500Z",
     "start_time": "2024-01-30T10:57:31.198788600Z"
    }
   },
   "id": "1db83f2090d8c104",
   "execution_count": 76
  }
 ],
 "metadata": {
  "kernelspec": {
   "display_name": "Python 3",
   "language": "python",
   "name": "python3"
  },
  "language_info": {
   "codemirror_mode": {
    "name": "ipython",
    "version": 2
   },
   "file_extension": ".py",
   "mimetype": "text/x-python",
   "name": "python",
   "nbconvert_exporter": "python",
   "pygments_lexer": "ipython2",
   "version": "2.7.6"
  }
 },
 "nbformat": 4,
 "nbformat_minor": 5
}
