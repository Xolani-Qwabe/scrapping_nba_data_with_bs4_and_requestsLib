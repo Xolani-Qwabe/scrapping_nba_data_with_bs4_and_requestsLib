{
 "cells": [
  {
   "cell_type": "code",
   "outputs": [],
   "source": [
    "import requests\n",
    "from bs4 import BeautifulSoup\n",
    "import pandas as pd\n",
    "import clevercsv"
   ],
   "metadata": {
    "collapsed": false,
    "ExecuteTime": {
     "end_time": "2024-01-31T17:08:17.173487300Z",
     "start_time": "2024-01-31T17:08:17.138520300Z"
    }
   },
   "id": "105273986a77ee51",
   "execution_count": 9
  },
  {
   "cell_type": "code",
   "outputs": [],
   "source": [
    "url = 'https://www.basketball-reference.com/leagues/NBA_2024_per_game.html'\n",
    "data_source = requests.get(url, headers={'User-Agent': 'Mozilla/5.0'})\n",
    "page = BeautifulSoup(data_source.content, 'html.parser')\n",
    "\n"
   ],
   "metadata": {
    "collapsed": false,
    "ExecuteTime": {
     "end_time": "2024-01-31T17:08:18.684901100Z",
     "start_time": "2024-01-31T17:08:17.178489700Z"
    }
   },
   "id": "507f422768b9277c",
   "execution_count": 10
  },
  {
   "cell_type": "code",
   "outputs": [],
   "source": [
    "headers = [th.getText().split('\\n') for th in page.find_all('tr',limit=1)][0][2:-1]"
   ],
   "metadata": {
    "collapsed": false,
    "ExecuteTime": {
     "end_time": "2024-01-31T17:08:18.692993800Z",
     "start_time": "2024-01-31T17:08:18.686905500Z"
    }
   },
   "id": "13bf9fbb1338d469",
   "execution_count": 11
  },
  {
   "cell_type": "code",
   "outputs": [],
   "source": [
    "data_rows = page.find_all('tr')[1:]"
   ],
   "metadata": {
    "collapsed": false,
    "ExecuteTime": {
     "end_time": "2024-01-31T17:08:18.736685800Z",
     "start_time": "2024-01-31T17:08:18.694511300Z"
    }
   },
   "id": "1db83f2090d8c104",
   "execution_count": 12
  },
  {
   "cell_type": "code",
   "outputs": [],
   "source": [
    "player_stats = [[td.getText() for td in data_rows[i].find_all('td')]for i in range(len(data_rows))]"
   ],
   "metadata": {
    "collapsed": false,
    "ExecuteTime": {
     "end_time": "2024-01-31T17:08:18.787808500Z",
     "start_time": "2024-01-31T17:08:18.726358200Z"
    }
   },
   "id": "a1fbcd886bf112f",
   "execution_count": 13
  },
  {
   "cell_type": "code",
   "outputs": [],
   "source": [
    "stats = pd.DataFrame(player_stats, columns=headers)"
   ],
   "metadata": {
    "collapsed": false,
    "ExecuteTime": {
     "end_time": "2024-01-31T17:08:18.799504500Z",
     "start_time": "2024-01-31T17:08:18.789789300Z"
    }
   },
   "id": "72c08eb59f0a0399",
   "execution_count": 14
  },
  {
   "cell_type": "code",
   "outputs": [
    {
     "data": {
      "text/plain": "                      Player   Pos   Age    Tm     G    GS    MP    FG   FGA  \\\n0           Precious Achiuwa  C-PF    24   TOT    41     2  17.7   2.9   5.9   \n1           Precious Achiuwa     C    24   TOR    25     0  17.5   3.1   6.8   \n2           Precious Achiuwa    PF    24   NYK    16     2  18.1   2.4   4.6   \n3                Bam Adebayo     C    26   MIA    37    37  34.9   7.6  15.3   \n4               Ochai Agbaji    SG    23   UTA    49    10  19.9   2.1   5.0   \n5               Santi Aldama    PF    23   MEM    36    10  23.8   4.0   9.2   \n6   Nickeil Alexander-Walker    SG    25   MIN    47    16  23.0   2.5   5.7   \n7              Grayson Allen    SG    28   PHO    42    42  33.0   4.5   8.6   \n8              Jarrett Allen     C    25   CLE    39    39  30.6   6.2   9.6   \n9              Jose Alvarado    PG    25   NOP    29     0  16.1   2.4   5.8   \n10             Kyle Anderson    PF    30   MIN    47     2  22.3   2.4   5.3   \n11     Giannis Antetokounmpo    PF    29   MIL    45    45  35.1  11.6  19.0   \n12    Thanasis Antetokounmpo    PF    31   MIL    19     0   4.1   0.4   0.7   \n13              Cole Anthony    PG    23   ORL    46     0  24.0   4.3   9.9   \n14                OG Anunoby    SF    26   TOT    41    41  34.1   5.8  11.7   \n15                OG Anunoby    SF    26   TOR    27    27  33.3   5.8  11.9   \n16                OG Anunoby    SF    26   NYK    14    14  35.7   5.8  11.2   \n17          Ryan Arcidiacono    PG    29   NYK    20     0   2.3   0.0   0.3   \n18               Deni Avdija    SF    23   WAS    46    46  27.4   4.6   9.2   \n19             Deandre Ayton     C    25   POR    31    31  31.7   6.1  11.2   \n20            Udoka Azubuike     C    24   PHO    12     0   8.5   1.3   1.8   \n21                Ibou Badji     C    21   POR    12     1  13.6   0.8   1.3   \n22         Marvin Bagley III     C    24   TOT    33    12  19.8   4.5   7.6   \n23         Marvin Bagley III     C    24   DET    26    10  18.4   4.1   7.0   \n24         Marvin Bagley III     C    24   WAS     7     2  24.9   6.0  10.0   \n25              Amari Bailey    PG    19   CHO     2     0   5.5   1.0   3.0   \n26                      None  None  None  None  None  None  None  None  None   \n27       Patrick Baldwin Jr.    SF    21   WAS    15     0   6.9   0.9   2.1   \n28               LaMelo Ball    PG    22   CHO    22    22  32.3   8.3  19.2   \n29                  Mo Bamba     C    25   PHI    25     0   9.3   1.6   3.0   \n30            Paolo Banchero    PF    21   ORL    47    47  34.9   8.1  18.0   \n31              Desmond Bane    SG    25   MEM    37    37  34.5   8.9  18.8   \n32             Dalano Banton    PG    24   BOS    22     1   7.4   0.9   2.1   \n33           Dominick Barlow    PF    20   SAS    21     1  13.1   1.7   3.6   \n34           Harrison Barnes    PF    31   SAC    45    45  29.7   4.0   8.4   \n35            Scottie Barnes    SG    22   TOR    47    47  35.2   7.5  15.8   \n36                RJ Barrett    SG    23   TOT    39    39  30.8   6.9  14.8   \n37                RJ Barrett    SG    23   NYK    26    26  29.5   6.3  14.9   \n38                RJ Barrett    SG    23   TOR    13    13  33.6   8.1  14.7   \n39            Charles Bassey     C    23   SAS    19     0  10.8   1.5   2.1   \n40               Emoni Bates    SF    20   CLE    10     0   7.6   0.6   2.5   \n41          Keita Bates-Diop    SF    28   PHO    36     8  15.6   1.6   3.9   \n42             Nicolas Batum    PF    35   TOT    34    27  24.9   2.1   4.0   \n43             Nicolas Batum    PF    35   LAC     3     0  18.0   1.0   2.7   \n44             Nicolas Batum    PF    35   PHI    31    27  25.5   2.2   4.1   \n45              Bradley Beal    SG    30   PHO    23    23  33.0   7.0  14.2   \n46             Malik Beasley    SG    27   MIL    45    45  29.4   4.1   8.5   \n47          MarJon Beauchamp    SF    23   MIL    35     1  15.4   1.9   3.9   \n48             Jules Bernard    SG    24   WAS     4     0   4.0   0.3   2.3   \n49             Dāvis Bertāns    PF    31   OKC    15     0   6.1   0.7   1.7   \n\n     FG%  ...   FT%   ORB   DRB   TRB   AST   STL   BLK   TOV    PF   PTS  \n0   .481  ...  .604   2.1   3.3   5.4   1.3   0.5   0.6   0.9   1.7   6.8  \n1   .459  ...  .571   2.0   3.4   5.4   1.8   0.6   0.5   1.2   1.6   7.7  \n2   .534  ...  .833   2.2   3.1   5.3   0.6   0.3   0.8   0.6   1.8   5.3  \n3   .499  ...  .781   2.2   8.3  10.5   4.2   1.0   1.1   2.5   2.4  20.7  \n4   .430  ...  .750   0.7   1.8   2.5   0.9   0.6   0.6   0.7   1.3   5.5  \n5   .433  ...  .625   1.2   4.4   5.6   1.8   0.7   0.7   1.1   1.6  10.6  \n6   .430  ...  .710   0.4   1.4   1.9   2.6   0.9   0.6   0.9   1.8   6.8  \n7   .515  ...  .886   0.7   3.4   4.1   2.8   0.9   0.6   1.4   2.1  13.2  \n8   .650  ...  .753   3.6   6.9  10.6   3.0   0.9   1.1   1.8   2.4  15.3  \n9   .408  ...  .667   0.4   1.7   2.1   1.8   1.0   0.3   0.8   1.4   6.8  \n10  .457  ...  .678   0.7   2.8   3.5   4.0   0.8   0.6   1.3   1.6   6.2  \n11  .607  ...  .661   2.6   9.0  11.7   6.2   1.3   1.1   3.6   3.0  31.0  \n12  .500  ...         0.2   0.2   0.4   0.5   0.1   0.2   0.5   0.7   0.7  \n13  .429  ...  .839   1.0   3.2   4.1   3.3   0.8   0.5   1.8   2.6  12.6  \n14  .498  ...  .774   1.0   3.2   4.2   2.3   1.3   0.7   1.5   2.3  15.3  \n15  .489  ...  .717   0.9   3.0   3.9   2.7   1.0   0.5   1.6   2.3  15.1  \n16  .516  ...  .842   1.1   3.6   4.6   1.5   1.8   1.1   1.4   2.4  15.6  \n17  .000  ...         0.0   0.4   0.4   0.2   0.1   0.0   0.1   0.3   0.0  \n18  .501  ...  .761   1.0   5.2   6.2   3.9   0.9   0.4   1.8   2.5  12.4  \n19  .549  ...  .795   3.1   7.4  10.5   1.6   1.0   0.7   1.9   2.3  13.4  \n20  .727  ...  .273   0.9   1.7   2.6   0.3   0.0   0.5   0.3   1.4   2.9  \n21  .600  ...  .500   1.5   2.2   3.7   0.7   0.2   1.4   0.8   2.7   1.8  \n22  .594  ...  .752   2.3   3.1   5.4   1.1   0.3   0.5   1.3   1.9  11.5  \n23  .591  ...  .820   1.8   2.8   4.5   1.0   0.2   0.5   1.1   1.5  10.2  \n24  .600  ...  .659   4.3   4.1   8.4   1.3   0.7   0.4   2.1   3.3  16.3  \n25  .333  ...  .500   1.0   0.0   1.0   0.0   0.0   0.0   0.5   0.0   2.5  \n26  None  ...  None  None  None  None  None  None  None  None  None  None  \n27  .452  ...  .700   0.3   1.6   1.9   0.4   0.1   0.2   0.3   1.1   2.9  \n28  .433  ...  .865   1.3   3.8   5.1   8.0   1.8   0.2   3.8   3.6  23.9  \n29  .547  ...  .667   1.3   1.8   3.1   0.6   0.4   0.9   0.6   1.4   4.2  \n30  .452  ...  .695   1.2   5.8   7.0   5.0   1.0   0.6   3.1   2.1  23.0  \n31  .474  ...  .864   0.9   3.6   4.6   5.3   1.0   0.5   2.7   2.9  24.4  \n32  .404  ...  .778   0.5   1.0   1.5   0.7   0.2   0.1   0.5   0.9   2.5  \n33  .474  ...  .615   1.2   2.1   3.3   1.2   0.4   0.5   0.2   1.5   4.3  \n34  .479  ...  .827   0.8   2.1   2.9   1.3   0.7   0.2   0.7   1.2  11.9  \n35  .476  ...  .766   2.2   5.9   8.2   5.8   1.3   1.5   2.7   2.0  20.2  \n36  .465  ...  .763   0.8   4.4   5.2   2.8   0.5   0.4   1.8   2.1  19.2  \n37  .423  ...  .831   0.7   3.5   4.3   2.4   0.5   0.3   1.8   1.7  18.2  \n38  .550  ...  .643   1.1   6.0   7.1   3.5   0.6   0.4   1.8   2.9  21.0  \n39  .725  ...  .833   1.2   2.8   4.0   1.1   0.4   0.9   0.8   1.6   3.3  \n40  .240  ...  .500   0.1   0.9   1.0   0.6   0.1   0.2   0.1   0.5   1.8  \n41  .415  ...  .722   0.8   1.8   2.6   0.9   0.6   0.5   0.3   0.9   4.5  \n42  .519  ...  .643   1.2   2.6   3.9   2.3   0.7   0.7   0.6   2.0   5.7  \n43  .375  ...         0.0   2.3   2.3   1.7   1.0   1.3   0.3   1.7   2.7  \n44  .528  ...  .643   1.4   2.6   4.0   2.4   0.6   0.7   0.6   2.0   6.0  \n45  .491  ...  .738   0.8   3.5   4.3   4.3   0.8   0.3   2.3   2.8  17.5  \n46  .477  ...  .722   0.6   3.3   3.9   1.4   0.7   0.1   0.7   2.1  11.2  \n47  .486  ...  .600   0.6   1.8   2.4   0.8   0.3   0.2   0.7   1.3   4.9  \n48  .111  ...         0.3   0.0   0.3   0.3   0.0   0.0   0.3   0.8   0.5  \n49  .385  ...  .933   0.1   0.5   0.7   0.6   0.2   0.2   0.1   0.7   2.9  \n\n[50 rows x 29 columns]",
      "text/html": "<div>\n<style scoped>\n    .dataframe tbody tr th:only-of-type {\n        vertical-align: middle;\n    }\n\n    .dataframe tbody tr th {\n        vertical-align: top;\n    }\n\n    .dataframe thead th {\n        text-align: right;\n    }\n</style>\n<table border=\"1\" class=\"dataframe\">\n  <thead>\n    <tr style=\"text-align: right;\">\n      <th></th>\n      <th>Player</th>\n      <th>Pos</th>\n      <th>Age</th>\n      <th>Tm</th>\n      <th>G</th>\n      <th>GS</th>\n      <th>MP</th>\n      <th>FG</th>\n      <th>FGA</th>\n      <th>FG%</th>\n      <th>...</th>\n      <th>FT%</th>\n      <th>ORB</th>\n      <th>DRB</th>\n      <th>TRB</th>\n      <th>AST</th>\n      <th>STL</th>\n      <th>BLK</th>\n      <th>TOV</th>\n      <th>PF</th>\n      <th>PTS</th>\n    </tr>\n  </thead>\n  <tbody>\n    <tr>\n      <th>0</th>\n      <td>Precious Achiuwa</td>\n      <td>C-PF</td>\n      <td>24</td>\n      <td>TOT</td>\n      <td>41</td>\n      <td>2</td>\n      <td>17.7</td>\n      <td>2.9</td>\n      <td>5.9</td>\n      <td>.481</td>\n      <td>...</td>\n      <td>.604</td>\n      <td>2.1</td>\n      <td>3.3</td>\n      <td>5.4</td>\n      <td>1.3</td>\n      <td>0.5</td>\n      <td>0.6</td>\n      <td>0.9</td>\n      <td>1.7</td>\n      <td>6.8</td>\n    </tr>\n    <tr>\n      <th>1</th>\n      <td>Precious Achiuwa</td>\n      <td>C</td>\n      <td>24</td>\n      <td>TOR</td>\n      <td>25</td>\n      <td>0</td>\n      <td>17.5</td>\n      <td>3.1</td>\n      <td>6.8</td>\n      <td>.459</td>\n      <td>...</td>\n      <td>.571</td>\n      <td>2.0</td>\n      <td>3.4</td>\n      <td>5.4</td>\n      <td>1.8</td>\n      <td>0.6</td>\n      <td>0.5</td>\n      <td>1.2</td>\n      <td>1.6</td>\n      <td>7.7</td>\n    </tr>\n    <tr>\n      <th>2</th>\n      <td>Precious Achiuwa</td>\n      <td>PF</td>\n      <td>24</td>\n      <td>NYK</td>\n      <td>16</td>\n      <td>2</td>\n      <td>18.1</td>\n      <td>2.4</td>\n      <td>4.6</td>\n      <td>.534</td>\n      <td>...</td>\n      <td>.833</td>\n      <td>2.2</td>\n      <td>3.1</td>\n      <td>5.3</td>\n      <td>0.6</td>\n      <td>0.3</td>\n      <td>0.8</td>\n      <td>0.6</td>\n      <td>1.8</td>\n      <td>5.3</td>\n    </tr>\n    <tr>\n      <th>3</th>\n      <td>Bam Adebayo</td>\n      <td>C</td>\n      <td>26</td>\n      <td>MIA</td>\n      <td>37</td>\n      <td>37</td>\n      <td>34.9</td>\n      <td>7.6</td>\n      <td>15.3</td>\n      <td>.499</td>\n      <td>...</td>\n      <td>.781</td>\n      <td>2.2</td>\n      <td>8.3</td>\n      <td>10.5</td>\n      <td>4.2</td>\n      <td>1.0</td>\n      <td>1.1</td>\n      <td>2.5</td>\n      <td>2.4</td>\n      <td>20.7</td>\n    </tr>\n    <tr>\n      <th>4</th>\n      <td>Ochai Agbaji</td>\n      <td>SG</td>\n      <td>23</td>\n      <td>UTA</td>\n      <td>49</td>\n      <td>10</td>\n      <td>19.9</td>\n      <td>2.1</td>\n      <td>5.0</td>\n      <td>.430</td>\n      <td>...</td>\n      <td>.750</td>\n      <td>0.7</td>\n      <td>1.8</td>\n      <td>2.5</td>\n      <td>0.9</td>\n      <td>0.6</td>\n      <td>0.6</td>\n      <td>0.7</td>\n      <td>1.3</td>\n      <td>5.5</td>\n    </tr>\n    <tr>\n      <th>5</th>\n      <td>Santi Aldama</td>\n      <td>PF</td>\n      <td>23</td>\n      <td>MEM</td>\n      <td>36</td>\n      <td>10</td>\n      <td>23.8</td>\n      <td>4.0</td>\n      <td>9.2</td>\n      <td>.433</td>\n      <td>...</td>\n      <td>.625</td>\n      <td>1.2</td>\n      <td>4.4</td>\n      <td>5.6</td>\n      <td>1.8</td>\n      <td>0.7</td>\n      <td>0.7</td>\n      <td>1.1</td>\n      <td>1.6</td>\n      <td>10.6</td>\n    </tr>\n    <tr>\n      <th>6</th>\n      <td>Nickeil Alexander-Walker</td>\n      <td>SG</td>\n      <td>25</td>\n      <td>MIN</td>\n      <td>47</td>\n      <td>16</td>\n      <td>23.0</td>\n      <td>2.5</td>\n      <td>5.7</td>\n      <td>.430</td>\n      <td>...</td>\n      <td>.710</td>\n      <td>0.4</td>\n      <td>1.4</td>\n      <td>1.9</td>\n      <td>2.6</td>\n      <td>0.9</td>\n      <td>0.6</td>\n      <td>0.9</td>\n      <td>1.8</td>\n      <td>6.8</td>\n    </tr>\n    <tr>\n      <th>7</th>\n      <td>Grayson Allen</td>\n      <td>SG</td>\n      <td>28</td>\n      <td>PHO</td>\n      <td>42</td>\n      <td>42</td>\n      <td>33.0</td>\n      <td>4.5</td>\n      <td>8.6</td>\n      <td>.515</td>\n      <td>...</td>\n      <td>.886</td>\n      <td>0.7</td>\n      <td>3.4</td>\n      <td>4.1</td>\n      <td>2.8</td>\n      <td>0.9</td>\n      <td>0.6</td>\n      <td>1.4</td>\n      <td>2.1</td>\n      <td>13.2</td>\n    </tr>\n    <tr>\n      <th>8</th>\n      <td>Jarrett Allen</td>\n      <td>C</td>\n      <td>25</td>\n      <td>CLE</td>\n      <td>39</td>\n      <td>39</td>\n      <td>30.6</td>\n      <td>6.2</td>\n      <td>9.6</td>\n      <td>.650</td>\n      <td>...</td>\n      <td>.753</td>\n      <td>3.6</td>\n      <td>6.9</td>\n      <td>10.6</td>\n      <td>3.0</td>\n      <td>0.9</td>\n      <td>1.1</td>\n      <td>1.8</td>\n      <td>2.4</td>\n      <td>15.3</td>\n    </tr>\n    <tr>\n      <th>9</th>\n      <td>Jose Alvarado</td>\n      <td>PG</td>\n      <td>25</td>\n      <td>NOP</td>\n      <td>29</td>\n      <td>0</td>\n      <td>16.1</td>\n      <td>2.4</td>\n      <td>5.8</td>\n      <td>.408</td>\n      <td>...</td>\n      <td>.667</td>\n      <td>0.4</td>\n      <td>1.7</td>\n      <td>2.1</td>\n      <td>1.8</td>\n      <td>1.0</td>\n      <td>0.3</td>\n      <td>0.8</td>\n      <td>1.4</td>\n      <td>6.8</td>\n    </tr>\n    <tr>\n      <th>10</th>\n      <td>Kyle Anderson</td>\n      <td>PF</td>\n      <td>30</td>\n      <td>MIN</td>\n      <td>47</td>\n      <td>2</td>\n      <td>22.3</td>\n      <td>2.4</td>\n      <td>5.3</td>\n      <td>.457</td>\n      <td>...</td>\n      <td>.678</td>\n      <td>0.7</td>\n      <td>2.8</td>\n      <td>3.5</td>\n      <td>4.0</td>\n      <td>0.8</td>\n      <td>0.6</td>\n      <td>1.3</td>\n      <td>1.6</td>\n      <td>6.2</td>\n    </tr>\n    <tr>\n      <th>11</th>\n      <td>Giannis Antetokounmpo</td>\n      <td>PF</td>\n      <td>29</td>\n      <td>MIL</td>\n      <td>45</td>\n      <td>45</td>\n      <td>35.1</td>\n      <td>11.6</td>\n      <td>19.0</td>\n      <td>.607</td>\n      <td>...</td>\n      <td>.661</td>\n      <td>2.6</td>\n      <td>9.0</td>\n      <td>11.7</td>\n      <td>6.2</td>\n      <td>1.3</td>\n      <td>1.1</td>\n      <td>3.6</td>\n      <td>3.0</td>\n      <td>31.0</td>\n    </tr>\n    <tr>\n      <th>12</th>\n      <td>Thanasis Antetokounmpo</td>\n      <td>PF</td>\n      <td>31</td>\n      <td>MIL</td>\n      <td>19</td>\n      <td>0</td>\n      <td>4.1</td>\n      <td>0.4</td>\n      <td>0.7</td>\n      <td>.500</td>\n      <td>...</td>\n      <td></td>\n      <td>0.2</td>\n      <td>0.2</td>\n      <td>0.4</td>\n      <td>0.5</td>\n      <td>0.1</td>\n      <td>0.2</td>\n      <td>0.5</td>\n      <td>0.7</td>\n      <td>0.7</td>\n    </tr>\n    <tr>\n      <th>13</th>\n      <td>Cole Anthony</td>\n      <td>PG</td>\n      <td>23</td>\n      <td>ORL</td>\n      <td>46</td>\n      <td>0</td>\n      <td>24.0</td>\n      <td>4.3</td>\n      <td>9.9</td>\n      <td>.429</td>\n      <td>...</td>\n      <td>.839</td>\n      <td>1.0</td>\n      <td>3.2</td>\n      <td>4.1</td>\n      <td>3.3</td>\n      <td>0.8</td>\n      <td>0.5</td>\n      <td>1.8</td>\n      <td>2.6</td>\n      <td>12.6</td>\n    </tr>\n    <tr>\n      <th>14</th>\n      <td>OG Anunoby</td>\n      <td>SF</td>\n      <td>26</td>\n      <td>TOT</td>\n      <td>41</td>\n      <td>41</td>\n      <td>34.1</td>\n      <td>5.8</td>\n      <td>11.7</td>\n      <td>.498</td>\n      <td>...</td>\n      <td>.774</td>\n      <td>1.0</td>\n      <td>3.2</td>\n      <td>4.2</td>\n      <td>2.3</td>\n      <td>1.3</td>\n      <td>0.7</td>\n      <td>1.5</td>\n      <td>2.3</td>\n      <td>15.3</td>\n    </tr>\n    <tr>\n      <th>15</th>\n      <td>OG Anunoby</td>\n      <td>SF</td>\n      <td>26</td>\n      <td>TOR</td>\n      <td>27</td>\n      <td>27</td>\n      <td>33.3</td>\n      <td>5.8</td>\n      <td>11.9</td>\n      <td>.489</td>\n      <td>...</td>\n      <td>.717</td>\n      <td>0.9</td>\n      <td>3.0</td>\n      <td>3.9</td>\n      <td>2.7</td>\n      <td>1.0</td>\n      <td>0.5</td>\n      <td>1.6</td>\n      <td>2.3</td>\n      <td>15.1</td>\n    </tr>\n    <tr>\n      <th>16</th>\n      <td>OG Anunoby</td>\n      <td>SF</td>\n      <td>26</td>\n      <td>NYK</td>\n      <td>14</td>\n      <td>14</td>\n      <td>35.7</td>\n      <td>5.8</td>\n      <td>11.2</td>\n      <td>.516</td>\n      <td>...</td>\n      <td>.842</td>\n      <td>1.1</td>\n      <td>3.6</td>\n      <td>4.6</td>\n      <td>1.5</td>\n      <td>1.8</td>\n      <td>1.1</td>\n      <td>1.4</td>\n      <td>2.4</td>\n      <td>15.6</td>\n    </tr>\n    <tr>\n      <th>17</th>\n      <td>Ryan Arcidiacono</td>\n      <td>PG</td>\n      <td>29</td>\n      <td>NYK</td>\n      <td>20</td>\n      <td>0</td>\n      <td>2.3</td>\n      <td>0.0</td>\n      <td>0.3</td>\n      <td>.000</td>\n      <td>...</td>\n      <td></td>\n      <td>0.0</td>\n      <td>0.4</td>\n      <td>0.4</td>\n      <td>0.2</td>\n      <td>0.1</td>\n      <td>0.0</td>\n      <td>0.1</td>\n      <td>0.3</td>\n      <td>0.0</td>\n    </tr>\n    <tr>\n      <th>18</th>\n      <td>Deni Avdija</td>\n      <td>SF</td>\n      <td>23</td>\n      <td>WAS</td>\n      <td>46</td>\n      <td>46</td>\n      <td>27.4</td>\n      <td>4.6</td>\n      <td>9.2</td>\n      <td>.501</td>\n      <td>...</td>\n      <td>.761</td>\n      <td>1.0</td>\n      <td>5.2</td>\n      <td>6.2</td>\n      <td>3.9</td>\n      <td>0.9</td>\n      <td>0.4</td>\n      <td>1.8</td>\n      <td>2.5</td>\n      <td>12.4</td>\n    </tr>\n    <tr>\n      <th>19</th>\n      <td>Deandre Ayton</td>\n      <td>C</td>\n      <td>25</td>\n      <td>POR</td>\n      <td>31</td>\n      <td>31</td>\n      <td>31.7</td>\n      <td>6.1</td>\n      <td>11.2</td>\n      <td>.549</td>\n      <td>...</td>\n      <td>.795</td>\n      <td>3.1</td>\n      <td>7.4</td>\n      <td>10.5</td>\n      <td>1.6</td>\n      <td>1.0</td>\n      <td>0.7</td>\n      <td>1.9</td>\n      <td>2.3</td>\n      <td>13.4</td>\n    </tr>\n    <tr>\n      <th>20</th>\n      <td>Udoka Azubuike</td>\n      <td>C</td>\n      <td>24</td>\n      <td>PHO</td>\n      <td>12</td>\n      <td>0</td>\n      <td>8.5</td>\n      <td>1.3</td>\n      <td>1.8</td>\n      <td>.727</td>\n      <td>...</td>\n      <td>.273</td>\n      <td>0.9</td>\n      <td>1.7</td>\n      <td>2.6</td>\n      <td>0.3</td>\n      <td>0.0</td>\n      <td>0.5</td>\n      <td>0.3</td>\n      <td>1.4</td>\n      <td>2.9</td>\n    </tr>\n    <tr>\n      <th>21</th>\n      <td>Ibou Badji</td>\n      <td>C</td>\n      <td>21</td>\n      <td>POR</td>\n      <td>12</td>\n      <td>1</td>\n      <td>13.6</td>\n      <td>0.8</td>\n      <td>1.3</td>\n      <td>.600</td>\n      <td>...</td>\n      <td>.500</td>\n      <td>1.5</td>\n      <td>2.2</td>\n      <td>3.7</td>\n      <td>0.7</td>\n      <td>0.2</td>\n      <td>1.4</td>\n      <td>0.8</td>\n      <td>2.7</td>\n      <td>1.8</td>\n    </tr>\n    <tr>\n      <th>22</th>\n      <td>Marvin Bagley III</td>\n      <td>C</td>\n      <td>24</td>\n      <td>TOT</td>\n      <td>33</td>\n      <td>12</td>\n      <td>19.8</td>\n      <td>4.5</td>\n      <td>7.6</td>\n      <td>.594</td>\n      <td>...</td>\n      <td>.752</td>\n      <td>2.3</td>\n      <td>3.1</td>\n      <td>5.4</td>\n      <td>1.1</td>\n      <td>0.3</td>\n      <td>0.5</td>\n      <td>1.3</td>\n      <td>1.9</td>\n      <td>11.5</td>\n    </tr>\n    <tr>\n      <th>23</th>\n      <td>Marvin Bagley III</td>\n      <td>C</td>\n      <td>24</td>\n      <td>DET</td>\n      <td>26</td>\n      <td>10</td>\n      <td>18.4</td>\n      <td>4.1</td>\n      <td>7.0</td>\n      <td>.591</td>\n      <td>...</td>\n      <td>.820</td>\n      <td>1.8</td>\n      <td>2.8</td>\n      <td>4.5</td>\n      <td>1.0</td>\n      <td>0.2</td>\n      <td>0.5</td>\n      <td>1.1</td>\n      <td>1.5</td>\n      <td>10.2</td>\n    </tr>\n    <tr>\n      <th>24</th>\n      <td>Marvin Bagley III</td>\n      <td>C</td>\n      <td>24</td>\n      <td>WAS</td>\n      <td>7</td>\n      <td>2</td>\n      <td>24.9</td>\n      <td>6.0</td>\n      <td>10.0</td>\n      <td>.600</td>\n      <td>...</td>\n      <td>.659</td>\n      <td>4.3</td>\n      <td>4.1</td>\n      <td>8.4</td>\n      <td>1.3</td>\n      <td>0.7</td>\n      <td>0.4</td>\n      <td>2.1</td>\n      <td>3.3</td>\n      <td>16.3</td>\n    </tr>\n    <tr>\n      <th>25</th>\n      <td>Amari Bailey</td>\n      <td>PG</td>\n      <td>19</td>\n      <td>CHO</td>\n      <td>2</td>\n      <td>0</td>\n      <td>5.5</td>\n      <td>1.0</td>\n      <td>3.0</td>\n      <td>.333</td>\n      <td>...</td>\n      <td>.500</td>\n      <td>1.0</td>\n      <td>0.0</td>\n      <td>1.0</td>\n      <td>0.0</td>\n      <td>0.0</td>\n      <td>0.0</td>\n      <td>0.5</td>\n      <td>0.0</td>\n      <td>2.5</td>\n    </tr>\n    <tr>\n      <th>26</th>\n      <td>None</td>\n      <td>None</td>\n      <td>None</td>\n      <td>None</td>\n      <td>None</td>\n      <td>None</td>\n      <td>None</td>\n      <td>None</td>\n      <td>None</td>\n      <td>None</td>\n      <td>...</td>\n      <td>None</td>\n      <td>None</td>\n      <td>None</td>\n      <td>None</td>\n      <td>None</td>\n      <td>None</td>\n      <td>None</td>\n      <td>None</td>\n      <td>None</td>\n      <td>None</td>\n    </tr>\n    <tr>\n      <th>27</th>\n      <td>Patrick Baldwin Jr.</td>\n      <td>SF</td>\n      <td>21</td>\n      <td>WAS</td>\n      <td>15</td>\n      <td>0</td>\n      <td>6.9</td>\n      <td>0.9</td>\n      <td>2.1</td>\n      <td>.452</td>\n      <td>...</td>\n      <td>.700</td>\n      <td>0.3</td>\n      <td>1.6</td>\n      <td>1.9</td>\n      <td>0.4</td>\n      <td>0.1</td>\n      <td>0.2</td>\n      <td>0.3</td>\n      <td>1.1</td>\n      <td>2.9</td>\n    </tr>\n    <tr>\n      <th>28</th>\n      <td>LaMelo Ball</td>\n      <td>PG</td>\n      <td>22</td>\n      <td>CHO</td>\n      <td>22</td>\n      <td>22</td>\n      <td>32.3</td>\n      <td>8.3</td>\n      <td>19.2</td>\n      <td>.433</td>\n      <td>...</td>\n      <td>.865</td>\n      <td>1.3</td>\n      <td>3.8</td>\n      <td>5.1</td>\n      <td>8.0</td>\n      <td>1.8</td>\n      <td>0.2</td>\n      <td>3.8</td>\n      <td>3.6</td>\n      <td>23.9</td>\n    </tr>\n    <tr>\n      <th>29</th>\n      <td>Mo Bamba</td>\n      <td>C</td>\n      <td>25</td>\n      <td>PHI</td>\n      <td>25</td>\n      <td>0</td>\n      <td>9.3</td>\n      <td>1.6</td>\n      <td>3.0</td>\n      <td>.547</td>\n      <td>...</td>\n      <td>.667</td>\n      <td>1.3</td>\n      <td>1.8</td>\n      <td>3.1</td>\n      <td>0.6</td>\n      <td>0.4</td>\n      <td>0.9</td>\n      <td>0.6</td>\n      <td>1.4</td>\n      <td>4.2</td>\n    </tr>\n    <tr>\n      <th>30</th>\n      <td>Paolo Banchero</td>\n      <td>PF</td>\n      <td>21</td>\n      <td>ORL</td>\n      <td>47</td>\n      <td>47</td>\n      <td>34.9</td>\n      <td>8.1</td>\n      <td>18.0</td>\n      <td>.452</td>\n      <td>...</td>\n      <td>.695</td>\n      <td>1.2</td>\n      <td>5.8</td>\n      <td>7.0</td>\n      <td>5.0</td>\n      <td>1.0</td>\n      <td>0.6</td>\n      <td>3.1</td>\n      <td>2.1</td>\n      <td>23.0</td>\n    </tr>\n    <tr>\n      <th>31</th>\n      <td>Desmond Bane</td>\n      <td>SG</td>\n      <td>25</td>\n      <td>MEM</td>\n      <td>37</td>\n      <td>37</td>\n      <td>34.5</td>\n      <td>8.9</td>\n      <td>18.8</td>\n      <td>.474</td>\n      <td>...</td>\n      <td>.864</td>\n      <td>0.9</td>\n      <td>3.6</td>\n      <td>4.6</td>\n      <td>5.3</td>\n      <td>1.0</td>\n      <td>0.5</td>\n      <td>2.7</td>\n      <td>2.9</td>\n      <td>24.4</td>\n    </tr>\n    <tr>\n      <th>32</th>\n      <td>Dalano Banton</td>\n      <td>PG</td>\n      <td>24</td>\n      <td>BOS</td>\n      <td>22</td>\n      <td>1</td>\n      <td>7.4</td>\n      <td>0.9</td>\n      <td>2.1</td>\n      <td>.404</td>\n      <td>...</td>\n      <td>.778</td>\n      <td>0.5</td>\n      <td>1.0</td>\n      <td>1.5</td>\n      <td>0.7</td>\n      <td>0.2</td>\n      <td>0.1</td>\n      <td>0.5</td>\n      <td>0.9</td>\n      <td>2.5</td>\n    </tr>\n    <tr>\n      <th>33</th>\n      <td>Dominick Barlow</td>\n      <td>PF</td>\n      <td>20</td>\n      <td>SAS</td>\n      <td>21</td>\n      <td>1</td>\n      <td>13.1</td>\n      <td>1.7</td>\n      <td>3.6</td>\n      <td>.474</td>\n      <td>...</td>\n      <td>.615</td>\n      <td>1.2</td>\n      <td>2.1</td>\n      <td>3.3</td>\n      <td>1.2</td>\n      <td>0.4</td>\n      <td>0.5</td>\n      <td>0.2</td>\n      <td>1.5</td>\n      <td>4.3</td>\n    </tr>\n    <tr>\n      <th>34</th>\n      <td>Harrison Barnes</td>\n      <td>PF</td>\n      <td>31</td>\n      <td>SAC</td>\n      <td>45</td>\n      <td>45</td>\n      <td>29.7</td>\n      <td>4.0</td>\n      <td>8.4</td>\n      <td>.479</td>\n      <td>...</td>\n      <td>.827</td>\n      <td>0.8</td>\n      <td>2.1</td>\n      <td>2.9</td>\n      <td>1.3</td>\n      <td>0.7</td>\n      <td>0.2</td>\n      <td>0.7</td>\n      <td>1.2</td>\n      <td>11.9</td>\n    </tr>\n    <tr>\n      <th>35</th>\n      <td>Scottie Barnes</td>\n      <td>SG</td>\n      <td>22</td>\n      <td>TOR</td>\n      <td>47</td>\n      <td>47</td>\n      <td>35.2</td>\n      <td>7.5</td>\n      <td>15.8</td>\n      <td>.476</td>\n      <td>...</td>\n      <td>.766</td>\n      <td>2.2</td>\n      <td>5.9</td>\n      <td>8.2</td>\n      <td>5.8</td>\n      <td>1.3</td>\n      <td>1.5</td>\n      <td>2.7</td>\n      <td>2.0</td>\n      <td>20.2</td>\n    </tr>\n    <tr>\n      <th>36</th>\n      <td>RJ Barrett</td>\n      <td>SG</td>\n      <td>23</td>\n      <td>TOT</td>\n      <td>39</td>\n      <td>39</td>\n      <td>30.8</td>\n      <td>6.9</td>\n      <td>14.8</td>\n      <td>.465</td>\n      <td>...</td>\n      <td>.763</td>\n      <td>0.8</td>\n      <td>4.4</td>\n      <td>5.2</td>\n      <td>2.8</td>\n      <td>0.5</td>\n      <td>0.4</td>\n      <td>1.8</td>\n      <td>2.1</td>\n      <td>19.2</td>\n    </tr>\n    <tr>\n      <th>37</th>\n      <td>RJ Barrett</td>\n      <td>SG</td>\n      <td>23</td>\n      <td>NYK</td>\n      <td>26</td>\n      <td>26</td>\n      <td>29.5</td>\n      <td>6.3</td>\n      <td>14.9</td>\n      <td>.423</td>\n      <td>...</td>\n      <td>.831</td>\n      <td>0.7</td>\n      <td>3.5</td>\n      <td>4.3</td>\n      <td>2.4</td>\n      <td>0.5</td>\n      <td>0.3</td>\n      <td>1.8</td>\n      <td>1.7</td>\n      <td>18.2</td>\n    </tr>\n    <tr>\n      <th>38</th>\n      <td>RJ Barrett</td>\n      <td>SG</td>\n      <td>23</td>\n      <td>TOR</td>\n      <td>13</td>\n      <td>13</td>\n      <td>33.6</td>\n      <td>8.1</td>\n      <td>14.7</td>\n      <td>.550</td>\n      <td>...</td>\n      <td>.643</td>\n      <td>1.1</td>\n      <td>6.0</td>\n      <td>7.1</td>\n      <td>3.5</td>\n      <td>0.6</td>\n      <td>0.4</td>\n      <td>1.8</td>\n      <td>2.9</td>\n      <td>21.0</td>\n    </tr>\n    <tr>\n      <th>39</th>\n      <td>Charles Bassey</td>\n      <td>C</td>\n      <td>23</td>\n      <td>SAS</td>\n      <td>19</td>\n      <td>0</td>\n      <td>10.8</td>\n      <td>1.5</td>\n      <td>2.1</td>\n      <td>.725</td>\n      <td>...</td>\n      <td>.833</td>\n      <td>1.2</td>\n      <td>2.8</td>\n      <td>4.0</td>\n      <td>1.1</td>\n      <td>0.4</td>\n      <td>0.9</td>\n      <td>0.8</td>\n      <td>1.6</td>\n      <td>3.3</td>\n    </tr>\n    <tr>\n      <th>40</th>\n      <td>Emoni Bates</td>\n      <td>SF</td>\n      <td>20</td>\n      <td>CLE</td>\n      <td>10</td>\n      <td>0</td>\n      <td>7.6</td>\n      <td>0.6</td>\n      <td>2.5</td>\n      <td>.240</td>\n      <td>...</td>\n      <td>.500</td>\n      <td>0.1</td>\n      <td>0.9</td>\n      <td>1.0</td>\n      <td>0.6</td>\n      <td>0.1</td>\n      <td>0.2</td>\n      <td>0.1</td>\n      <td>0.5</td>\n      <td>1.8</td>\n    </tr>\n    <tr>\n      <th>41</th>\n      <td>Keita Bates-Diop</td>\n      <td>SF</td>\n      <td>28</td>\n      <td>PHO</td>\n      <td>36</td>\n      <td>8</td>\n      <td>15.6</td>\n      <td>1.6</td>\n      <td>3.9</td>\n      <td>.415</td>\n      <td>...</td>\n      <td>.722</td>\n      <td>0.8</td>\n      <td>1.8</td>\n      <td>2.6</td>\n      <td>0.9</td>\n      <td>0.6</td>\n      <td>0.5</td>\n      <td>0.3</td>\n      <td>0.9</td>\n      <td>4.5</td>\n    </tr>\n    <tr>\n      <th>42</th>\n      <td>Nicolas Batum</td>\n      <td>PF</td>\n      <td>35</td>\n      <td>TOT</td>\n      <td>34</td>\n      <td>27</td>\n      <td>24.9</td>\n      <td>2.1</td>\n      <td>4.0</td>\n      <td>.519</td>\n      <td>...</td>\n      <td>.643</td>\n      <td>1.2</td>\n      <td>2.6</td>\n      <td>3.9</td>\n      <td>2.3</td>\n      <td>0.7</td>\n      <td>0.7</td>\n      <td>0.6</td>\n      <td>2.0</td>\n      <td>5.7</td>\n    </tr>\n    <tr>\n      <th>43</th>\n      <td>Nicolas Batum</td>\n      <td>PF</td>\n      <td>35</td>\n      <td>LAC</td>\n      <td>3</td>\n      <td>0</td>\n      <td>18.0</td>\n      <td>1.0</td>\n      <td>2.7</td>\n      <td>.375</td>\n      <td>...</td>\n      <td></td>\n      <td>0.0</td>\n      <td>2.3</td>\n      <td>2.3</td>\n      <td>1.7</td>\n      <td>1.0</td>\n      <td>1.3</td>\n      <td>0.3</td>\n      <td>1.7</td>\n      <td>2.7</td>\n    </tr>\n    <tr>\n      <th>44</th>\n      <td>Nicolas Batum</td>\n      <td>PF</td>\n      <td>35</td>\n      <td>PHI</td>\n      <td>31</td>\n      <td>27</td>\n      <td>25.5</td>\n      <td>2.2</td>\n      <td>4.1</td>\n      <td>.528</td>\n      <td>...</td>\n      <td>.643</td>\n      <td>1.4</td>\n      <td>2.6</td>\n      <td>4.0</td>\n      <td>2.4</td>\n      <td>0.6</td>\n      <td>0.7</td>\n      <td>0.6</td>\n      <td>2.0</td>\n      <td>6.0</td>\n    </tr>\n    <tr>\n      <th>45</th>\n      <td>Bradley Beal</td>\n      <td>SG</td>\n      <td>30</td>\n      <td>PHO</td>\n      <td>23</td>\n      <td>23</td>\n      <td>33.0</td>\n      <td>7.0</td>\n      <td>14.2</td>\n      <td>.491</td>\n      <td>...</td>\n      <td>.738</td>\n      <td>0.8</td>\n      <td>3.5</td>\n      <td>4.3</td>\n      <td>4.3</td>\n      <td>0.8</td>\n      <td>0.3</td>\n      <td>2.3</td>\n      <td>2.8</td>\n      <td>17.5</td>\n    </tr>\n    <tr>\n      <th>46</th>\n      <td>Malik Beasley</td>\n      <td>SG</td>\n      <td>27</td>\n      <td>MIL</td>\n      <td>45</td>\n      <td>45</td>\n      <td>29.4</td>\n      <td>4.1</td>\n      <td>8.5</td>\n      <td>.477</td>\n      <td>...</td>\n      <td>.722</td>\n      <td>0.6</td>\n      <td>3.3</td>\n      <td>3.9</td>\n      <td>1.4</td>\n      <td>0.7</td>\n      <td>0.1</td>\n      <td>0.7</td>\n      <td>2.1</td>\n      <td>11.2</td>\n    </tr>\n    <tr>\n      <th>47</th>\n      <td>MarJon Beauchamp</td>\n      <td>SF</td>\n      <td>23</td>\n      <td>MIL</td>\n      <td>35</td>\n      <td>1</td>\n      <td>15.4</td>\n      <td>1.9</td>\n      <td>3.9</td>\n      <td>.486</td>\n      <td>...</td>\n      <td>.600</td>\n      <td>0.6</td>\n      <td>1.8</td>\n      <td>2.4</td>\n      <td>0.8</td>\n      <td>0.3</td>\n      <td>0.2</td>\n      <td>0.7</td>\n      <td>1.3</td>\n      <td>4.9</td>\n    </tr>\n    <tr>\n      <th>48</th>\n      <td>Jules Bernard</td>\n      <td>SG</td>\n      <td>24</td>\n      <td>WAS</td>\n      <td>4</td>\n      <td>0</td>\n      <td>4.0</td>\n      <td>0.3</td>\n      <td>2.3</td>\n      <td>.111</td>\n      <td>...</td>\n      <td></td>\n      <td>0.3</td>\n      <td>0.0</td>\n      <td>0.3</td>\n      <td>0.3</td>\n      <td>0.0</td>\n      <td>0.0</td>\n      <td>0.3</td>\n      <td>0.8</td>\n      <td>0.5</td>\n    </tr>\n    <tr>\n      <th>49</th>\n      <td>Dāvis Bertāns</td>\n      <td>PF</td>\n      <td>31</td>\n      <td>OKC</td>\n      <td>15</td>\n      <td>0</td>\n      <td>6.1</td>\n      <td>0.7</td>\n      <td>1.7</td>\n      <td>.385</td>\n      <td>...</td>\n      <td>.933</td>\n      <td>0.1</td>\n      <td>0.5</td>\n      <td>0.7</td>\n      <td>0.6</td>\n      <td>0.2</td>\n      <td>0.2</td>\n      <td>0.1</td>\n      <td>0.7</td>\n      <td>2.9</td>\n    </tr>\n  </tbody>\n</table>\n<p>50 rows × 29 columns</p>\n</div>"
     },
     "execution_count": 15,
     "metadata": {},
     "output_type": "execute_result"
    }
   ],
   "source": [
    "stats.head(50)"
   ],
   "metadata": {
    "collapsed": false,
    "ExecuteTime": {
     "end_time": "2024-01-31T17:08:18.859664700Z",
     "start_time": "2024-01-31T17:08:18.797500400Z"
    }
   },
   "id": "a3cf51df2d5b5b35",
   "execution_count": 15
  },
  {
   "cell_type": "code",
   "outputs": [],
   "source": [
    "pd.DataFrame.to_csv(stats,r'C:\\Users\\thabi\\Desktop\\scrapping_nba_data_with_bs4_and_requestsLib\\nba_stats_per_game.csv')"
   ],
   "metadata": {
    "collapsed": false,
    "ExecuteTime": {
     "end_time": "2024-01-31T17:08:18.876673Z",
     "start_time": "2024-01-31T17:08:18.827572800Z"
    }
   },
   "id": "7a8caf2061bd0a50",
   "execution_count": 16
  },
  {
   "cell_type": "code",
   "outputs": [],
   "source": [],
   "metadata": {
    "collapsed": false,
    "ExecuteTime": {
     "end_time": "2024-01-31T17:08:18.877668100Z",
     "start_time": "2024-01-31T17:08:18.841625Z"
    }
   },
   "id": "70e4ac55524d78a3",
   "execution_count": 16
  }
 ],
 "metadata": {
  "kernelspec": {
   "display_name": "Python 3",
   "language": "python",
   "name": "python3"
  },
  "language_info": {
   "codemirror_mode": {
    "name": "ipython",
    "version": 2
   },
   "file_extension": ".py",
   "mimetype": "text/x-python",
   "name": "python",
   "nbconvert_exporter": "python",
   "pygments_lexer": "ipython2",
   "version": "2.7.6"
  }
 },
 "nbformat": 4,
 "nbformat_minor": 5
}
