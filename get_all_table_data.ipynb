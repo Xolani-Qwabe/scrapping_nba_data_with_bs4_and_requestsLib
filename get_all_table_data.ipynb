{
 "cells": [
  {
   "cell_type": "code",
   "execution_count": 40,
   "id": "initial_id",
   "metadata": {
    "collapsed": true,
    "ExecuteTime": {
     "end_time": "2024-02-02T20:35:45.072189700Z",
     "start_time": "2024-02-02T20:35:43.682520300Z"
    }
   },
   "outputs": [],
   "source": [
    "import requests\n",
    "from bs4 import BeautifulSoup\n",
    "import pandas as pd\n",
    "\n",
    "url = 'https://www.basketball-reference.com/boxscores/202310240DEN.html'\n",
    "\n",
    "\n",
    "def get_page_data(url):\n",
    "    data_source = requests.get(url, headers={'User-Agent': 'Mozilla/5.0'})\n",
    "    return BeautifulSoup(data_source.content, 'html.parser')\n",
    "\n",
    "page = get_page_data(url)"
   ]
  },
  {
   "cell_type": "code",
   "outputs": [],
   "source": [
    "tables = page.find_all('table')\n",
    "basic_team_A = tables[0]\n",
    "advanced_team_A = tables[7]\n",
    "basic_team_H = tables[8]\n",
    "advanced_team_H = tables[15]"
   ],
   "metadata": {
    "collapsed": false,
    "ExecuteTime": {
     "end_time": "2024-02-02T20:35:45.095109200Z",
     "start_time": "2024-02-02T20:35:45.075550600Z"
    }
   },
   "id": "b3847d13bcdbbb68",
   "execution_count": 41
  },
  {
   "cell_type": "code",
   "outputs": [
    {
     "data": {
      "text/plain": "'LosAngelesLakersatDenverNuggetsBoxScore_October24_2023'"
     },
     "execution_count": 42,
     "metadata": {},
     "output_type": "execute_result"
    }
   ],
   "source": [
    "def get_game_details(page):\n",
    "    details = page.find(id='content').find('h1').get_text()\n",
    "    return details.replace(' ', '').replace(',','_')\n",
    "\n",
    "\n",
    "game_details = get_game_details(page)\n",
    "game_details"
   ],
   "metadata": {
    "collapsed": false,
    "ExecuteTime": {
     "end_time": "2024-02-02T20:35:45.114402500Z",
     "start_time": "2024-02-02T20:35:45.088939900Z"
    }
   },
   "id": "2e8e75b49784538c",
   "execution_count": 42
  },
  {
   "cell_type": "code",
   "outputs": [],
   "source": [
    "def get_basic_table_headers(table):\n",
    "    return [th.getText().split('\\n') for th in table.find_all('tr', limit=5)[1:2]][0][1:-1]"
   ],
   "metadata": {
    "collapsed": false,
    "ExecuteTime": {
     "end_time": "2024-02-02T20:35:45.115497400Z",
     "start_time": "2024-02-02T20:35:45.099608100Z"
    }
   },
   "id": "a93fa0f24fe1071b",
   "execution_count": 43
  },
  {
   "cell_type": "code",
   "outputs": [],
   "source": [],
   "metadata": {
    "collapsed": false,
    "ExecuteTime": {
     "end_time": "2024-02-02T20:35:45.115497400Z",
     "start_time": "2024-02-02T20:35:45.106079800Z"
    }
   },
   "id": "de23b0310652733c",
   "execution_count": 43
  },
  {
   "cell_type": "code",
   "outputs": [],
   "source": [
    "def get_Basic_table_rows(table):\n",
    "    return [td for td in table.find('tbody').find_all('tr')]\n",
    "\n"
   ],
   "metadata": {
    "collapsed": false,
    "ExecuteTime": {
     "end_time": "2024-02-02T20:35:45.116655Z",
     "start_time": "2024-02-02T20:35:45.109314100Z"
    }
   },
   "id": "39af30825554ae22",
   "execution_count": 44
  },
  {
   "cell_type": "code",
   "outputs": [],
   "source": [
    "def get_basic_table_data(rows):\n",
    "    player_stats = [[td.getText() for td in rows[i].find_all('td')]for i in range(len(rows))]\n",
    "    player_names = [[td.getText() for td in rows[i].find_all('a')]for i in range(len(rows))]\n",
    "    return player_names ,player_stats\n",
    "\n"
   ],
   "metadata": {
    "collapsed": false,
    "ExecuteTime": {
     "end_time": "2024-02-02T20:35:45.136134400Z",
     "start_time": "2024-02-02T20:35:45.118807200Z"
    }
   },
   "id": "27958d7b4c7a8b1d",
   "execution_count": 45
  },
  {
   "cell_type": "code",
   "outputs": [],
   "source": [
    "def make_basic_table_rows(player_names, player_stats):\n",
    "    player_names[5].insert(5, 'player')\n",
    "    for i in range(len(player_names)):\n",
    "        player = player_names[i][0]\n",
    "        (player_stats[i].insert(0,player))\n",
    "\n",
    "def make_basic_table_pandas(basic_table):\n",
    "    basic_table_player_names, basic_table_player_stats = get_basic_table_data(rows = get_Basic_table_rows(basic_table))\n",
    "    headers = get_basic_table_headers(basic_table)\n",
    "    make_basic_table_rows(basic_table_player_names, basic_table_player_stats)\n",
    "    return pd.DataFrame(basic_table_player_stats, columns=headers)\n",
    "    \n",
    "basic_table_home = make_basic_table_pandas(basic_team_H)\n",
    "basic_table_away = make_basic_table_pandas(basic_team_A)"
   ],
   "metadata": {
    "collapsed": false,
    "ExecuteTime": {
     "end_time": "2024-02-02T20:35:45.180592200Z",
     "start_time": "2024-02-02T20:35:45.127998600Z"
    }
   },
   "id": "c087d307f69e6f13",
   "execution_count": 46
  },
  {
   "cell_type": "code",
   "outputs": [
    {
     "data": {
      "text/plain": "            Starters     MP    FG   FGA   FG%    3P   3PA   3P%    FT   FTA  \\\n0   D'Angelo Russell  36:11     4    12  .333     2     5  .400     1     2   \n1      Anthony Davis  34:09     6    17  .353     1     2  .500     4     4   \n2      Austin Reaves  31:20     4    11  .364     1     2  .500     5     7   \n3     Taurean Prince  29:53     6     8  .750     4     6  .667     2     2   \n4       LeBron James  29:00    10    16  .625     1     4  .250     0     1   \n5             player   None  None  None  None  None  None  None  None  None   \n6       Gabe Vincent  22:18     3     8  .375     0     4  .000     0     0   \n7        Cam Reddish  17:38     2     4  .500     1     2  .500     2     2   \n8     Christian Wood  15:28     3     4  .750     0     1  .000     1     2   \n9      Rui Hachimura  14:39     3    10  .300     0     3  .000     0     0   \n10      Jaxson Hayes   6:54     0     0           0     0           0     0   \n11      Max Christie   1:15     0     0           0     0           0     0   \n12     Maxwell Lewis   1:15     0     0           0     0           0     0   \n\n    ...   ORB   DRB   TRB   AST   STL   BLK   TOV    PF   PTS   +/-  \n0   ...     0     4     4     7     1     0     3     3    11    +1  \n1   ...     1     7     8     4     0     2     2     3    17   -17  \n2   ...     4     4     8     4     2     0     2     2    14   -14  \n3   ...     1     2     3     1     0     1     1     0    18   -14  \n4   ...     1     7     8     5     1     0     0     1    21    +7  \n5   ...  None  None  None  None  None  None  None  None  None  None  \n6   ...     1     0     1     2     1     0     2     3     6   -17  \n7   ...     2     2     4     0     0     1     0     2     7    +7  \n8   ...     1     3     4     0     0     0     1     1     7    +2  \n9   ...     2     1     3     0     0     0     0     2     6    -8  \n10  ...     0     1     1     0     0     0     0     1     0    -7  \n11  ...     0     0     0     0     0     0     0     0     0     0  \n12  ...     0     0     0     0     0     0     0     0     0     0  \n\n[13 rows x 21 columns]",
      "text/html": "<div>\n<style scoped>\n    .dataframe tbody tr th:only-of-type {\n        vertical-align: middle;\n    }\n\n    .dataframe tbody tr th {\n        vertical-align: top;\n    }\n\n    .dataframe thead th {\n        text-align: right;\n    }\n</style>\n<table border=\"1\" class=\"dataframe\">\n  <thead>\n    <tr style=\"text-align: right;\">\n      <th></th>\n      <th>Starters</th>\n      <th>MP</th>\n      <th>FG</th>\n      <th>FGA</th>\n      <th>FG%</th>\n      <th>3P</th>\n      <th>3PA</th>\n      <th>3P%</th>\n      <th>FT</th>\n      <th>FTA</th>\n      <th>...</th>\n      <th>ORB</th>\n      <th>DRB</th>\n      <th>TRB</th>\n      <th>AST</th>\n      <th>STL</th>\n      <th>BLK</th>\n      <th>TOV</th>\n      <th>PF</th>\n      <th>PTS</th>\n      <th>+/-</th>\n    </tr>\n  </thead>\n  <tbody>\n    <tr>\n      <th>0</th>\n      <td>D'Angelo Russell</td>\n      <td>36:11</td>\n      <td>4</td>\n      <td>12</td>\n      <td>.333</td>\n      <td>2</td>\n      <td>5</td>\n      <td>.400</td>\n      <td>1</td>\n      <td>2</td>\n      <td>...</td>\n      <td>0</td>\n      <td>4</td>\n      <td>4</td>\n      <td>7</td>\n      <td>1</td>\n      <td>0</td>\n      <td>3</td>\n      <td>3</td>\n      <td>11</td>\n      <td>+1</td>\n    </tr>\n    <tr>\n      <th>1</th>\n      <td>Anthony Davis</td>\n      <td>34:09</td>\n      <td>6</td>\n      <td>17</td>\n      <td>.353</td>\n      <td>1</td>\n      <td>2</td>\n      <td>.500</td>\n      <td>4</td>\n      <td>4</td>\n      <td>...</td>\n      <td>1</td>\n      <td>7</td>\n      <td>8</td>\n      <td>4</td>\n      <td>0</td>\n      <td>2</td>\n      <td>2</td>\n      <td>3</td>\n      <td>17</td>\n      <td>-17</td>\n    </tr>\n    <tr>\n      <th>2</th>\n      <td>Austin Reaves</td>\n      <td>31:20</td>\n      <td>4</td>\n      <td>11</td>\n      <td>.364</td>\n      <td>1</td>\n      <td>2</td>\n      <td>.500</td>\n      <td>5</td>\n      <td>7</td>\n      <td>...</td>\n      <td>4</td>\n      <td>4</td>\n      <td>8</td>\n      <td>4</td>\n      <td>2</td>\n      <td>0</td>\n      <td>2</td>\n      <td>2</td>\n      <td>14</td>\n      <td>-14</td>\n    </tr>\n    <tr>\n      <th>3</th>\n      <td>Taurean Prince</td>\n      <td>29:53</td>\n      <td>6</td>\n      <td>8</td>\n      <td>.750</td>\n      <td>4</td>\n      <td>6</td>\n      <td>.667</td>\n      <td>2</td>\n      <td>2</td>\n      <td>...</td>\n      <td>1</td>\n      <td>2</td>\n      <td>3</td>\n      <td>1</td>\n      <td>0</td>\n      <td>1</td>\n      <td>1</td>\n      <td>0</td>\n      <td>18</td>\n      <td>-14</td>\n    </tr>\n    <tr>\n      <th>4</th>\n      <td>LeBron James</td>\n      <td>29:00</td>\n      <td>10</td>\n      <td>16</td>\n      <td>.625</td>\n      <td>1</td>\n      <td>4</td>\n      <td>.250</td>\n      <td>0</td>\n      <td>1</td>\n      <td>...</td>\n      <td>1</td>\n      <td>7</td>\n      <td>8</td>\n      <td>5</td>\n      <td>1</td>\n      <td>0</td>\n      <td>0</td>\n      <td>1</td>\n      <td>21</td>\n      <td>+7</td>\n    </tr>\n    <tr>\n      <th>5</th>\n      <td>player</td>\n      <td>None</td>\n      <td>None</td>\n      <td>None</td>\n      <td>None</td>\n      <td>None</td>\n      <td>None</td>\n      <td>None</td>\n      <td>None</td>\n      <td>None</td>\n      <td>...</td>\n      <td>None</td>\n      <td>None</td>\n      <td>None</td>\n      <td>None</td>\n      <td>None</td>\n      <td>None</td>\n      <td>None</td>\n      <td>None</td>\n      <td>None</td>\n      <td>None</td>\n    </tr>\n    <tr>\n      <th>6</th>\n      <td>Gabe Vincent</td>\n      <td>22:18</td>\n      <td>3</td>\n      <td>8</td>\n      <td>.375</td>\n      <td>0</td>\n      <td>4</td>\n      <td>.000</td>\n      <td>0</td>\n      <td>0</td>\n      <td>...</td>\n      <td>1</td>\n      <td>0</td>\n      <td>1</td>\n      <td>2</td>\n      <td>1</td>\n      <td>0</td>\n      <td>2</td>\n      <td>3</td>\n      <td>6</td>\n      <td>-17</td>\n    </tr>\n    <tr>\n      <th>7</th>\n      <td>Cam Reddish</td>\n      <td>17:38</td>\n      <td>2</td>\n      <td>4</td>\n      <td>.500</td>\n      <td>1</td>\n      <td>2</td>\n      <td>.500</td>\n      <td>2</td>\n      <td>2</td>\n      <td>...</td>\n      <td>2</td>\n      <td>2</td>\n      <td>4</td>\n      <td>0</td>\n      <td>0</td>\n      <td>1</td>\n      <td>0</td>\n      <td>2</td>\n      <td>7</td>\n      <td>+7</td>\n    </tr>\n    <tr>\n      <th>8</th>\n      <td>Christian Wood</td>\n      <td>15:28</td>\n      <td>3</td>\n      <td>4</td>\n      <td>.750</td>\n      <td>0</td>\n      <td>1</td>\n      <td>.000</td>\n      <td>1</td>\n      <td>2</td>\n      <td>...</td>\n      <td>1</td>\n      <td>3</td>\n      <td>4</td>\n      <td>0</td>\n      <td>0</td>\n      <td>0</td>\n      <td>1</td>\n      <td>1</td>\n      <td>7</td>\n      <td>+2</td>\n    </tr>\n    <tr>\n      <th>9</th>\n      <td>Rui Hachimura</td>\n      <td>14:39</td>\n      <td>3</td>\n      <td>10</td>\n      <td>.300</td>\n      <td>0</td>\n      <td>3</td>\n      <td>.000</td>\n      <td>0</td>\n      <td>0</td>\n      <td>...</td>\n      <td>2</td>\n      <td>1</td>\n      <td>3</td>\n      <td>0</td>\n      <td>0</td>\n      <td>0</td>\n      <td>0</td>\n      <td>2</td>\n      <td>6</td>\n      <td>-8</td>\n    </tr>\n    <tr>\n      <th>10</th>\n      <td>Jaxson Hayes</td>\n      <td>6:54</td>\n      <td>0</td>\n      <td>0</td>\n      <td></td>\n      <td>0</td>\n      <td>0</td>\n      <td></td>\n      <td>0</td>\n      <td>0</td>\n      <td>...</td>\n      <td>0</td>\n      <td>1</td>\n      <td>1</td>\n      <td>0</td>\n      <td>0</td>\n      <td>0</td>\n      <td>0</td>\n      <td>1</td>\n      <td>0</td>\n      <td>-7</td>\n    </tr>\n    <tr>\n      <th>11</th>\n      <td>Max Christie</td>\n      <td>1:15</td>\n      <td>0</td>\n      <td>0</td>\n      <td></td>\n      <td>0</td>\n      <td>0</td>\n      <td></td>\n      <td>0</td>\n      <td>0</td>\n      <td>...</td>\n      <td>0</td>\n      <td>0</td>\n      <td>0</td>\n      <td>0</td>\n      <td>0</td>\n      <td>0</td>\n      <td>0</td>\n      <td>0</td>\n      <td>0</td>\n      <td>0</td>\n    </tr>\n    <tr>\n      <th>12</th>\n      <td>Maxwell Lewis</td>\n      <td>1:15</td>\n      <td>0</td>\n      <td>0</td>\n      <td></td>\n      <td>0</td>\n      <td>0</td>\n      <td></td>\n      <td>0</td>\n      <td>0</td>\n      <td>...</td>\n      <td>0</td>\n      <td>0</td>\n      <td>0</td>\n      <td>0</td>\n      <td>0</td>\n      <td>0</td>\n      <td>0</td>\n      <td>0</td>\n      <td>0</td>\n      <td>0</td>\n    </tr>\n  </tbody>\n</table>\n<p>13 rows × 21 columns</p>\n</div>"
     },
     "execution_count": 47,
     "metadata": {},
     "output_type": "execute_result"
    }
   ],
   "source": [
    "basic_table_away"
   ],
   "metadata": {
    "collapsed": false,
    "ExecuteTime": {
     "end_time": "2024-02-02T20:35:45.181762800Z",
     "start_time": "2024-02-02T20:35:45.142141500Z"
    }
   },
   "id": "8426de11ac8be0ac",
   "execution_count": 47
  },
  {
   "cell_type": "code",
   "outputs": [
    {
     "data": {
      "text/plain": "                    Starters            MP    FG   FGA    FG%    3P   3PA  \\\n0               Nikola Jokić         36:16    12    22   .545     3     5   \n1   Kentavious Caldwell-Pope         36:15     8    12   .667     2     3   \n2               Aaron Gordon         34:59     7    11   .636     1     2   \n3               Jamal Murray         34:15     8    13   .615     3     5   \n4         Michael Porter Jr.         30:08     5    13   .385     2     9   \n5                     player          None  None  None   None  None  None   \n6             Reggie Jackson         24:04     3     8   .375     2     5   \n7            Christian Braun         19:20     2     5   .400     0     1   \n8                 Zeke Nnaji         11:44     1     3   .333     0     1   \n9              Peyton Watson         10:50     1     3   .333     1     3   \n10             Jalen Pickett          0:43     1     1  1.000     0     0   \n11          Collin Gillespie          0:43     0     0            0     0   \n12               Braxton Key          0:43     0     0            0     0   \n13            Justin Holiday  Did Not Play  None  None   None  None  None   \n14            DeAndre Jordan  Did Not Play  None  None   None  None  None   \n15          Julian Strawther  Did Not Play  None  None   None  None  None   \n\n     3P%    FT   FTA  ...   ORB   DRB   TRB   AST   STL   BLK   TOV    PF  \\\n0   .600     2     4  ...     3    10    13    11     1     1     2     2   \n1   .667     2     2  ...     1     1     2     1     3     1     3     5   \n2   .500     0     0  ...     2     5     7     5     2     1     0     0   \n3   .600     2     2  ...     0     2     2     6     0     1     1     3   \n4   .222     0     0  ...     2    10    12     2     2     0     0     1   \n5   None  None  None  ...  None  None  None  None  None  None  None  None   \n6   .400     0     0  ...     0     3     3     1     1     0     2     0   \n7   .000     1     2  ...     1     2     3     2     0     1     1     1   \n8   .000     2     2  ...     0     0     0     1     0     0     1     2   \n9   .333     0     0  ...     0     0     0     0     0     1     1     1   \n10           0     0  ...     0     0     0     0     0     0     0     0   \n11           0     0  ...     0     0     0     0     0     0     0     0   \n12           0     0  ...     0     0     0     0     0     0     0     0   \n13  None  None  None  ...  None  None  None  None  None  None  None  None   \n14  None  None  None  ...  None  None  None  None  None  None  None  None   \n15  None  None  None  ...  None  None  None  None  None  None  None  None   \n\n     PTS   +/-  \n0     29   +15  \n1     20   +10  \n2     15    +6  \n3     21    +3  \n4     12   +12  \n5   None  None  \n6      8   +11  \n7      5    +5  \n8      4    -3  \n9      3    +1  \n10     2     0  \n11     0     0  \n12     0     0  \n13  None  None  \n14  None  None  \n15  None  None  \n\n[16 rows x 21 columns]",
      "text/html": "<div>\n<style scoped>\n    .dataframe tbody tr th:only-of-type {\n        vertical-align: middle;\n    }\n\n    .dataframe tbody tr th {\n        vertical-align: top;\n    }\n\n    .dataframe thead th {\n        text-align: right;\n    }\n</style>\n<table border=\"1\" class=\"dataframe\">\n  <thead>\n    <tr style=\"text-align: right;\">\n      <th></th>\n      <th>Starters</th>\n      <th>MP</th>\n      <th>FG</th>\n      <th>FGA</th>\n      <th>FG%</th>\n      <th>3P</th>\n      <th>3PA</th>\n      <th>3P%</th>\n      <th>FT</th>\n      <th>FTA</th>\n      <th>...</th>\n      <th>ORB</th>\n      <th>DRB</th>\n      <th>TRB</th>\n      <th>AST</th>\n      <th>STL</th>\n      <th>BLK</th>\n      <th>TOV</th>\n      <th>PF</th>\n      <th>PTS</th>\n      <th>+/-</th>\n    </tr>\n  </thead>\n  <tbody>\n    <tr>\n      <th>0</th>\n      <td>Nikola Jokić</td>\n      <td>36:16</td>\n      <td>12</td>\n      <td>22</td>\n      <td>.545</td>\n      <td>3</td>\n      <td>5</td>\n      <td>.600</td>\n      <td>2</td>\n      <td>4</td>\n      <td>...</td>\n      <td>3</td>\n      <td>10</td>\n      <td>13</td>\n      <td>11</td>\n      <td>1</td>\n      <td>1</td>\n      <td>2</td>\n      <td>2</td>\n      <td>29</td>\n      <td>+15</td>\n    </tr>\n    <tr>\n      <th>1</th>\n      <td>Kentavious Caldwell-Pope</td>\n      <td>36:15</td>\n      <td>8</td>\n      <td>12</td>\n      <td>.667</td>\n      <td>2</td>\n      <td>3</td>\n      <td>.667</td>\n      <td>2</td>\n      <td>2</td>\n      <td>...</td>\n      <td>1</td>\n      <td>1</td>\n      <td>2</td>\n      <td>1</td>\n      <td>3</td>\n      <td>1</td>\n      <td>3</td>\n      <td>5</td>\n      <td>20</td>\n      <td>+10</td>\n    </tr>\n    <tr>\n      <th>2</th>\n      <td>Aaron Gordon</td>\n      <td>34:59</td>\n      <td>7</td>\n      <td>11</td>\n      <td>.636</td>\n      <td>1</td>\n      <td>2</td>\n      <td>.500</td>\n      <td>0</td>\n      <td>0</td>\n      <td>...</td>\n      <td>2</td>\n      <td>5</td>\n      <td>7</td>\n      <td>5</td>\n      <td>2</td>\n      <td>1</td>\n      <td>0</td>\n      <td>0</td>\n      <td>15</td>\n      <td>+6</td>\n    </tr>\n    <tr>\n      <th>3</th>\n      <td>Jamal Murray</td>\n      <td>34:15</td>\n      <td>8</td>\n      <td>13</td>\n      <td>.615</td>\n      <td>3</td>\n      <td>5</td>\n      <td>.600</td>\n      <td>2</td>\n      <td>2</td>\n      <td>...</td>\n      <td>0</td>\n      <td>2</td>\n      <td>2</td>\n      <td>6</td>\n      <td>0</td>\n      <td>1</td>\n      <td>1</td>\n      <td>3</td>\n      <td>21</td>\n      <td>+3</td>\n    </tr>\n    <tr>\n      <th>4</th>\n      <td>Michael Porter Jr.</td>\n      <td>30:08</td>\n      <td>5</td>\n      <td>13</td>\n      <td>.385</td>\n      <td>2</td>\n      <td>9</td>\n      <td>.222</td>\n      <td>0</td>\n      <td>0</td>\n      <td>...</td>\n      <td>2</td>\n      <td>10</td>\n      <td>12</td>\n      <td>2</td>\n      <td>2</td>\n      <td>0</td>\n      <td>0</td>\n      <td>1</td>\n      <td>12</td>\n      <td>+12</td>\n    </tr>\n    <tr>\n      <th>5</th>\n      <td>player</td>\n      <td>None</td>\n      <td>None</td>\n      <td>None</td>\n      <td>None</td>\n      <td>None</td>\n      <td>None</td>\n      <td>None</td>\n      <td>None</td>\n      <td>None</td>\n      <td>...</td>\n      <td>None</td>\n      <td>None</td>\n      <td>None</td>\n      <td>None</td>\n      <td>None</td>\n      <td>None</td>\n      <td>None</td>\n      <td>None</td>\n      <td>None</td>\n      <td>None</td>\n    </tr>\n    <tr>\n      <th>6</th>\n      <td>Reggie Jackson</td>\n      <td>24:04</td>\n      <td>3</td>\n      <td>8</td>\n      <td>.375</td>\n      <td>2</td>\n      <td>5</td>\n      <td>.400</td>\n      <td>0</td>\n      <td>0</td>\n      <td>...</td>\n      <td>0</td>\n      <td>3</td>\n      <td>3</td>\n      <td>1</td>\n      <td>1</td>\n      <td>0</td>\n      <td>2</td>\n      <td>0</td>\n      <td>8</td>\n      <td>+11</td>\n    </tr>\n    <tr>\n      <th>7</th>\n      <td>Christian Braun</td>\n      <td>19:20</td>\n      <td>2</td>\n      <td>5</td>\n      <td>.400</td>\n      <td>0</td>\n      <td>1</td>\n      <td>.000</td>\n      <td>1</td>\n      <td>2</td>\n      <td>...</td>\n      <td>1</td>\n      <td>2</td>\n      <td>3</td>\n      <td>2</td>\n      <td>0</td>\n      <td>1</td>\n      <td>1</td>\n      <td>1</td>\n      <td>5</td>\n      <td>+5</td>\n    </tr>\n    <tr>\n      <th>8</th>\n      <td>Zeke Nnaji</td>\n      <td>11:44</td>\n      <td>1</td>\n      <td>3</td>\n      <td>.333</td>\n      <td>0</td>\n      <td>1</td>\n      <td>.000</td>\n      <td>2</td>\n      <td>2</td>\n      <td>...</td>\n      <td>0</td>\n      <td>0</td>\n      <td>0</td>\n      <td>1</td>\n      <td>0</td>\n      <td>0</td>\n      <td>1</td>\n      <td>2</td>\n      <td>4</td>\n      <td>-3</td>\n    </tr>\n    <tr>\n      <th>9</th>\n      <td>Peyton Watson</td>\n      <td>10:50</td>\n      <td>1</td>\n      <td>3</td>\n      <td>.333</td>\n      <td>1</td>\n      <td>3</td>\n      <td>.333</td>\n      <td>0</td>\n      <td>0</td>\n      <td>...</td>\n      <td>0</td>\n      <td>0</td>\n      <td>0</td>\n      <td>0</td>\n      <td>0</td>\n      <td>1</td>\n      <td>1</td>\n      <td>1</td>\n      <td>3</td>\n      <td>+1</td>\n    </tr>\n    <tr>\n      <th>10</th>\n      <td>Jalen Pickett</td>\n      <td>0:43</td>\n      <td>1</td>\n      <td>1</td>\n      <td>1.000</td>\n      <td>0</td>\n      <td>0</td>\n      <td></td>\n      <td>0</td>\n      <td>0</td>\n      <td>...</td>\n      <td>0</td>\n      <td>0</td>\n      <td>0</td>\n      <td>0</td>\n      <td>0</td>\n      <td>0</td>\n      <td>0</td>\n      <td>0</td>\n      <td>2</td>\n      <td>0</td>\n    </tr>\n    <tr>\n      <th>11</th>\n      <td>Collin Gillespie</td>\n      <td>0:43</td>\n      <td>0</td>\n      <td>0</td>\n      <td></td>\n      <td>0</td>\n      <td>0</td>\n      <td></td>\n      <td>0</td>\n      <td>0</td>\n      <td>...</td>\n      <td>0</td>\n      <td>0</td>\n      <td>0</td>\n      <td>0</td>\n      <td>0</td>\n      <td>0</td>\n      <td>0</td>\n      <td>0</td>\n      <td>0</td>\n      <td>0</td>\n    </tr>\n    <tr>\n      <th>12</th>\n      <td>Braxton Key</td>\n      <td>0:43</td>\n      <td>0</td>\n      <td>0</td>\n      <td></td>\n      <td>0</td>\n      <td>0</td>\n      <td></td>\n      <td>0</td>\n      <td>0</td>\n      <td>...</td>\n      <td>0</td>\n      <td>0</td>\n      <td>0</td>\n      <td>0</td>\n      <td>0</td>\n      <td>0</td>\n      <td>0</td>\n      <td>0</td>\n      <td>0</td>\n      <td>0</td>\n    </tr>\n    <tr>\n      <th>13</th>\n      <td>Justin Holiday</td>\n      <td>Did Not Play</td>\n      <td>None</td>\n      <td>None</td>\n      <td>None</td>\n      <td>None</td>\n      <td>None</td>\n      <td>None</td>\n      <td>None</td>\n      <td>None</td>\n      <td>...</td>\n      <td>None</td>\n      <td>None</td>\n      <td>None</td>\n      <td>None</td>\n      <td>None</td>\n      <td>None</td>\n      <td>None</td>\n      <td>None</td>\n      <td>None</td>\n      <td>None</td>\n    </tr>\n    <tr>\n      <th>14</th>\n      <td>DeAndre Jordan</td>\n      <td>Did Not Play</td>\n      <td>None</td>\n      <td>None</td>\n      <td>None</td>\n      <td>None</td>\n      <td>None</td>\n      <td>None</td>\n      <td>None</td>\n      <td>None</td>\n      <td>...</td>\n      <td>None</td>\n      <td>None</td>\n      <td>None</td>\n      <td>None</td>\n      <td>None</td>\n      <td>None</td>\n      <td>None</td>\n      <td>None</td>\n      <td>None</td>\n      <td>None</td>\n    </tr>\n    <tr>\n      <th>15</th>\n      <td>Julian Strawther</td>\n      <td>Did Not Play</td>\n      <td>None</td>\n      <td>None</td>\n      <td>None</td>\n      <td>None</td>\n      <td>None</td>\n      <td>None</td>\n      <td>None</td>\n      <td>None</td>\n      <td>...</td>\n      <td>None</td>\n      <td>None</td>\n      <td>None</td>\n      <td>None</td>\n      <td>None</td>\n      <td>None</td>\n      <td>None</td>\n      <td>None</td>\n      <td>None</td>\n      <td>None</td>\n    </tr>\n  </tbody>\n</table>\n<p>16 rows × 21 columns</p>\n</div>"
     },
     "execution_count": 48,
     "metadata": {},
     "output_type": "execute_result"
    }
   ],
   "source": [
    "basic_table_home"
   ],
   "metadata": {
    "collapsed": false,
    "ExecuteTime": {
     "end_time": "2024-02-02T20:35:45.247432300Z",
     "start_time": "2024-02-02T20:35:45.172826200Z"
    }
   },
   "id": "7c3100164d234a5e",
   "execution_count": 48
  },
  {
   "cell_type": "code",
   "outputs": [],
   "source": [
    "def write_basic_tables_to_file(details,basic_table_home,basic_table_away):\n",
    "    path = './box_score_tables_csv'\n",
    "    home_path = f'{path}/basic_table_H_{details}.csv'\n",
    "    away_path = f'{path}/basic_table_A_{details}.csv'\n",
    "    pd.DataFrame.to_csv(basic_table_home,home_path)\n",
    "    pd.DataFrame.to_csv(basic_table_away,away_path)"
   ],
   "metadata": {
    "collapsed": false,
    "ExecuteTime": {
     "end_time": "2024-02-02T20:35:45.248531200Z",
     "start_time": "2024-02-02T20:35:45.197256200Z"
    }
   },
   "id": "2fa369794a3babbc",
   "execution_count": 49
  },
  {
   "cell_type": "code",
   "outputs": [
    {
     "name": "stdout",
     "output_type": "stream",
     "text": [
      "./box_score_tables_csv/basic_table_H_LosAngelesLakersatDenverNuggetsBoxScore_October24_2023.csv\n",
      "./box_score_tables_csv/basic_table_A_LosAngelesLakersatDenverNuggetsBoxScore_October24_2023.csv\n"
     ]
    }
   ],
   "source": [
    "write_basic_tables_to_file(details=game_details,basic_table_home=basic_table_home,basic_table_away=basic_table_away)"
   ],
   "metadata": {
    "collapsed": false,
    "ExecuteTime": {
     "end_time": "2024-02-02T20:35:45.249596Z",
     "start_time": "2024-02-02T20:35:45.203442300Z"
    }
   },
   "id": "8560d99bcd24dc7f",
   "execution_count": 50
  },
  {
   "cell_type": "code",
   "outputs": [],
   "source": [],
   "metadata": {
    "collapsed": false,
    "ExecuteTime": {
     "end_time": "2024-02-02T20:35:45.297422500Z",
     "start_time": "2024-02-02T20:35:45.217647300Z"
    }
   },
   "id": "8ba6d7a058698b55",
   "execution_count": 50
  }
 ],
 "metadata": {
  "kernelspec": {
   "display_name": "Python 3",
   "language": "python",
   "name": "python3"
  },
  "language_info": {
   "codemirror_mode": {
    "name": "ipython",
    "version": 2
   },
   "file_extension": ".py",
   "mimetype": "text/x-python",
   "name": "python",
   "nbconvert_exporter": "python",
   "pygments_lexer": "ipython2",
   "version": "2.7.6"
  }
 },
 "nbformat": 4,
 "nbformat_minor": 5
}
