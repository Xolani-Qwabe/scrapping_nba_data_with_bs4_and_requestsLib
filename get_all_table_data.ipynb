{
 "cells": [
  {
   "cell_type": "code",
   "execution_count": 29,
   "id": "initial_id",
   "metadata": {
    "collapsed": true,
    "ExecuteTime": {
     "end_time": "2024-02-02T12:04:32.773573600Z",
     "start_time": "2024-02-02T12:04:31.370740Z"
    }
   },
   "outputs": [],
   "source": [
    "import requests\n",
    "from bs4 import BeautifulSoup\n",
    "import pandas as pd\n",
    "\n",
    "url = 'https://www.basketball-reference.com/boxscores/202310240DEN.html'\n",
    "data_source = requests.get(url, headers={'User-Agent': 'Mozilla/5.0'})\n",
    "page = BeautifulSoup(data_source.content, 'html.parser')"
   ]
  },
  {
   "cell_type": "code",
   "outputs": [],
   "source": [
    "tables = page.find_all('table')\n",
    "basic_team_A = tables[0]\n",
    "advanced_team_A = tables[7]\n",
    "basic_team_B = tables[8]\n",
    "advanced_team_B = tables[15]"
   ],
   "metadata": {
    "collapsed": false,
    "ExecuteTime": {
     "end_time": "2024-02-02T12:04:32.788806900Z",
     "start_time": "2024-02-02T12:04:32.778003200Z"
    }
   },
   "id": "b3847d13bcdbbb68",
   "execution_count": 30
  },
  {
   "cell_type": "code",
   "outputs": [],
   "source": [
    "game_details = page.find(id='content').find('h1').get_text()"
   ],
   "metadata": {
    "collapsed": false,
    "ExecuteTime": {
     "end_time": "2024-02-02T12:04:32.796076Z",
     "start_time": "2024-02-02T12:04:32.788806900Z"
    }
   },
   "id": "2e8e75b49784538c",
   "execution_count": 31
  },
  {
   "cell_type": "code",
   "outputs": [
    {
     "data": {
      "text/plain": "'Los Angeles Lakers at Denver Nuggets Box Score, October 24, 2023'"
     },
     "execution_count": 32,
     "metadata": {},
     "output_type": "execute_result"
    }
   ],
   "source": [
    "game_details"
   ],
   "metadata": {
    "collapsed": false,
    "ExecuteTime": {
     "end_time": "2024-02-02T12:04:32.844723Z",
     "start_time": "2024-02-02T12:04:32.800301100Z"
    }
   },
   "id": "c5d3ed68db77ac72",
   "execution_count": 32
  },
  {
   "cell_type": "code",
   "outputs": [],
   "source": [],
   "metadata": {
    "collapsed": false,
    "ExecuteTime": {
     "end_time": "2024-02-02T12:04:32.846237800Z",
     "start_time": "2024-02-02T12:04:32.806483900Z"
    }
   },
   "id": "6e46016026272290",
   "execution_count": 32
  }
 ],
 "metadata": {
  "kernelspec": {
   "display_name": "Python 3",
   "language": "python",
   "name": "python3"
  },
  "language_info": {
   "codemirror_mode": {
    "name": "ipython",
    "version": 2
   },
   "file_extension": ".py",
   "mimetype": "text/x-python",
   "name": "python",
   "nbconvert_exporter": "python",
   "pygments_lexer": "ipython2",
   "version": "2.7.6"
  }
 },
 "nbformat": 4,
 "nbformat_minor": 5
}
