{
 "cells": [
  {
   "cell_type": "code",
   "outputs": [],
   "source": [],
   "metadata": {
    "collapsed": false,
    "ExecuteTime": {
     "end_time": "2024-02-03T08:56:43.378971Z",
     "start_time": "2024-02-03T08:56:43.370857600Z"
    }
   },
   "id": "9eaca9a84dc4d5f1",
   "execution_count": 20
  },
  {
   "cell_type": "code",
   "outputs": [],
   "source": [
    "import requests\n",
    "from bs4 import BeautifulSoup\n",
    "import pandas as pd\n",
    "\n",
    "url = 'https://www.basketball-reference.com/boxscores/202310240DEN.html'\n",
    "\n",
    "\n",
    "def get_page_data(url):\n",
    "    data_source = requests.get(url, headers={'User-Agent': 'Mozilla/5.0'})\n",
    "    return BeautifulSoup(data_source.content, 'html.parser')\n",
    "\n",
    "\n",
    "page = get_page_data(url)\n",
    "\n",
    "# returns a list/tuple with basic_home_table, advanced_home_table, basic_away_table, advanced_away_table\n",
    "def get_tables(page):\n",
    "    tables = page.find_all('table')\n",
    "    return tables[8],tables[15],tables[0],tables[7]\n",
    "\n",
    "# %%\n",
    "def get_game_details(page):\n",
    "    details = page.find(id='content').find('h1').get_text()\n",
    "    return details.replace(' ', '').replace(',', '_')\n",
    "\n",
    "\n",
    "game_details = get_game_details(page)\n",
    "game_details\n",
    "\n",
    "\n",
    "# %%\n",
    "def get_basic_table_headers(table):\n",
    "    return [th.getText().split('\\n') for th in table.find_all('tr', limit=5)[1:2]][0][1:-1]\n",
    "\n",
    "\n",
    "# %%\n",
    "def get_advanced_table_headers(table):\n",
    "    headers = [th.getText().split('\\n') for th in table.find_all('tr')[1]]\n",
    "    clean = [header for header in headers if header != ['', '']]\n",
    "    return [item for new_array in clean for item in new_array]\n",
    "\n",
    "\n",
    "# %%\n",
    "def get_table_rows(table):\n",
    "    return [td for td in table.find('tbody').find_all('tr')]\n",
    "\n",
    "\n",
    "# %% md\n",
    "\n",
    "# %%\n",
    "\n",
    "def get_table_data(rows):\n",
    "    player_stats = [[td.getText() for td in rows[i].find_all('td')] for i in range(len(rows))]\n",
    "    player_names = [[td.getText() for td in rows[i].find_all('a')] for i in range(len(rows))]\n",
    "    return player_names, player_stats\n",
    "\n",
    "\n",
    "# %%\n",
    "def make_table_rows(player_names, player_stats):\n",
    "    player_names[5].insert(5, 'player')\n",
    "    for i in range(len(player_names)):\n",
    "        player = player_names[i][0]\n",
    "        (player_stats[i].insert(0, player))\n",
    "\n",
    "\n",
    "def make_basic_table_pandas(basic_table):\n",
    "    player_names, player_stats = get_table_data(rows=get_table_rows(basic_table))\n",
    "    headers = get_basic_table_headers(basic_table)\n",
    "    make_table_rows(player_names, player_stats)\n",
    "    return pd.DataFrame(player_stats, columns=headers)\n",
    "\n",
    "\n",
    "\n",
    "# %%\n",
    "def make_advanced_table_pandas(adv_table):\n",
    "    player_names, player_stats = get_table_data(rows=get_table_rows(adv_table))\n",
    "    headers = get_advanced_table_headers(adv_table)\n",
    "    make_table_rows(player_names, player_stats)\n",
    "    return pd.DataFrame(player_stats, columns=headers)\n",
    "\n",
    "# %%\n",
    "def write_basic_tables_to_file(details, basic_table_home, basic_table_away):\n",
    "    path = './box_score_tables_csv'\n",
    "    home_path = f'{path}/basic_table_H_{details}.csv'\n",
    "    away_path = f'{path}/basic_table_A_{details}.csv'\n",
    "    pd.DataFrame.to_csv(basic_table_home, home_path)\n",
    "    pd.DataFrame.to_csv(basic_table_away, away_path)\n",
    "\n",
    "\n",
    "# %%\n",
    "def write_advanced_tables_to_file(details, adv_table_home, adv_table_away):\n",
    "    path = './box_score_tables_csv'\n",
    "    home_path = f'{path}/advanced_table_H_{details}.csv'\n",
    "    away_path = f'{path}/advanced_table_A_{details}.csv'\n",
    "    pd.DataFrame.to_csv(adv_table_home, home_path)\n",
    "    pd.DataFrame.to_csv(adv_table_away, away_path)\n",
    "\n"
   ],
   "metadata": {
    "collapsed": false,
    "ExecuteTime": {
     "end_time": "2024-02-03T08:56:44.294508800Z",
     "start_time": "2024-02-03T08:56:43.425727400Z"
    }
   },
   "id": "96147092c571bfeb",
   "execution_count": 21
  },
  {
   "cell_type": "code",
   "outputs": [
    {
     "data": {
      "text/plain": "                    Starters            MP    FG   FGA    FG%    3P   3PA  \\\n0               Nikola Jokić         36:16    12    22   .545     3     5   \n1   Kentavious Caldwell-Pope         36:15     8    12   .667     2     3   \n2               Aaron Gordon         34:59     7    11   .636     1     2   \n3               Jamal Murray         34:15     8    13   .615     3     5   \n4         Michael Porter Jr.         30:08     5    13   .385     2     9   \n5                     player          None  None  None   None  None  None   \n6             Reggie Jackson         24:04     3     8   .375     2     5   \n7            Christian Braun         19:20     2     5   .400     0     1   \n8                 Zeke Nnaji         11:44     1     3   .333     0     1   \n9              Peyton Watson         10:50     1     3   .333     1     3   \n10             Jalen Pickett          0:43     1     1  1.000     0     0   \n11          Collin Gillespie          0:43     0     0            0     0   \n12               Braxton Key          0:43     0     0            0     0   \n13            Justin Holiday  Did Not Play  None  None   None  None  None   \n14            DeAndre Jordan  Did Not Play  None  None   None  None  None   \n15          Julian Strawther  Did Not Play  None  None   None  None  None   \n\n     3P%    FT   FTA  ...   ORB   DRB   TRB   AST   STL   BLK   TOV    PF  \\\n0   .600     2     4  ...     3    10    13    11     1     1     2     2   \n1   .667     2     2  ...     1     1     2     1     3     1     3     5   \n2   .500     0     0  ...     2     5     7     5     2     1     0     0   \n3   .600     2     2  ...     0     2     2     6     0     1     1     3   \n4   .222     0     0  ...     2    10    12     2     2     0     0     1   \n5   None  None  None  ...  None  None  None  None  None  None  None  None   \n6   .400     0     0  ...     0     3     3     1     1     0     2     0   \n7   .000     1     2  ...     1     2     3     2     0     1     1     1   \n8   .000     2     2  ...     0     0     0     1     0     0     1     2   \n9   .333     0     0  ...     0     0     0     0     0     1     1     1   \n10           0     0  ...     0     0     0     0     0     0     0     0   \n11           0     0  ...     0     0     0     0     0     0     0     0   \n12           0     0  ...     0     0     0     0     0     0     0     0   \n13  None  None  None  ...  None  None  None  None  None  None  None  None   \n14  None  None  None  ...  None  None  None  None  None  None  None  None   \n15  None  None  None  ...  None  None  None  None  None  None  None  None   \n\n     PTS   +/-  \n0     29   +15  \n1     20   +10  \n2     15    +6  \n3     21    +3  \n4     12   +12  \n5   None  None  \n6      8   +11  \n7      5    +5  \n8      4    -3  \n9      3    +1  \n10     2     0  \n11     0     0  \n12     0     0  \n13  None  None  \n14  None  None  \n15  None  None  \n\n[16 rows x 21 columns]",
      "text/html": "<div>\n<style scoped>\n    .dataframe tbody tr th:only-of-type {\n        vertical-align: middle;\n    }\n\n    .dataframe tbody tr th {\n        vertical-align: top;\n    }\n\n    .dataframe thead th {\n        text-align: right;\n    }\n</style>\n<table border=\"1\" class=\"dataframe\">\n  <thead>\n    <tr style=\"text-align: right;\">\n      <th></th>\n      <th>Starters</th>\n      <th>MP</th>\n      <th>FG</th>\n      <th>FGA</th>\n      <th>FG%</th>\n      <th>3P</th>\n      <th>3PA</th>\n      <th>3P%</th>\n      <th>FT</th>\n      <th>FTA</th>\n      <th>...</th>\n      <th>ORB</th>\n      <th>DRB</th>\n      <th>TRB</th>\n      <th>AST</th>\n      <th>STL</th>\n      <th>BLK</th>\n      <th>TOV</th>\n      <th>PF</th>\n      <th>PTS</th>\n      <th>+/-</th>\n    </tr>\n  </thead>\n  <tbody>\n    <tr>\n      <th>0</th>\n      <td>Nikola Jokić</td>\n      <td>36:16</td>\n      <td>12</td>\n      <td>22</td>\n      <td>.545</td>\n      <td>3</td>\n      <td>5</td>\n      <td>.600</td>\n      <td>2</td>\n      <td>4</td>\n      <td>...</td>\n      <td>3</td>\n      <td>10</td>\n      <td>13</td>\n      <td>11</td>\n      <td>1</td>\n      <td>1</td>\n      <td>2</td>\n      <td>2</td>\n      <td>29</td>\n      <td>+15</td>\n    </tr>\n    <tr>\n      <th>1</th>\n      <td>Kentavious Caldwell-Pope</td>\n      <td>36:15</td>\n      <td>8</td>\n      <td>12</td>\n      <td>.667</td>\n      <td>2</td>\n      <td>3</td>\n      <td>.667</td>\n      <td>2</td>\n      <td>2</td>\n      <td>...</td>\n      <td>1</td>\n      <td>1</td>\n      <td>2</td>\n      <td>1</td>\n      <td>3</td>\n      <td>1</td>\n      <td>3</td>\n      <td>5</td>\n      <td>20</td>\n      <td>+10</td>\n    </tr>\n    <tr>\n      <th>2</th>\n      <td>Aaron Gordon</td>\n      <td>34:59</td>\n      <td>7</td>\n      <td>11</td>\n      <td>.636</td>\n      <td>1</td>\n      <td>2</td>\n      <td>.500</td>\n      <td>0</td>\n      <td>0</td>\n      <td>...</td>\n      <td>2</td>\n      <td>5</td>\n      <td>7</td>\n      <td>5</td>\n      <td>2</td>\n      <td>1</td>\n      <td>0</td>\n      <td>0</td>\n      <td>15</td>\n      <td>+6</td>\n    </tr>\n    <tr>\n      <th>3</th>\n      <td>Jamal Murray</td>\n      <td>34:15</td>\n      <td>8</td>\n      <td>13</td>\n      <td>.615</td>\n      <td>3</td>\n      <td>5</td>\n      <td>.600</td>\n      <td>2</td>\n      <td>2</td>\n      <td>...</td>\n      <td>0</td>\n      <td>2</td>\n      <td>2</td>\n      <td>6</td>\n      <td>0</td>\n      <td>1</td>\n      <td>1</td>\n      <td>3</td>\n      <td>21</td>\n      <td>+3</td>\n    </tr>\n    <tr>\n      <th>4</th>\n      <td>Michael Porter Jr.</td>\n      <td>30:08</td>\n      <td>5</td>\n      <td>13</td>\n      <td>.385</td>\n      <td>2</td>\n      <td>9</td>\n      <td>.222</td>\n      <td>0</td>\n      <td>0</td>\n      <td>...</td>\n      <td>2</td>\n      <td>10</td>\n      <td>12</td>\n      <td>2</td>\n      <td>2</td>\n      <td>0</td>\n      <td>0</td>\n      <td>1</td>\n      <td>12</td>\n      <td>+12</td>\n    </tr>\n    <tr>\n      <th>5</th>\n      <td>player</td>\n      <td>None</td>\n      <td>None</td>\n      <td>None</td>\n      <td>None</td>\n      <td>None</td>\n      <td>None</td>\n      <td>None</td>\n      <td>None</td>\n      <td>None</td>\n      <td>...</td>\n      <td>None</td>\n      <td>None</td>\n      <td>None</td>\n      <td>None</td>\n      <td>None</td>\n      <td>None</td>\n      <td>None</td>\n      <td>None</td>\n      <td>None</td>\n      <td>None</td>\n    </tr>\n    <tr>\n      <th>6</th>\n      <td>Reggie Jackson</td>\n      <td>24:04</td>\n      <td>3</td>\n      <td>8</td>\n      <td>.375</td>\n      <td>2</td>\n      <td>5</td>\n      <td>.400</td>\n      <td>0</td>\n      <td>0</td>\n      <td>...</td>\n      <td>0</td>\n      <td>3</td>\n      <td>3</td>\n      <td>1</td>\n      <td>1</td>\n      <td>0</td>\n      <td>2</td>\n      <td>0</td>\n      <td>8</td>\n      <td>+11</td>\n    </tr>\n    <tr>\n      <th>7</th>\n      <td>Christian Braun</td>\n      <td>19:20</td>\n      <td>2</td>\n      <td>5</td>\n      <td>.400</td>\n      <td>0</td>\n      <td>1</td>\n      <td>.000</td>\n      <td>1</td>\n      <td>2</td>\n      <td>...</td>\n      <td>1</td>\n      <td>2</td>\n      <td>3</td>\n      <td>2</td>\n      <td>0</td>\n      <td>1</td>\n      <td>1</td>\n      <td>1</td>\n      <td>5</td>\n      <td>+5</td>\n    </tr>\n    <tr>\n      <th>8</th>\n      <td>Zeke Nnaji</td>\n      <td>11:44</td>\n      <td>1</td>\n      <td>3</td>\n      <td>.333</td>\n      <td>0</td>\n      <td>1</td>\n      <td>.000</td>\n      <td>2</td>\n      <td>2</td>\n      <td>...</td>\n      <td>0</td>\n      <td>0</td>\n      <td>0</td>\n      <td>1</td>\n      <td>0</td>\n      <td>0</td>\n      <td>1</td>\n      <td>2</td>\n      <td>4</td>\n      <td>-3</td>\n    </tr>\n    <tr>\n      <th>9</th>\n      <td>Peyton Watson</td>\n      <td>10:50</td>\n      <td>1</td>\n      <td>3</td>\n      <td>.333</td>\n      <td>1</td>\n      <td>3</td>\n      <td>.333</td>\n      <td>0</td>\n      <td>0</td>\n      <td>...</td>\n      <td>0</td>\n      <td>0</td>\n      <td>0</td>\n      <td>0</td>\n      <td>0</td>\n      <td>1</td>\n      <td>1</td>\n      <td>1</td>\n      <td>3</td>\n      <td>+1</td>\n    </tr>\n    <tr>\n      <th>10</th>\n      <td>Jalen Pickett</td>\n      <td>0:43</td>\n      <td>1</td>\n      <td>1</td>\n      <td>1.000</td>\n      <td>0</td>\n      <td>0</td>\n      <td></td>\n      <td>0</td>\n      <td>0</td>\n      <td>...</td>\n      <td>0</td>\n      <td>0</td>\n      <td>0</td>\n      <td>0</td>\n      <td>0</td>\n      <td>0</td>\n      <td>0</td>\n      <td>0</td>\n      <td>2</td>\n      <td>0</td>\n    </tr>\n    <tr>\n      <th>11</th>\n      <td>Collin Gillespie</td>\n      <td>0:43</td>\n      <td>0</td>\n      <td>0</td>\n      <td></td>\n      <td>0</td>\n      <td>0</td>\n      <td></td>\n      <td>0</td>\n      <td>0</td>\n      <td>...</td>\n      <td>0</td>\n      <td>0</td>\n      <td>0</td>\n      <td>0</td>\n      <td>0</td>\n      <td>0</td>\n      <td>0</td>\n      <td>0</td>\n      <td>0</td>\n      <td>0</td>\n    </tr>\n    <tr>\n      <th>12</th>\n      <td>Braxton Key</td>\n      <td>0:43</td>\n      <td>0</td>\n      <td>0</td>\n      <td></td>\n      <td>0</td>\n      <td>0</td>\n      <td></td>\n      <td>0</td>\n      <td>0</td>\n      <td>...</td>\n      <td>0</td>\n      <td>0</td>\n      <td>0</td>\n      <td>0</td>\n      <td>0</td>\n      <td>0</td>\n      <td>0</td>\n      <td>0</td>\n      <td>0</td>\n      <td>0</td>\n    </tr>\n    <tr>\n      <th>13</th>\n      <td>Justin Holiday</td>\n      <td>Did Not Play</td>\n      <td>None</td>\n      <td>None</td>\n      <td>None</td>\n      <td>None</td>\n      <td>None</td>\n      <td>None</td>\n      <td>None</td>\n      <td>None</td>\n      <td>...</td>\n      <td>None</td>\n      <td>None</td>\n      <td>None</td>\n      <td>None</td>\n      <td>None</td>\n      <td>None</td>\n      <td>None</td>\n      <td>None</td>\n      <td>None</td>\n      <td>None</td>\n    </tr>\n    <tr>\n      <th>14</th>\n      <td>DeAndre Jordan</td>\n      <td>Did Not Play</td>\n      <td>None</td>\n      <td>None</td>\n      <td>None</td>\n      <td>None</td>\n      <td>None</td>\n      <td>None</td>\n      <td>None</td>\n      <td>None</td>\n      <td>...</td>\n      <td>None</td>\n      <td>None</td>\n      <td>None</td>\n      <td>None</td>\n      <td>None</td>\n      <td>None</td>\n      <td>None</td>\n      <td>None</td>\n      <td>None</td>\n      <td>None</td>\n    </tr>\n    <tr>\n      <th>15</th>\n      <td>Julian Strawther</td>\n      <td>Did Not Play</td>\n      <td>None</td>\n      <td>None</td>\n      <td>None</td>\n      <td>None</td>\n      <td>None</td>\n      <td>None</td>\n      <td>None</td>\n      <td>None</td>\n      <td>...</td>\n      <td>None</td>\n      <td>None</td>\n      <td>None</td>\n      <td>None</td>\n      <td>None</td>\n      <td>None</td>\n      <td>None</td>\n      <td>None</td>\n      <td>None</td>\n      <td>None</td>\n    </tr>\n  </tbody>\n</table>\n<p>16 rows × 21 columns</p>\n</div>"
     },
     "execution_count": 22,
     "metadata": {},
     "output_type": "execute_result"
    }
   ],
   "source": [
    "make_basic_table_pandas(get_tables(page)[0])\n"
   ],
   "metadata": {
    "collapsed": false,
    "ExecuteTime": {
     "end_time": "2024-02-03T08:56:44.356779Z",
     "start_time": "2024-02-03T08:56:44.299040300Z"
    }
   },
   "id": "ea5b29aaeb231500",
   "execution_count": 22
  },
  {
   "cell_type": "code",
   "outputs": [],
   "source": [],
   "metadata": {
    "collapsed": false,
    "ExecuteTime": {
     "end_time": "2024-02-03T08:56:44.364524800Z",
     "start_time": "2024-02-03T08:56:44.359534500Z"
    }
   },
   "id": "b903056aec87c13e",
   "execution_count": 22
  },
  {
   "cell_type": "code",
   "outputs": [
    {
     "data": {
      "text/plain": "                    Starters            MP    TS%   eFG%   3PAr   FTr  ORB%  \\\n0               Nikola Jokić         36:16   .610   .614   .227  .182   9.9   \n1   Kentavious Caldwell-Pope         36:15   .776   .750   .250  .167   3.3   \n2               Aaron Gordon         34:59   .682   .682   .182  .000   6.9   \n3               Jamal Murray         34:15   .756   .731   .385  .154   0.0   \n4         Michael Porter Jr.         30:08   .462   .462   .692  .000   8.0   \n5                     player          None   None   None   None  None  None   \n6             Reggie Jackson         24:04   .500   .500   .625  .000   0.0   \n7            Christian Braun         19:20   .425   .400   .200  .400   6.2   \n8                 Zeke Nnaji         11:44   .515   .333   .333  .667   0.0   \n9              Peyton Watson         10:50   .500   .500  1.000  .000   0.0   \n10          Collin Gillespie          0:43                              0.0   \n11               Braxton Key          0:43                              0.0   \n12             Jalen Pickett          0:43  1.000  1.000   .000  .000   0.0   \n13            Justin Holiday  Did Not Play   None   None   None  None  None   \n14            DeAndre Jordan  Did Not Play   None   None   None  None  None   \n15          Julian Strawther  Did Not Play   None   None   None  None  None   \n\n    DRB%  TRB%  AST%  STL%  BLK%  TOV%  USG%  ORtg  DRtg    BPM  \n0   28.8  20.0  45.3   1.4   2.2   7.8  31.8   133   109   15.0  \n1    2.9   3.1   3.5   4.2   2.2  18.9  19.6   122   111    1.9  \n2   14.9  11.2  17.9   2.9   2.2   0.0  14.1   155   110    8.7  \n3    6.1   3.3  22.9   0.0   2.3   6.7  19.4   150   119    5.0  \n4   34.6  22.2   8.0   3.3   0.0   0.0  19.3   111   104   -0.2  \n5   None  None  None  None  None  None  None  None  None   None  \n6   13.0   7.0   4.7   2.1   0.0  20.0  18.6    82   114   -8.2  \n7   10.8   8.7  11.5   0.0   4.1  14.5  15.9    97   117   -6.2  \n8    0.0   0.0   9.3   0.0   0.0  20.5  18.6    96   123  -11.9  \n9    0.0   0.0   0.0   0.0   7.3  25.0  16.5    71   118   -9.3  \n10   0.0   0.0   0.0   0.0   0.0         0.0     0   123   -9.4  \n11   0.0   0.0   0.0   0.0   0.0         0.0     0   123   -8.9  \n12   0.0   0.0   0.0   0.0   0.0   0.0  62.4   200   123   48.3  \n13  None  None  None  None  None  None  None  None  None   None  \n14  None  None  None  None  None  None  None  None  None   None  \n15  None  None  None  None  None  None  None  None  None   None  ",
      "text/html": "<div>\n<style scoped>\n    .dataframe tbody tr th:only-of-type {\n        vertical-align: middle;\n    }\n\n    .dataframe tbody tr th {\n        vertical-align: top;\n    }\n\n    .dataframe thead th {\n        text-align: right;\n    }\n</style>\n<table border=\"1\" class=\"dataframe\">\n  <thead>\n    <tr style=\"text-align: right;\">\n      <th></th>\n      <th>Starters</th>\n      <th>MP</th>\n      <th>TS%</th>\n      <th>eFG%</th>\n      <th>3PAr</th>\n      <th>FTr</th>\n      <th>ORB%</th>\n      <th>DRB%</th>\n      <th>TRB%</th>\n      <th>AST%</th>\n      <th>STL%</th>\n      <th>BLK%</th>\n      <th>TOV%</th>\n      <th>USG%</th>\n      <th>ORtg</th>\n      <th>DRtg</th>\n      <th>BPM</th>\n    </tr>\n  </thead>\n  <tbody>\n    <tr>\n      <th>0</th>\n      <td>Nikola Jokić</td>\n      <td>36:16</td>\n      <td>.610</td>\n      <td>.614</td>\n      <td>.227</td>\n      <td>.182</td>\n      <td>9.9</td>\n      <td>28.8</td>\n      <td>20.0</td>\n      <td>45.3</td>\n      <td>1.4</td>\n      <td>2.2</td>\n      <td>7.8</td>\n      <td>31.8</td>\n      <td>133</td>\n      <td>109</td>\n      <td>15.0</td>\n    </tr>\n    <tr>\n      <th>1</th>\n      <td>Kentavious Caldwell-Pope</td>\n      <td>36:15</td>\n      <td>.776</td>\n      <td>.750</td>\n      <td>.250</td>\n      <td>.167</td>\n      <td>3.3</td>\n      <td>2.9</td>\n      <td>3.1</td>\n      <td>3.5</td>\n      <td>4.2</td>\n      <td>2.2</td>\n      <td>18.9</td>\n      <td>19.6</td>\n      <td>122</td>\n      <td>111</td>\n      <td>1.9</td>\n    </tr>\n    <tr>\n      <th>2</th>\n      <td>Aaron Gordon</td>\n      <td>34:59</td>\n      <td>.682</td>\n      <td>.682</td>\n      <td>.182</td>\n      <td>.000</td>\n      <td>6.9</td>\n      <td>14.9</td>\n      <td>11.2</td>\n      <td>17.9</td>\n      <td>2.9</td>\n      <td>2.2</td>\n      <td>0.0</td>\n      <td>14.1</td>\n      <td>155</td>\n      <td>110</td>\n      <td>8.7</td>\n    </tr>\n    <tr>\n      <th>3</th>\n      <td>Jamal Murray</td>\n      <td>34:15</td>\n      <td>.756</td>\n      <td>.731</td>\n      <td>.385</td>\n      <td>.154</td>\n      <td>0.0</td>\n      <td>6.1</td>\n      <td>3.3</td>\n      <td>22.9</td>\n      <td>0.0</td>\n      <td>2.3</td>\n      <td>6.7</td>\n      <td>19.4</td>\n      <td>150</td>\n      <td>119</td>\n      <td>5.0</td>\n    </tr>\n    <tr>\n      <th>4</th>\n      <td>Michael Porter Jr.</td>\n      <td>30:08</td>\n      <td>.462</td>\n      <td>.462</td>\n      <td>.692</td>\n      <td>.000</td>\n      <td>8.0</td>\n      <td>34.6</td>\n      <td>22.2</td>\n      <td>8.0</td>\n      <td>3.3</td>\n      <td>0.0</td>\n      <td>0.0</td>\n      <td>19.3</td>\n      <td>111</td>\n      <td>104</td>\n      <td>-0.2</td>\n    </tr>\n    <tr>\n      <th>5</th>\n      <td>player</td>\n      <td>None</td>\n      <td>None</td>\n      <td>None</td>\n      <td>None</td>\n      <td>None</td>\n      <td>None</td>\n      <td>None</td>\n      <td>None</td>\n      <td>None</td>\n      <td>None</td>\n      <td>None</td>\n      <td>None</td>\n      <td>None</td>\n      <td>None</td>\n      <td>None</td>\n      <td>None</td>\n    </tr>\n    <tr>\n      <th>6</th>\n      <td>Reggie Jackson</td>\n      <td>24:04</td>\n      <td>.500</td>\n      <td>.500</td>\n      <td>.625</td>\n      <td>.000</td>\n      <td>0.0</td>\n      <td>13.0</td>\n      <td>7.0</td>\n      <td>4.7</td>\n      <td>2.1</td>\n      <td>0.0</td>\n      <td>20.0</td>\n      <td>18.6</td>\n      <td>82</td>\n      <td>114</td>\n      <td>-8.2</td>\n    </tr>\n    <tr>\n      <th>7</th>\n      <td>Christian Braun</td>\n      <td>19:20</td>\n      <td>.425</td>\n      <td>.400</td>\n      <td>.200</td>\n      <td>.400</td>\n      <td>6.2</td>\n      <td>10.8</td>\n      <td>8.7</td>\n      <td>11.5</td>\n      <td>0.0</td>\n      <td>4.1</td>\n      <td>14.5</td>\n      <td>15.9</td>\n      <td>97</td>\n      <td>117</td>\n      <td>-6.2</td>\n    </tr>\n    <tr>\n      <th>8</th>\n      <td>Zeke Nnaji</td>\n      <td>11:44</td>\n      <td>.515</td>\n      <td>.333</td>\n      <td>.333</td>\n      <td>.667</td>\n      <td>0.0</td>\n      <td>0.0</td>\n      <td>0.0</td>\n      <td>9.3</td>\n      <td>0.0</td>\n      <td>0.0</td>\n      <td>20.5</td>\n      <td>18.6</td>\n      <td>96</td>\n      <td>123</td>\n      <td>-11.9</td>\n    </tr>\n    <tr>\n      <th>9</th>\n      <td>Peyton Watson</td>\n      <td>10:50</td>\n      <td>.500</td>\n      <td>.500</td>\n      <td>1.000</td>\n      <td>.000</td>\n      <td>0.0</td>\n      <td>0.0</td>\n      <td>0.0</td>\n      <td>0.0</td>\n      <td>0.0</td>\n      <td>7.3</td>\n      <td>25.0</td>\n      <td>16.5</td>\n      <td>71</td>\n      <td>118</td>\n      <td>-9.3</td>\n    </tr>\n    <tr>\n      <th>10</th>\n      <td>Collin Gillespie</td>\n      <td>0:43</td>\n      <td></td>\n      <td></td>\n      <td></td>\n      <td></td>\n      <td>0.0</td>\n      <td>0.0</td>\n      <td>0.0</td>\n      <td>0.0</td>\n      <td>0.0</td>\n      <td>0.0</td>\n      <td></td>\n      <td>0.0</td>\n      <td>0</td>\n      <td>123</td>\n      <td>-9.4</td>\n    </tr>\n    <tr>\n      <th>11</th>\n      <td>Braxton Key</td>\n      <td>0:43</td>\n      <td></td>\n      <td></td>\n      <td></td>\n      <td></td>\n      <td>0.0</td>\n      <td>0.0</td>\n      <td>0.0</td>\n      <td>0.0</td>\n      <td>0.0</td>\n      <td>0.0</td>\n      <td></td>\n      <td>0.0</td>\n      <td>0</td>\n      <td>123</td>\n      <td>-8.9</td>\n    </tr>\n    <tr>\n      <th>12</th>\n      <td>Jalen Pickett</td>\n      <td>0:43</td>\n      <td>1.000</td>\n      <td>1.000</td>\n      <td>.000</td>\n      <td>.000</td>\n      <td>0.0</td>\n      <td>0.0</td>\n      <td>0.0</td>\n      <td>0.0</td>\n      <td>0.0</td>\n      <td>0.0</td>\n      <td>0.0</td>\n      <td>62.4</td>\n      <td>200</td>\n      <td>123</td>\n      <td>48.3</td>\n    </tr>\n    <tr>\n      <th>13</th>\n      <td>Justin Holiday</td>\n      <td>Did Not Play</td>\n      <td>None</td>\n      <td>None</td>\n      <td>None</td>\n      <td>None</td>\n      <td>None</td>\n      <td>None</td>\n      <td>None</td>\n      <td>None</td>\n      <td>None</td>\n      <td>None</td>\n      <td>None</td>\n      <td>None</td>\n      <td>None</td>\n      <td>None</td>\n      <td>None</td>\n    </tr>\n    <tr>\n      <th>14</th>\n      <td>DeAndre Jordan</td>\n      <td>Did Not Play</td>\n      <td>None</td>\n      <td>None</td>\n      <td>None</td>\n      <td>None</td>\n      <td>None</td>\n      <td>None</td>\n      <td>None</td>\n      <td>None</td>\n      <td>None</td>\n      <td>None</td>\n      <td>None</td>\n      <td>None</td>\n      <td>None</td>\n      <td>None</td>\n      <td>None</td>\n    </tr>\n    <tr>\n      <th>15</th>\n      <td>Julian Strawther</td>\n      <td>Did Not Play</td>\n      <td>None</td>\n      <td>None</td>\n      <td>None</td>\n      <td>None</td>\n      <td>None</td>\n      <td>None</td>\n      <td>None</td>\n      <td>None</td>\n      <td>None</td>\n      <td>None</td>\n      <td>None</td>\n      <td>None</td>\n      <td>None</td>\n      <td>None</td>\n      <td>None</td>\n    </tr>\n  </tbody>\n</table>\n</div>"
     },
     "execution_count": 23,
     "metadata": {},
     "output_type": "execute_result"
    }
   ],
   "source": [
    "make_advanced_table_pandas(get_tables(page)[1])"
   ],
   "metadata": {
    "collapsed": false,
    "ExecuteTime": {
     "end_time": "2024-02-03T08:56:44.426513Z",
     "start_time": "2024-02-03T08:56:44.366092200Z"
    }
   },
   "id": "1eedb3fb4890f271",
   "execution_count": 23
  },
  {
   "cell_type": "code",
   "outputs": [
    {
     "data": {
      "text/plain": "            Starters     MP    FG   FGA   FG%    3P   3PA   3P%    FT   FTA  \\\n0   D'Angelo Russell  36:11     4    12  .333     2     5  .400     1     2   \n1      Anthony Davis  34:09     6    17  .353     1     2  .500     4     4   \n2      Austin Reaves  31:20     4    11  .364     1     2  .500     5     7   \n3     Taurean Prince  29:53     6     8  .750     4     6  .667     2     2   \n4       LeBron James  29:00    10    16  .625     1     4  .250     0     1   \n5             player   None  None  None  None  None  None  None  None  None   \n6       Gabe Vincent  22:18     3     8  .375     0     4  .000     0     0   \n7        Cam Reddish  17:38     2     4  .500     1     2  .500     2     2   \n8     Christian Wood  15:28     3     4  .750     0     1  .000     1     2   \n9      Rui Hachimura  14:39     3    10  .300     0     3  .000     0     0   \n10      Jaxson Hayes   6:54     0     0           0     0           0     0   \n11      Max Christie   1:15     0     0           0     0           0     0   \n12     Maxwell Lewis   1:15     0     0           0     0           0     0   \n\n    ...   ORB   DRB   TRB   AST   STL   BLK   TOV    PF   PTS   +/-  \n0   ...     0     4     4     7     1     0     3     3    11    +1  \n1   ...     1     7     8     4     0     2     2     3    17   -17  \n2   ...     4     4     8     4     2     0     2     2    14   -14  \n3   ...     1     2     3     1     0     1     1     0    18   -14  \n4   ...     1     7     8     5     1     0     0     1    21    +7  \n5   ...  None  None  None  None  None  None  None  None  None  None  \n6   ...     1     0     1     2     1     0     2     3     6   -17  \n7   ...     2     2     4     0     0     1     0     2     7    +7  \n8   ...     1     3     4     0     0     0     1     1     7    +2  \n9   ...     2     1     3     0     0     0     0     2     6    -8  \n10  ...     0     1     1     0     0     0     0     1     0    -7  \n11  ...     0     0     0     0     0     0     0     0     0     0  \n12  ...     0     0     0     0     0     0     0     0     0     0  \n\n[13 rows x 21 columns]",
      "text/html": "<div>\n<style scoped>\n    .dataframe tbody tr th:only-of-type {\n        vertical-align: middle;\n    }\n\n    .dataframe tbody tr th {\n        vertical-align: top;\n    }\n\n    .dataframe thead th {\n        text-align: right;\n    }\n</style>\n<table border=\"1\" class=\"dataframe\">\n  <thead>\n    <tr style=\"text-align: right;\">\n      <th></th>\n      <th>Starters</th>\n      <th>MP</th>\n      <th>FG</th>\n      <th>FGA</th>\n      <th>FG%</th>\n      <th>3P</th>\n      <th>3PA</th>\n      <th>3P%</th>\n      <th>FT</th>\n      <th>FTA</th>\n      <th>...</th>\n      <th>ORB</th>\n      <th>DRB</th>\n      <th>TRB</th>\n      <th>AST</th>\n      <th>STL</th>\n      <th>BLK</th>\n      <th>TOV</th>\n      <th>PF</th>\n      <th>PTS</th>\n      <th>+/-</th>\n    </tr>\n  </thead>\n  <tbody>\n    <tr>\n      <th>0</th>\n      <td>D'Angelo Russell</td>\n      <td>36:11</td>\n      <td>4</td>\n      <td>12</td>\n      <td>.333</td>\n      <td>2</td>\n      <td>5</td>\n      <td>.400</td>\n      <td>1</td>\n      <td>2</td>\n      <td>...</td>\n      <td>0</td>\n      <td>4</td>\n      <td>4</td>\n      <td>7</td>\n      <td>1</td>\n      <td>0</td>\n      <td>3</td>\n      <td>3</td>\n      <td>11</td>\n      <td>+1</td>\n    </tr>\n    <tr>\n      <th>1</th>\n      <td>Anthony Davis</td>\n      <td>34:09</td>\n      <td>6</td>\n      <td>17</td>\n      <td>.353</td>\n      <td>1</td>\n      <td>2</td>\n      <td>.500</td>\n      <td>4</td>\n      <td>4</td>\n      <td>...</td>\n      <td>1</td>\n      <td>7</td>\n      <td>8</td>\n      <td>4</td>\n      <td>0</td>\n      <td>2</td>\n      <td>2</td>\n      <td>3</td>\n      <td>17</td>\n      <td>-17</td>\n    </tr>\n    <tr>\n      <th>2</th>\n      <td>Austin Reaves</td>\n      <td>31:20</td>\n      <td>4</td>\n      <td>11</td>\n      <td>.364</td>\n      <td>1</td>\n      <td>2</td>\n      <td>.500</td>\n      <td>5</td>\n      <td>7</td>\n      <td>...</td>\n      <td>4</td>\n      <td>4</td>\n      <td>8</td>\n      <td>4</td>\n      <td>2</td>\n      <td>0</td>\n      <td>2</td>\n      <td>2</td>\n      <td>14</td>\n      <td>-14</td>\n    </tr>\n    <tr>\n      <th>3</th>\n      <td>Taurean Prince</td>\n      <td>29:53</td>\n      <td>6</td>\n      <td>8</td>\n      <td>.750</td>\n      <td>4</td>\n      <td>6</td>\n      <td>.667</td>\n      <td>2</td>\n      <td>2</td>\n      <td>...</td>\n      <td>1</td>\n      <td>2</td>\n      <td>3</td>\n      <td>1</td>\n      <td>0</td>\n      <td>1</td>\n      <td>1</td>\n      <td>0</td>\n      <td>18</td>\n      <td>-14</td>\n    </tr>\n    <tr>\n      <th>4</th>\n      <td>LeBron James</td>\n      <td>29:00</td>\n      <td>10</td>\n      <td>16</td>\n      <td>.625</td>\n      <td>1</td>\n      <td>4</td>\n      <td>.250</td>\n      <td>0</td>\n      <td>1</td>\n      <td>...</td>\n      <td>1</td>\n      <td>7</td>\n      <td>8</td>\n      <td>5</td>\n      <td>1</td>\n      <td>0</td>\n      <td>0</td>\n      <td>1</td>\n      <td>21</td>\n      <td>+7</td>\n    </tr>\n    <tr>\n      <th>5</th>\n      <td>player</td>\n      <td>None</td>\n      <td>None</td>\n      <td>None</td>\n      <td>None</td>\n      <td>None</td>\n      <td>None</td>\n      <td>None</td>\n      <td>None</td>\n      <td>None</td>\n      <td>...</td>\n      <td>None</td>\n      <td>None</td>\n      <td>None</td>\n      <td>None</td>\n      <td>None</td>\n      <td>None</td>\n      <td>None</td>\n      <td>None</td>\n      <td>None</td>\n      <td>None</td>\n    </tr>\n    <tr>\n      <th>6</th>\n      <td>Gabe Vincent</td>\n      <td>22:18</td>\n      <td>3</td>\n      <td>8</td>\n      <td>.375</td>\n      <td>0</td>\n      <td>4</td>\n      <td>.000</td>\n      <td>0</td>\n      <td>0</td>\n      <td>...</td>\n      <td>1</td>\n      <td>0</td>\n      <td>1</td>\n      <td>2</td>\n      <td>1</td>\n      <td>0</td>\n      <td>2</td>\n      <td>3</td>\n      <td>6</td>\n      <td>-17</td>\n    </tr>\n    <tr>\n      <th>7</th>\n      <td>Cam Reddish</td>\n      <td>17:38</td>\n      <td>2</td>\n      <td>4</td>\n      <td>.500</td>\n      <td>1</td>\n      <td>2</td>\n      <td>.500</td>\n      <td>2</td>\n      <td>2</td>\n      <td>...</td>\n      <td>2</td>\n      <td>2</td>\n      <td>4</td>\n      <td>0</td>\n      <td>0</td>\n      <td>1</td>\n      <td>0</td>\n      <td>2</td>\n      <td>7</td>\n      <td>+7</td>\n    </tr>\n    <tr>\n      <th>8</th>\n      <td>Christian Wood</td>\n      <td>15:28</td>\n      <td>3</td>\n      <td>4</td>\n      <td>.750</td>\n      <td>0</td>\n      <td>1</td>\n      <td>.000</td>\n      <td>1</td>\n      <td>2</td>\n      <td>...</td>\n      <td>1</td>\n      <td>3</td>\n      <td>4</td>\n      <td>0</td>\n      <td>0</td>\n      <td>0</td>\n      <td>1</td>\n      <td>1</td>\n      <td>7</td>\n      <td>+2</td>\n    </tr>\n    <tr>\n      <th>9</th>\n      <td>Rui Hachimura</td>\n      <td>14:39</td>\n      <td>3</td>\n      <td>10</td>\n      <td>.300</td>\n      <td>0</td>\n      <td>3</td>\n      <td>.000</td>\n      <td>0</td>\n      <td>0</td>\n      <td>...</td>\n      <td>2</td>\n      <td>1</td>\n      <td>3</td>\n      <td>0</td>\n      <td>0</td>\n      <td>0</td>\n      <td>0</td>\n      <td>2</td>\n      <td>6</td>\n      <td>-8</td>\n    </tr>\n    <tr>\n      <th>10</th>\n      <td>Jaxson Hayes</td>\n      <td>6:54</td>\n      <td>0</td>\n      <td>0</td>\n      <td></td>\n      <td>0</td>\n      <td>0</td>\n      <td></td>\n      <td>0</td>\n      <td>0</td>\n      <td>...</td>\n      <td>0</td>\n      <td>1</td>\n      <td>1</td>\n      <td>0</td>\n      <td>0</td>\n      <td>0</td>\n      <td>0</td>\n      <td>1</td>\n      <td>0</td>\n      <td>-7</td>\n    </tr>\n    <tr>\n      <th>11</th>\n      <td>Max Christie</td>\n      <td>1:15</td>\n      <td>0</td>\n      <td>0</td>\n      <td></td>\n      <td>0</td>\n      <td>0</td>\n      <td></td>\n      <td>0</td>\n      <td>0</td>\n      <td>...</td>\n      <td>0</td>\n      <td>0</td>\n      <td>0</td>\n      <td>0</td>\n      <td>0</td>\n      <td>0</td>\n      <td>0</td>\n      <td>0</td>\n      <td>0</td>\n      <td>0</td>\n    </tr>\n    <tr>\n      <th>12</th>\n      <td>Maxwell Lewis</td>\n      <td>1:15</td>\n      <td>0</td>\n      <td>0</td>\n      <td></td>\n      <td>0</td>\n      <td>0</td>\n      <td></td>\n      <td>0</td>\n      <td>0</td>\n      <td>...</td>\n      <td>0</td>\n      <td>0</td>\n      <td>0</td>\n      <td>0</td>\n      <td>0</td>\n      <td>0</td>\n      <td>0</td>\n      <td>0</td>\n      <td>0</td>\n      <td>0</td>\n    </tr>\n  </tbody>\n</table>\n<p>13 rows × 21 columns</p>\n</div>"
     },
     "execution_count": 24,
     "metadata": {},
     "output_type": "execute_result"
    }
   ],
   "source": [
    "make_basic_table_pandas(get_tables(page)[2])"
   ],
   "metadata": {
    "collapsed": false,
    "ExecuteTime": {
     "end_time": "2024-02-03T08:56:44.490555400Z",
     "start_time": "2024-02-03T08:56:44.399269600Z"
    }
   },
   "id": "7028e49b738fe067",
   "execution_count": 24
  },
  {
   "cell_type": "code",
   "outputs": [
    {
     "data": {
      "text/plain": "            Starters     MP    TS%   eFG%  3PAr   FTr  ORB%  DRB%  TRB%  AST%  \\\n0   D'Angelo Russell  36:11   .427   .417  .417  .167   0.0  13.3   6.2  26.0   \n1      Anthony Davis  34:09   .453   .382  .118  .235   3.1  24.6  13.1  17.3   \n2      Austin Reaves  31:20   .497   .409  .182  .636  13.3  15.3  14.3  17.6   \n3     Taurean Prince  29:53  1.014  1.000  .750  .250   3.5   8.0   5.6   5.1   \n4       LeBron James  29:00   .639   .656  .250  .063   3.6  29.0  15.4  33.9   \n5             player   None   None   None  None  None  None  None  None  None   \n6       Gabe Vincent  22:18   .375   .375  .500  .000   4.7   0.0   2.5  12.5   \n7        Cam Reddish  17:38   .717   .625  .500  .500  11.8  13.6  12.7   0.0   \n8     Christian Wood  15:28   .717   .750  .250  .500   6.7  23.3  14.4   0.0   \n9      Rui Hachimura  14:39   .300   .300  .300  .000  14.2   8.2  11.4   0.0   \n10      Jaxson Hayes   6:54                             0.0  17.4   8.1   0.0   \n11      Max Christie   1:15                             0.0   0.0   0.0   0.0   \n12     Maxwell Lewis   1:15                             0.0   0.0   0.0   0.0   \n\n    STL%  BLK%  TOV%  USG%  ORtg  DRtg    BPM  \n0    1.4   0.0  18.9  19.2    91   125   -6.5  \n1    0.0   4.9   9.6  26.6   100   122   -2.1  \n2    3.2   0.0  12.4  22.4   113   121    1.4  \n3    0.0   2.8  10.1  14.5   175   128   11.2  \n4    1.7   0.0   0.0  24.8   141   122   11.9  \n5   None  None  None  None  None  None   None  \n6    2.3   0.0  20.0  19.6    77   126  -11.3  \n7    0.0   4.8   0.0  12.1   163   125    3.6  \n8    0.0   0.0  17.0  16.6   118   127   -3.3  \n9    0.0   0.0   0.0  29.8    79   130  -17.1  \n10   0.0   0.0         0.0     0   128   -9.7  \n11   0.0   0.0         0.0     0   131   -7.6  \n12   0.0   0.0         0.0     0   131   -7.2  ",
      "text/html": "<div>\n<style scoped>\n    .dataframe tbody tr th:only-of-type {\n        vertical-align: middle;\n    }\n\n    .dataframe tbody tr th {\n        vertical-align: top;\n    }\n\n    .dataframe thead th {\n        text-align: right;\n    }\n</style>\n<table border=\"1\" class=\"dataframe\">\n  <thead>\n    <tr style=\"text-align: right;\">\n      <th></th>\n      <th>Starters</th>\n      <th>MP</th>\n      <th>TS%</th>\n      <th>eFG%</th>\n      <th>3PAr</th>\n      <th>FTr</th>\n      <th>ORB%</th>\n      <th>DRB%</th>\n      <th>TRB%</th>\n      <th>AST%</th>\n      <th>STL%</th>\n      <th>BLK%</th>\n      <th>TOV%</th>\n      <th>USG%</th>\n      <th>ORtg</th>\n      <th>DRtg</th>\n      <th>BPM</th>\n    </tr>\n  </thead>\n  <tbody>\n    <tr>\n      <th>0</th>\n      <td>D'Angelo Russell</td>\n      <td>36:11</td>\n      <td>.427</td>\n      <td>.417</td>\n      <td>.417</td>\n      <td>.167</td>\n      <td>0.0</td>\n      <td>13.3</td>\n      <td>6.2</td>\n      <td>26.0</td>\n      <td>1.4</td>\n      <td>0.0</td>\n      <td>18.9</td>\n      <td>19.2</td>\n      <td>91</td>\n      <td>125</td>\n      <td>-6.5</td>\n    </tr>\n    <tr>\n      <th>1</th>\n      <td>Anthony Davis</td>\n      <td>34:09</td>\n      <td>.453</td>\n      <td>.382</td>\n      <td>.118</td>\n      <td>.235</td>\n      <td>3.1</td>\n      <td>24.6</td>\n      <td>13.1</td>\n      <td>17.3</td>\n      <td>0.0</td>\n      <td>4.9</td>\n      <td>9.6</td>\n      <td>26.6</td>\n      <td>100</td>\n      <td>122</td>\n      <td>-2.1</td>\n    </tr>\n    <tr>\n      <th>2</th>\n      <td>Austin Reaves</td>\n      <td>31:20</td>\n      <td>.497</td>\n      <td>.409</td>\n      <td>.182</td>\n      <td>.636</td>\n      <td>13.3</td>\n      <td>15.3</td>\n      <td>14.3</td>\n      <td>17.6</td>\n      <td>3.2</td>\n      <td>0.0</td>\n      <td>12.4</td>\n      <td>22.4</td>\n      <td>113</td>\n      <td>121</td>\n      <td>1.4</td>\n    </tr>\n    <tr>\n      <th>3</th>\n      <td>Taurean Prince</td>\n      <td>29:53</td>\n      <td>1.014</td>\n      <td>1.000</td>\n      <td>.750</td>\n      <td>.250</td>\n      <td>3.5</td>\n      <td>8.0</td>\n      <td>5.6</td>\n      <td>5.1</td>\n      <td>0.0</td>\n      <td>2.8</td>\n      <td>10.1</td>\n      <td>14.5</td>\n      <td>175</td>\n      <td>128</td>\n      <td>11.2</td>\n    </tr>\n    <tr>\n      <th>4</th>\n      <td>LeBron James</td>\n      <td>29:00</td>\n      <td>.639</td>\n      <td>.656</td>\n      <td>.250</td>\n      <td>.063</td>\n      <td>3.6</td>\n      <td>29.0</td>\n      <td>15.4</td>\n      <td>33.9</td>\n      <td>1.7</td>\n      <td>0.0</td>\n      <td>0.0</td>\n      <td>24.8</td>\n      <td>141</td>\n      <td>122</td>\n      <td>11.9</td>\n    </tr>\n    <tr>\n      <th>5</th>\n      <td>player</td>\n      <td>None</td>\n      <td>None</td>\n      <td>None</td>\n      <td>None</td>\n      <td>None</td>\n      <td>None</td>\n      <td>None</td>\n      <td>None</td>\n      <td>None</td>\n      <td>None</td>\n      <td>None</td>\n      <td>None</td>\n      <td>None</td>\n      <td>None</td>\n      <td>None</td>\n      <td>None</td>\n    </tr>\n    <tr>\n      <th>6</th>\n      <td>Gabe Vincent</td>\n      <td>22:18</td>\n      <td>.375</td>\n      <td>.375</td>\n      <td>.500</td>\n      <td>.000</td>\n      <td>4.7</td>\n      <td>0.0</td>\n      <td>2.5</td>\n      <td>12.5</td>\n      <td>2.3</td>\n      <td>0.0</td>\n      <td>20.0</td>\n      <td>19.6</td>\n      <td>77</td>\n      <td>126</td>\n      <td>-11.3</td>\n    </tr>\n    <tr>\n      <th>7</th>\n      <td>Cam Reddish</td>\n      <td>17:38</td>\n      <td>.717</td>\n      <td>.625</td>\n      <td>.500</td>\n      <td>.500</td>\n      <td>11.8</td>\n      <td>13.6</td>\n      <td>12.7</td>\n      <td>0.0</td>\n      <td>0.0</td>\n      <td>4.8</td>\n      <td>0.0</td>\n      <td>12.1</td>\n      <td>163</td>\n      <td>125</td>\n      <td>3.6</td>\n    </tr>\n    <tr>\n      <th>8</th>\n      <td>Christian Wood</td>\n      <td>15:28</td>\n      <td>.717</td>\n      <td>.750</td>\n      <td>.250</td>\n      <td>.500</td>\n      <td>6.7</td>\n      <td>23.3</td>\n      <td>14.4</td>\n      <td>0.0</td>\n      <td>0.0</td>\n      <td>0.0</td>\n      <td>17.0</td>\n      <td>16.6</td>\n      <td>118</td>\n      <td>127</td>\n      <td>-3.3</td>\n    </tr>\n    <tr>\n      <th>9</th>\n      <td>Rui Hachimura</td>\n      <td>14:39</td>\n      <td>.300</td>\n      <td>.300</td>\n      <td>.300</td>\n      <td>.000</td>\n      <td>14.2</td>\n      <td>8.2</td>\n      <td>11.4</td>\n      <td>0.0</td>\n      <td>0.0</td>\n      <td>0.0</td>\n      <td>0.0</td>\n      <td>29.8</td>\n      <td>79</td>\n      <td>130</td>\n      <td>-17.1</td>\n    </tr>\n    <tr>\n      <th>10</th>\n      <td>Jaxson Hayes</td>\n      <td>6:54</td>\n      <td></td>\n      <td></td>\n      <td></td>\n      <td></td>\n      <td>0.0</td>\n      <td>17.4</td>\n      <td>8.1</td>\n      <td>0.0</td>\n      <td>0.0</td>\n      <td>0.0</td>\n      <td></td>\n      <td>0.0</td>\n      <td>0</td>\n      <td>128</td>\n      <td>-9.7</td>\n    </tr>\n    <tr>\n      <th>11</th>\n      <td>Max Christie</td>\n      <td>1:15</td>\n      <td></td>\n      <td></td>\n      <td></td>\n      <td></td>\n      <td>0.0</td>\n      <td>0.0</td>\n      <td>0.0</td>\n      <td>0.0</td>\n      <td>0.0</td>\n      <td>0.0</td>\n      <td></td>\n      <td>0.0</td>\n      <td>0</td>\n      <td>131</td>\n      <td>-7.6</td>\n    </tr>\n    <tr>\n      <th>12</th>\n      <td>Maxwell Lewis</td>\n      <td>1:15</td>\n      <td></td>\n      <td></td>\n      <td></td>\n      <td></td>\n      <td>0.0</td>\n      <td>0.0</td>\n      <td>0.0</td>\n      <td>0.0</td>\n      <td>0.0</td>\n      <td>0.0</td>\n      <td></td>\n      <td>0.0</td>\n      <td>0</td>\n      <td>131</td>\n      <td>-7.2</td>\n    </tr>\n  </tbody>\n</table>\n</div>"
     },
     "execution_count": 25,
     "metadata": {},
     "output_type": "execute_result"
    }
   ],
   "source": [
    "make_advanced_table_pandas(get_tables(page)[3])"
   ],
   "metadata": {
    "collapsed": false,
    "ExecuteTime": {
     "end_time": "2024-02-03T08:56:44.508159400Z",
     "start_time": "2024-02-03T08:56:44.429524400Z"
    }
   },
   "id": "cb3d62afd6802896",
   "execution_count": 25
  },
  {
   "cell_type": "code",
   "outputs": [],
   "source": [],
   "metadata": {
    "collapsed": false,
    "ExecuteTime": {
     "end_time": "2024-02-03T08:56:44.508159400Z",
     "start_time": "2024-02-03T08:56:44.454420600Z"
    }
   },
   "id": "781dece1b5babaf0",
   "execution_count": 25
  }
 ],
 "metadata": {
  "kernelspec": {
   "display_name": "Python 3",
   "language": "python",
   "name": "python3"
  },
  "language_info": {
   "codemirror_mode": {
    "name": "ipython",
    "version": 2
   },
   "file_extension": ".py",
   "mimetype": "text/x-python",
   "name": "python",
   "nbconvert_exporter": "python",
   "pygments_lexer": "ipython2",
   "version": "2.7.6"
  }
 },
 "nbformat": 4,
 "nbformat_minor": 5
}
