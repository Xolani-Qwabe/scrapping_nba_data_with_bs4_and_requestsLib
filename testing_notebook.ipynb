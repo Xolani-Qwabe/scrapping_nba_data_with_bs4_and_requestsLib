{
 "cells": [
  {
   "cell_type": "code",
   "execution_count": 11,
   "id": "initial_id",
   "metadata": {
    "collapsed": true,
    "ExecuteTime": {
     "end_time": "2024-02-02T16:09:35.548195600Z",
     "start_time": "2024-02-02T16:09:35.543876200Z"
    }
   },
   "outputs": [],
   "source": []
  },
  {
   "cell_type": "code",
   "outputs": [],
   "source": [
    "import requests\n",
    "from bs4 import BeautifulSoup\n",
    "import time\n",
    "\n",
    "\n",
    "oct_url = 'https://www.basketball-reference.com/leagues/NBA_2024_games.html'\n",
    "nov_url = 'https://www.basketball-reference.com/leagues/NBA_2024_games-november.html'\n",
    "dec_url = 'https://www.basketball-reference.com/leagues/NBA_2024_games-december.html'\n",
    "jan_url = 'https://www.basketball-reference.com/leagues/NBA_2024_games-january.html'\n",
    "feb_url = 'https://www.basketball-reference.com/leagues/NBA_2024_games-february.html'\n",
    "all_box_score_links = [oct_url,nov_url,dec_url,jan_url,feb_url]\n",
    "def get_page(url):\n",
    "    data_source = requests.get(url, headers={'User-Agent': 'Mozilla/5.0'})\n",
    "    return BeautifulSoup(data_source.content, 'html.parser')\n",
    "\n",
    "\n",
    "# this will get all the (<a>) links that ends with .html\n",
    "# and starts with /boxscores, get href values and return a list.\n",
    "def get_all_box_score_links(page):\n",
    "    a_elements = page.find_all('a', href=lambda href: href.endswith('.html') and href.startswith('/boxscores'))\n",
    "    ref = 'href'\n",
    "    return [f'https://www.basketball-reference.com{a_element.get(ref)}' for a_element in a_elements]\n",
    "\n",
    "\n",
    "\n",
    "\n",
    "def list_all_box_score_2024_games(urls):\n",
    "    all = []\n",
    "    for url in urls:\n",
    "        list = get_all_box_score_links(get_page(url))\n",
    "        all += list\n",
    "        time.sleep(2)\n",
    "    return all\n"
   ],
   "metadata": {
    "collapsed": false,
    "ExecuteTime": {
     "end_time": "2024-02-02T16:09:35.577819100Z",
     "start_time": "2024-02-02T16:09:35.557515800Z"
    }
   },
   "id": "bf232f58366f90a7",
   "execution_count": 12
  },
  {
   "cell_type": "code",
   "outputs": [
    {
     "data": {
      "text/plain": "['https://www.basketball-reference.com/boxscores/202402010BOS.html',\n 'https://www.basketball-reference.com/boxscores/202402010NYK.html',\n 'https://www.basketball-reference.com/boxscores/202402010MEM.html',\n 'https://www.basketball-reference.com/boxscores/202402010UTA.html']"
     },
     "execution_count": 14,
     "metadata": {},
     "output_type": "execute_result"
    }
   ],
   "source": [
    "get_all_box_score_links(get_page(feb_url))"
   ],
   "metadata": {
    "collapsed": false,
    "ExecuteTime": {
     "end_time": "2024-02-02T16:10:50.965685800Z",
     "start_time": "2024-02-02T16:10:49.071951200Z"
    }
   },
   "id": "2a99511822470b8a",
   "execution_count": 14
  },
  {
   "cell_type": "code",
   "outputs": [],
   "source": [],
   "metadata": {
    "collapsed": false,
    "ExecuteTime": {
     "end_time": "2024-02-02T16:09:36.511987900Z",
     "start_time": "2024-02-02T16:09:36.505902900Z"
    }
   },
   "id": "84d24dfffd5944de",
   "execution_count": 13
  }
 ],
 "metadata": {
  "kernelspec": {
   "display_name": "Python 3",
   "language": "python",
   "name": "python3"
  },
  "language_info": {
   "codemirror_mode": {
    "name": "ipython",
    "version": 2
   },
   "file_extension": ".py",
   "mimetype": "text/x-python",
   "name": "python",
   "nbconvert_exporter": "python",
   "pygments_lexer": "ipython2",
   "version": "2.7.6"
  }
 },
 "nbformat": 4,
 "nbformat_minor": 5
}
