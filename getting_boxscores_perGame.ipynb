{
 "cells": [
  {
   "cell_type": "code",
   "execution_count": 2,
   "id": "initial_id",
   "metadata": {
    "collapsed": true,
    "ExecuteTime": {
     "end_time": "2024-02-02T11:00:00.477321Z",
     "start_time": "2024-02-02T10:59:58.549589500Z"
    }
   },
   "outputs": [
    {
     "name": "stderr",
     "output_type": "stream",
     "text": [
      "C:\\Users\\thabi\\AppData\\Local\\Temp\\ipykernel_2420\\1549697249.py:3: DeprecationWarning: \n",
      "Pyarrow will become a required dependency of pandas in the next major release of pandas (pandas 3.0),\n",
      "(to allow more performant data types, such as the Arrow string type, and better interoperability with other libraries)\n",
      "but was not found to be installed on your system.\n",
      "If this would cause problems for you,\n",
      "please provide us feedback at https://github.com/pandas-dev/pandas/issues/54466\n",
      "        \n",
      "  import pandas as pd\n"
     ]
    }
   ],
   "source": [
    "import requests\n",
    "from bs4 import BeautifulSoup\n",
    "import pandas as pd"
   ]
  },
  {
   "cell_type": "code",
   "outputs": [],
   "source": [
    "url = 'https://www.basketball-reference.com/boxscores/202310240DEN.html'\n",
    "data_source = requests.get(url, headers={'User-Agent': 'Mozilla/5.0'})\n",
    "page = BeautifulSoup(data_source.content, 'html.parser')"
   ],
   "metadata": {
    "collapsed": false,
    "ExecuteTime": {
     "end_time": "2024-02-02T11:00:01.803604600Z",
     "start_time": "2024-02-02T11:00:00.461630100Z"
    }
   },
   "id": "14ae11d25538aee8",
   "execution_count": 3
  },
  {
   "cell_type": "code",
   "outputs": [],
   "source": [
    "headers =[th.getText().split('\\n') for th in page.find_all('tr',limit=5)[1:2]][0][1:-1]"
   ],
   "metadata": {
    "collapsed": false,
    "ExecuteTime": {
     "end_time": "2024-02-02T11:00:01.821273900Z",
     "start_time": "2024-02-02T11:00:01.806049600Z"
    }
   },
   "id": "22c13706487dc691",
   "execution_count": 4
  },
  {
   "cell_type": "code",
   "outputs": [
    {
     "data": {
      "text/plain": "[<tr><th class=\"left\" csk=\"Russell,D'Angelo\" data-append-csv=\"russeda01\" data-stat=\"player\" scope=\"row\"><a href=\"/players/r/russeda01.html\">D'Angelo Russell</a></th><td class=\"right\" csk=\"2171\" data-stat=\"mp\">36:11</td><td class=\"right\" data-stat=\"fg\">4</td><td class=\"right\" data-stat=\"fga\">12</td><td class=\"right\" data-stat=\"fg_pct\">.333</td><td class=\"right\" data-stat=\"fg3\">2</td><td class=\"right\" data-stat=\"fg3a\">5</td><td class=\"right\" data-stat=\"fg3_pct\">.400</td><td class=\"right\" data-stat=\"ft\">1</td><td class=\"right\" data-stat=\"fta\">2</td><td class=\"right\" data-stat=\"ft_pct\">.500</td><td class=\"right iz\" data-stat=\"orb\">0</td><td class=\"right\" data-stat=\"drb\">4</td><td class=\"right\" data-stat=\"trb\">4</td><td class=\"right\" data-stat=\"ast\">7</td><td class=\"right\" data-stat=\"stl\">1</td><td class=\"right iz\" data-stat=\"blk\">0</td><td class=\"right\" data-stat=\"tov\">3</td><td class=\"right\" data-stat=\"pf\">3</td><td class=\"right\" data-stat=\"pts\">11</td><td class=\"right\" data-stat=\"plus_minus\">+1</td></tr>,\n <tr><th class=\"left\" csk=\"Davis,Anthony\" data-append-csv=\"davisan02\" data-stat=\"player\" scope=\"row\"><a href=\"/players/d/davisan02.html\">Anthony Davis</a></th><td class=\"right\" csk=\"2049\" data-stat=\"mp\">34:09</td><td class=\"right\" data-stat=\"fg\">6</td><td class=\"right\" data-stat=\"fga\">17</td><td class=\"right\" data-stat=\"fg_pct\">.353</td><td class=\"right\" data-stat=\"fg3\">1</td><td class=\"right\" data-stat=\"fg3a\">2</td><td class=\"right\" data-stat=\"fg3_pct\">.500</td><td class=\"right\" data-stat=\"ft\">4</td><td class=\"right\" data-stat=\"fta\">4</td><td class=\"right\" data-stat=\"ft_pct\">1.000</td><td class=\"right\" data-stat=\"orb\">1</td><td class=\"right\" data-stat=\"drb\">7</td><td class=\"right\" data-stat=\"trb\">8</td><td class=\"right\" data-stat=\"ast\">4</td><td class=\"right iz\" data-stat=\"stl\">0</td><td class=\"right\" data-stat=\"blk\">2</td><td class=\"right\" data-stat=\"tov\">2</td><td class=\"right\" data-stat=\"pf\">3</td><td class=\"right\" data-stat=\"pts\">17</td><td class=\"right\" data-stat=\"plus_minus\">-17</td></tr>,\n <tr><th class=\"left\" csk=\"Reaves,Austin\" data-append-csv=\"reaveau01\" data-stat=\"player\" scope=\"row\"><a href=\"/players/r/reaveau01.html\">Austin Reaves</a></th><td class=\"right\" csk=\"1880\" data-stat=\"mp\">31:20</td><td class=\"right\" data-stat=\"fg\">4</td><td class=\"right\" data-stat=\"fga\">11</td><td class=\"right\" data-stat=\"fg_pct\">.364</td><td class=\"right\" data-stat=\"fg3\">1</td><td class=\"right\" data-stat=\"fg3a\">2</td><td class=\"right\" data-stat=\"fg3_pct\">.500</td><td class=\"right\" data-stat=\"ft\">5</td><td class=\"right\" data-stat=\"fta\">7</td><td class=\"right\" data-stat=\"ft_pct\">.714</td><td class=\"right\" data-stat=\"orb\">4</td><td class=\"right\" data-stat=\"drb\">4</td><td class=\"right\" data-stat=\"trb\">8</td><td class=\"right\" data-stat=\"ast\">4</td><td class=\"right\" data-stat=\"stl\">2</td><td class=\"right iz\" data-stat=\"blk\">0</td><td class=\"right\" data-stat=\"tov\">2</td><td class=\"right\" data-stat=\"pf\">2</td><td class=\"right\" data-stat=\"pts\">14</td><td class=\"right\" data-stat=\"plus_minus\">-14</td></tr>,\n <tr><th class=\"left\" csk=\"Prince,Taurean\" data-append-csv=\"princta02\" data-stat=\"player\" scope=\"row\"><a href=\"/players/p/princta02.html\">Taurean Prince</a></th><td class=\"right\" csk=\"1793\" data-stat=\"mp\">29:53</td><td class=\"right\" data-stat=\"fg\">6</td><td class=\"right\" data-stat=\"fga\">8</td><td class=\"right\" data-stat=\"fg_pct\">.750</td><td class=\"right\" data-stat=\"fg3\">4</td><td class=\"right\" data-stat=\"fg3a\">6</td><td class=\"right\" data-stat=\"fg3_pct\">.667</td><td class=\"right\" data-stat=\"ft\">2</td><td class=\"right\" data-stat=\"fta\">2</td><td class=\"right\" data-stat=\"ft_pct\">1.000</td><td class=\"right\" data-stat=\"orb\">1</td><td class=\"right\" data-stat=\"drb\">2</td><td class=\"right\" data-stat=\"trb\">3</td><td class=\"right\" data-stat=\"ast\">1</td><td class=\"right iz\" data-stat=\"stl\">0</td><td class=\"right\" data-stat=\"blk\">1</td><td class=\"right\" data-stat=\"tov\">1</td><td class=\"right iz\" data-stat=\"pf\">0</td><td class=\"right\" data-stat=\"pts\">18</td><td class=\"right\" data-stat=\"plus_minus\">-14</td></tr>,\n <tr><th class=\"left\" csk=\"James,LeBron\" data-append-csv=\"jamesle01\" data-stat=\"player\" scope=\"row\"><a href=\"/players/j/jamesle01.html\">LeBron James</a></th><td class=\"right\" csk=\"1740\" data-stat=\"mp\">29:00</td><td class=\"right\" data-stat=\"fg\">10</td><td class=\"right\" data-stat=\"fga\">16</td><td class=\"right\" data-stat=\"fg_pct\">.625</td><td class=\"right\" data-stat=\"fg3\">1</td><td class=\"right\" data-stat=\"fg3a\">4</td><td class=\"right\" data-stat=\"fg3_pct\">.250</td><td class=\"right iz\" data-stat=\"ft\">0</td><td class=\"right\" data-stat=\"fta\">1</td><td class=\"right iz\" data-stat=\"ft_pct\">.000</td><td class=\"right\" data-stat=\"orb\">1</td><td class=\"right\" data-stat=\"drb\">7</td><td class=\"right\" data-stat=\"trb\">8</td><td class=\"right\" data-stat=\"ast\">5</td><td class=\"right\" data-stat=\"stl\">1</td><td class=\"right iz\" data-stat=\"blk\">0</td><td class=\"right iz\" data-stat=\"tov\">0</td><td class=\"right\" data-stat=\"pf\">1</td><td class=\"right\" data-stat=\"pts\">21</td><td class=\"right\" data-stat=\"plus_minus\">+7</td></tr>]"
     },
     "execution_count": 6,
     "metadata": {},
     "output_type": "execute_result"
    }
   ],
   "source": [
    "table_body = page.find('tbody').find_all('tr', limit=5)\n",
    "table_body"
   ],
   "metadata": {
    "collapsed": false,
    "ExecuteTime": {
     "end_time": "2024-02-02T11:00:01.868761500Z",
     "start_time": "2024-02-02T11:00:01.828567100Z"
    }
   },
   "id": "2451f37b0d1e0654",
   "execution_count": 6
  },
  {
   "cell_type": "code",
   "outputs": [],
   "source": [
    "rows = [td for td in page.find('tbody').find_all('tr')]"
   ],
   "metadata": {
    "collapsed": false,
    "ExecuteTime": {
     "end_time": "2024-02-02T11:00:01.889798300Z",
     "start_time": "2024-02-02T11:00:01.845536400Z"
    }
   },
   "id": "8dd7555fd557eea5",
   "execution_count": 7
  },
  {
   "cell_type": "code",
   "outputs": [],
   "source": [
    "player_names = [[td.getText() for td in rows[i].find_all('a')]for i in range(len(rows))]"
   ],
   "metadata": {
    "collapsed": false,
    "ExecuteTime": {
     "end_time": "2024-02-02T11:00:01.968016900Z",
     "start_time": "2024-02-02T11:00:01.856800Z"
    }
   },
   "id": "506a93c61276782c",
   "execution_count": 8
  },
  {
   "cell_type": "code",
   "outputs": [],
   "source": [
    "player_stats = [[td.getText() for td in rows[i].find_all('td')]for i in range(len(rows))]"
   ],
   "metadata": {
    "collapsed": false,
    "ExecuteTime": {
     "end_time": "2024-02-02T11:00:01.970096Z",
     "start_time": "2024-02-02T11:00:01.866717400Z"
    }
   },
   "id": "f1b88b0da997209",
   "execution_count": 9
  },
  {
   "cell_type": "code",
   "outputs": [],
   "source": [
    "def make_rows(player_names, player_stats):\n",
    "    player_names[5].insert(5, 'player')\n",
    "    for i in range(len(player_names)):\n",
    "        player = player_names[i][0]\n",
    "        (player_stats[i].insert(0,player))\n",
    "\n",
    "make_rows(player_names, player_stats)\n",
    "\n",
    "stats = pd.DataFrame(player_stats, columns=headers)"
   ],
   "metadata": {
    "collapsed": false,
    "ExecuteTime": {
     "end_time": "2024-02-02T11:00:01.971183Z",
     "start_time": "2024-02-02T11:00:01.878497600Z"
    }
   },
   "id": "d1f428bf8162ef81",
   "execution_count": 10
  },
  {
   "cell_type": "code",
   "outputs": [
    {
     "data": {
      "text/plain": "            Starters     MP    FG   FGA   FG%    3P   3PA   3P%    FT   FTA  \\\n0   D'Angelo Russell  36:11     4    12  .333     2     5  .400     1     2   \n1      Anthony Davis  34:09     6    17  .353     1     2  .500     4     4   \n2      Austin Reaves  31:20     4    11  .364     1     2  .500     5     7   \n3     Taurean Prince  29:53     6     8  .750     4     6  .667     2     2   \n4       LeBron James  29:00    10    16  .625     1     4  .250     0     1   \n5             player   None  None  None  None  None  None  None  None  None   \n6       Gabe Vincent  22:18     3     8  .375     0     4  .000     0     0   \n7        Cam Reddish  17:38     2     4  .500     1     2  .500     2     2   \n8     Christian Wood  15:28     3     4  .750     0     1  .000     1     2   \n9      Rui Hachimura  14:39     3    10  .300     0     3  .000     0     0   \n10      Jaxson Hayes   6:54     0     0           0     0           0     0   \n11      Max Christie   1:15     0     0           0     0           0     0   \n12     Maxwell Lewis   1:15     0     0           0     0           0     0   \n\n    ...   ORB   DRB   TRB   AST   STL   BLK   TOV    PF   PTS   +/-  \n0   ...     0     4     4     7     1     0     3     3    11    +1  \n1   ...     1     7     8     4     0     2     2     3    17   -17  \n2   ...     4     4     8     4     2     0     2     2    14   -14  \n3   ...     1     2     3     1     0     1     1     0    18   -14  \n4   ...     1     7     8     5     1     0     0     1    21    +7  \n5   ...  None  None  None  None  None  None  None  None  None  None  \n6   ...     1     0     1     2     1     0     2     3     6   -17  \n7   ...     2     2     4     0     0     1     0     2     7    +7  \n8   ...     1     3     4     0     0     0     1     1     7    +2  \n9   ...     2     1     3     0     0     0     0     2     6    -8  \n10  ...     0     1     1     0     0     0     0     1     0    -7  \n11  ...     0     0     0     0     0     0     0     0     0     0  \n12  ...     0     0     0     0     0     0     0     0     0     0  \n\n[13 rows x 21 columns]",
      "text/html": "<div>\n<style scoped>\n    .dataframe tbody tr th:only-of-type {\n        vertical-align: middle;\n    }\n\n    .dataframe tbody tr th {\n        vertical-align: top;\n    }\n\n    .dataframe thead th {\n        text-align: right;\n    }\n</style>\n<table border=\"1\" class=\"dataframe\">\n  <thead>\n    <tr style=\"text-align: right;\">\n      <th></th>\n      <th>Starters</th>\n      <th>MP</th>\n      <th>FG</th>\n      <th>FGA</th>\n      <th>FG%</th>\n      <th>3P</th>\n      <th>3PA</th>\n      <th>3P%</th>\n      <th>FT</th>\n      <th>FTA</th>\n      <th>...</th>\n      <th>ORB</th>\n      <th>DRB</th>\n      <th>TRB</th>\n      <th>AST</th>\n      <th>STL</th>\n      <th>BLK</th>\n      <th>TOV</th>\n      <th>PF</th>\n      <th>PTS</th>\n      <th>+/-</th>\n    </tr>\n  </thead>\n  <tbody>\n    <tr>\n      <th>0</th>\n      <td>D'Angelo Russell</td>\n      <td>36:11</td>\n      <td>4</td>\n      <td>12</td>\n      <td>.333</td>\n      <td>2</td>\n      <td>5</td>\n      <td>.400</td>\n      <td>1</td>\n      <td>2</td>\n      <td>...</td>\n      <td>0</td>\n      <td>4</td>\n      <td>4</td>\n      <td>7</td>\n      <td>1</td>\n      <td>0</td>\n      <td>3</td>\n      <td>3</td>\n      <td>11</td>\n      <td>+1</td>\n    </tr>\n    <tr>\n      <th>1</th>\n      <td>Anthony Davis</td>\n      <td>34:09</td>\n      <td>6</td>\n      <td>17</td>\n      <td>.353</td>\n      <td>1</td>\n      <td>2</td>\n      <td>.500</td>\n      <td>4</td>\n      <td>4</td>\n      <td>...</td>\n      <td>1</td>\n      <td>7</td>\n      <td>8</td>\n      <td>4</td>\n      <td>0</td>\n      <td>2</td>\n      <td>2</td>\n      <td>3</td>\n      <td>17</td>\n      <td>-17</td>\n    </tr>\n    <tr>\n      <th>2</th>\n      <td>Austin Reaves</td>\n      <td>31:20</td>\n      <td>4</td>\n      <td>11</td>\n      <td>.364</td>\n      <td>1</td>\n      <td>2</td>\n      <td>.500</td>\n      <td>5</td>\n      <td>7</td>\n      <td>...</td>\n      <td>4</td>\n      <td>4</td>\n      <td>8</td>\n      <td>4</td>\n      <td>2</td>\n      <td>0</td>\n      <td>2</td>\n      <td>2</td>\n      <td>14</td>\n      <td>-14</td>\n    </tr>\n    <tr>\n      <th>3</th>\n      <td>Taurean Prince</td>\n      <td>29:53</td>\n      <td>6</td>\n      <td>8</td>\n      <td>.750</td>\n      <td>4</td>\n      <td>6</td>\n      <td>.667</td>\n      <td>2</td>\n      <td>2</td>\n      <td>...</td>\n      <td>1</td>\n      <td>2</td>\n      <td>3</td>\n      <td>1</td>\n      <td>0</td>\n      <td>1</td>\n      <td>1</td>\n      <td>0</td>\n      <td>18</td>\n      <td>-14</td>\n    </tr>\n    <tr>\n      <th>4</th>\n      <td>LeBron James</td>\n      <td>29:00</td>\n      <td>10</td>\n      <td>16</td>\n      <td>.625</td>\n      <td>1</td>\n      <td>4</td>\n      <td>.250</td>\n      <td>0</td>\n      <td>1</td>\n      <td>...</td>\n      <td>1</td>\n      <td>7</td>\n      <td>8</td>\n      <td>5</td>\n      <td>1</td>\n      <td>0</td>\n      <td>0</td>\n      <td>1</td>\n      <td>21</td>\n      <td>+7</td>\n    </tr>\n    <tr>\n      <th>5</th>\n      <td>player</td>\n      <td>None</td>\n      <td>None</td>\n      <td>None</td>\n      <td>None</td>\n      <td>None</td>\n      <td>None</td>\n      <td>None</td>\n      <td>None</td>\n      <td>None</td>\n      <td>...</td>\n      <td>None</td>\n      <td>None</td>\n      <td>None</td>\n      <td>None</td>\n      <td>None</td>\n      <td>None</td>\n      <td>None</td>\n      <td>None</td>\n      <td>None</td>\n      <td>None</td>\n    </tr>\n    <tr>\n      <th>6</th>\n      <td>Gabe Vincent</td>\n      <td>22:18</td>\n      <td>3</td>\n      <td>8</td>\n      <td>.375</td>\n      <td>0</td>\n      <td>4</td>\n      <td>.000</td>\n      <td>0</td>\n      <td>0</td>\n      <td>...</td>\n      <td>1</td>\n      <td>0</td>\n      <td>1</td>\n      <td>2</td>\n      <td>1</td>\n      <td>0</td>\n      <td>2</td>\n      <td>3</td>\n      <td>6</td>\n      <td>-17</td>\n    </tr>\n    <tr>\n      <th>7</th>\n      <td>Cam Reddish</td>\n      <td>17:38</td>\n      <td>2</td>\n      <td>4</td>\n      <td>.500</td>\n      <td>1</td>\n      <td>2</td>\n      <td>.500</td>\n      <td>2</td>\n      <td>2</td>\n      <td>...</td>\n      <td>2</td>\n      <td>2</td>\n      <td>4</td>\n      <td>0</td>\n      <td>0</td>\n      <td>1</td>\n      <td>0</td>\n      <td>2</td>\n      <td>7</td>\n      <td>+7</td>\n    </tr>\n    <tr>\n      <th>8</th>\n      <td>Christian Wood</td>\n      <td>15:28</td>\n      <td>3</td>\n      <td>4</td>\n      <td>.750</td>\n      <td>0</td>\n      <td>1</td>\n      <td>.000</td>\n      <td>1</td>\n      <td>2</td>\n      <td>...</td>\n      <td>1</td>\n      <td>3</td>\n      <td>4</td>\n      <td>0</td>\n      <td>0</td>\n      <td>0</td>\n      <td>1</td>\n      <td>1</td>\n      <td>7</td>\n      <td>+2</td>\n    </tr>\n    <tr>\n      <th>9</th>\n      <td>Rui Hachimura</td>\n      <td>14:39</td>\n      <td>3</td>\n      <td>10</td>\n      <td>.300</td>\n      <td>0</td>\n      <td>3</td>\n      <td>.000</td>\n      <td>0</td>\n      <td>0</td>\n      <td>...</td>\n      <td>2</td>\n      <td>1</td>\n      <td>3</td>\n      <td>0</td>\n      <td>0</td>\n      <td>0</td>\n      <td>0</td>\n      <td>2</td>\n      <td>6</td>\n      <td>-8</td>\n    </tr>\n    <tr>\n      <th>10</th>\n      <td>Jaxson Hayes</td>\n      <td>6:54</td>\n      <td>0</td>\n      <td>0</td>\n      <td></td>\n      <td>0</td>\n      <td>0</td>\n      <td></td>\n      <td>0</td>\n      <td>0</td>\n      <td>...</td>\n      <td>0</td>\n      <td>1</td>\n      <td>1</td>\n      <td>0</td>\n      <td>0</td>\n      <td>0</td>\n      <td>0</td>\n      <td>1</td>\n      <td>0</td>\n      <td>-7</td>\n    </tr>\n    <tr>\n      <th>11</th>\n      <td>Max Christie</td>\n      <td>1:15</td>\n      <td>0</td>\n      <td>0</td>\n      <td></td>\n      <td>0</td>\n      <td>0</td>\n      <td></td>\n      <td>0</td>\n      <td>0</td>\n      <td>...</td>\n      <td>0</td>\n      <td>0</td>\n      <td>0</td>\n      <td>0</td>\n      <td>0</td>\n      <td>0</td>\n      <td>0</td>\n      <td>0</td>\n      <td>0</td>\n      <td>0</td>\n    </tr>\n    <tr>\n      <th>12</th>\n      <td>Maxwell Lewis</td>\n      <td>1:15</td>\n      <td>0</td>\n      <td>0</td>\n      <td></td>\n      <td>0</td>\n      <td>0</td>\n      <td></td>\n      <td>0</td>\n      <td>0</td>\n      <td>...</td>\n      <td>0</td>\n      <td>0</td>\n      <td>0</td>\n      <td>0</td>\n      <td>0</td>\n      <td>0</td>\n      <td>0</td>\n      <td>0</td>\n      <td>0</td>\n      <td>0</td>\n    </tr>\n  </tbody>\n</table>\n<p>13 rows × 21 columns</p>\n</div>"
     },
     "execution_count": 11,
     "metadata": {},
     "output_type": "execute_result"
    }
   ],
   "source": [
    "stats.head(15)"
   ],
   "metadata": {
    "collapsed": false,
    "ExecuteTime": {
     "end_time": "2024-02-02T11:00:02.022973600Z",
     "start_time": "2024-02-02T11:00:01.892078900Z"
    }
   },
   "id": "d541c26fd852074d",
   "execution_count": 11
  },
  {
   "cell_type": "code",
   "outputs": [],
   "source": [],
   "metadata": {
    "collapsed": false,
    "ExecuteTime": {
     "end_time": "2024-02-02T11:00:02.022973600Z",
     "start_time": "2024-02-02T11:00:01.933016900Z"
    }
   },
   "id": "b590e4811346ede9",
   "execution_count": 11
  }
 ],
 "metadata": {
  "kernelspec": {
   "display_name": "Python 3",
   "language": "python",
   "name": "python3"
  },
  "language_info": {
   "codemirror_mode": {
    "name": "ipython",
    "version": 2
   },
   "file_extension": ".py",
   "mimetype": "text/x-python",
   "name": "python",
   "nbconvert_exporter": "python",
   "pygments_lexer": "ipython2",
   "version": "2.7.6"
  }
 },
 "nbformat": 4,
 "nbformat_minor": 5
}
