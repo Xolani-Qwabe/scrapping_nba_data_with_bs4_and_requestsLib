{
 "cells": [
  {
   "cell_type": "code",
   "execution_count": 10,
   "id": "initial_id",
   "metadata": {
    "collapsed": true,
    "ExecuteTime": {
     "end_time": "2024-02-01T09:07:54.826356400Z",
     "start_time": "2024-02-01T09:07:54.815191200Z"
    }
   },
   "outputs": [],
   "source": [
    "import requests\n",
    "from bs4 import BeautifulSoup\n",
    "import pandas as pd"
   ]
  },
  {
   "cell_type": "code",
   "outputs": [],
   "source": [
    "url = 'https://www.basketball-reference.com/boxscores/202310240DEN.html'\n",
    "data_source = requests.get(url, headers={'User-Agent': 'Mozilla/5.0'})\n",
    "page = BeautifulSoup(data_source.content, 'html.parser')"
   ],
   "metadata": {
    "collapsed": false,
    "ExecuteTime": {
     "end_time": "2024-02-01T09:07:55.735573900Z",
     "start_time": "2024-02-01T09:07:54.825281100Z"
    }
   },
   "id": "14ae11d25538aee8",
   "execution_count": 11
  },
  {
   "cell_type": "code",
   "outputs": [],
   "source": [
    "headers =[th.getText().split('\\n') for th in page.find_all('tr',limit=5)[1:2]][0][1:-1]"
   ],
   "metadata": {
    "collapsed": false,
    "ExecuteTime": {
     "end_time": "2024-02-01T09:07:55.750448800Z",
     "start_time": "2024-02-01T09:07:55.737765100Z"
    }
   },
   "id": "22c13706487dc691",
   "execution_count": 12
  },
  {
   "cell_type": "code",
   "outputs": [
    {
     "data": {
      "text/plain": "['Starters',\n 'MP',\n 'FG',\n 'FGA',\n 'FG%',\n '3P',\n '3PA',\n '3P%',\n 'FT',\n 'FTA',\n 'FT%',\n 'ORB',\n 'DRB',\n 'TRB',\n 'AST',\n 'STL',\n 'BLK',\n 'TOV',\n 'PF',\n 'PTS',\n '+/-']"
     },
     "execution_count": 13,
     "metadata": {},
     "output_type": "execute_result"
    }
   ],
   "source": [
    "headers"
   ],
   "metadata": {
    "collapsed": false,
    "ExecuteTime": {
     "end_time": "2024-02-01T09:07:55.755548100Z",
     "start_time": "2024-02-01T09:07:55.747184700Z"
    }
   },
   "id": "28f9b9d408866852",
   "execution_count": 13
  },
  {
   "cell_type": "code",
   "outputs": [],
   "source": [
    "table_body = page.find('tbody').find_all('tr', limit=5)"
   ],
   "metadata": {
    "collapsed": false,
    "ExecuteTime": {
     "end_time": "2024-02-01T09:07:55.820842300Z",
     "start_time": "2024-02-01T09:07:55.758844600Z"
    }
   },
   "id": "2451f37b0d1e0654",
   "execution_count": 14
  },
  {
   "cell_type": "code",
   "outputs": [],
   "source": [
    "rows = [td for td in page.find('tbody').find_all('tr')]"
   ],
   "metadata": {
    "collapsed": false,
    "ExecuteTime": {
     "end_time": "2024-02-01T09:07:55.821921800Z",
     "start_time": "2024-02-01T09:07:55.769804300Z"
    }
   },
   "id": "8dd7555fd557eea5",
   "execution_count": 15
  },
  {
   "cell_type": "code",
   "outputs": [],
   "source": [
    "player_names = [[td.getText() for td in rows[i].find_all('a')]for i in range(len(rows))]"
   ],
   "metadata": {
    "collapsed": false,
    "ExecuteTime": {
     "end_time": "2024-02-01T09:07:55.844708900Z",
     "start_time": "2024-02-01T09:07:55.780464100Z"
    }
   },
   "id": "506a93c61276782c",
   "execution_count": 16
  },
  {
   "cell_type": "code",
   "outputs": [],
   "source": [
    "player_stats = [[td.getText() for td in rows[i].find_all('td')]for i in range(len(rows))]"
   ],
   "metadata": {
    "collapsed": false,
    "ExecuteTime": {
     "end_time": "2024-02-01T09:07:55.845773400Z",
     "start_time": "2024-02-01T09:07:55.791532700Z"
    }
   },
   "id": "f1b88b0da997209",
   "execution_count": 17
  },
  {
   "cell_type": "code",
   "outputs": [
    {
     "data": {
      "text/plain": "[[\"D'Angelo Russell\"],\n ['Anthony Davis'],\n ['Austin Reaves'],\n ['Taurean Prince'],\n ['LeBron James'],\n [],\n ['Gabe Vincent'],\n ['Cam Reddish'],\n ['Christian Wood'],\n ['Rui Hachimura'],\n ['Jaxson Hayes'],\n ['Max Christie'],\n ['Maxwell Lewis']]"
     },
     "execution_count": 18,
     "metadata": {},
     "output_type": "execute_result"
    }
   ],
   "source": [
    "player_names"
   ],
   "metadata": {
    "collapsed": false,
    "ExecuteTime": {
     "end_time": "2024-02-01T09:08:06.196575500Z",
     "start_time": "2024-02-01T09:08:06.079123300Z"
    }
   },
   "id": "7782d07aa4f20d99",
   "execution_count": 18
  },
  {
   "cell_type": "code",
   "outputs": [
    {
     "data": {
      "text/plain": "[['36:11',\n  '4',\n  '12',\n  '.333',\n  '2',\n  '5',\n  '.400',\n  '1',\n  '2',\n  '.500',\n  '0',\n  '4',\n  '4',\n  '7',\n  '1',\n  '0',\n  '3',\n  '3',\n  '11',\n  '+1'],\n ['34:09',\n  '6',\n  '17',\n  '.353',\n  '1',\n  '2',\n  '.500',\n  '4',\n  '4',\n  '1.000',\n  '1',\n  '7',\n  '8',\n  '4',\n  '0',\n  '2',\n  '2',\n  '3',\n  '17',\n  '-17'],\n ['31:20',\n  '4',\n  '11',\n  '.364',\n  '1',\n  '2',\n  '.500',\n  '5',\n  '7',\n  '.714',\n  '4',\n  '4',\n  '8',\n  '4',\n  '2',\n  '0',\n  '2',\n  '2',\n  '14',\n  '-14'],\n ['29:53',\n  '6',\n  '8',\n  '.750',\n  '4',\n  '6',\n  '.667',\n  '2',\n  '2',\n  '1.000',\n  '1',\n  '2',\n  '3',\n  '1',\n  '0',\n  '1',\n  '1',\n  '0',\n  '18',\n  '-14'],\n ['29:00',\n  '10',\n  '16',\n  '.625',\n  '1',\n  '4',\n  '.250',\n  '0',\n  '1',\n  '.000',\n  '1',\n  '7',\n  '8',\n  '5',\n  '1',\n  '0',\n  '0',\n  '1',\n  '21',\n  '+7'],\n [],\n ['22:18',\n  '3',\n  '8',\n  '.375',\n  '0',\n  '4',\n  '.000',\n  '0',\n  '0',\n  '',\n  '1',\n  '0',\n  '1',\n  '2',\n  '1',\n  '0',\n  '2',\n  '3',\n  '6',\n  '-17'],\n ['17:38',\n  '2',\n  '4',\n  '.500',\n  '1',\n  '2',\n  '.500',\n  '2',\n  '2',\n  '1.000',\n  '2',\n  '2',\n  '4',\n  '0',\n  '0',\n  '1',\n  '0',\n  '2',\n  '7',\n  '+7'],\n ['15:28',\n  '3',\n  '4',\n  '.750',\n  '0',\n  '1',\n  '.000',\n  '1',\n  '2',\n  '.500',\n  '1',\n  '3',\n  '4',\n  '0',\n  '0',\n  '0',\n  '1',\n  '1',\n  '7',\n  '+2'],\n ['14:39',\n  '3',\n  '10',\n  '.300',\n  '0',\n  '3',\n  '.000',\n  '0',\n  '0',\n  '',\n  '2',\n  '1',\n  '3',\n  '0',\n  '0',\n  '0',\n  '0',\n  '2',\n  '6',\n  '-8'],\n ['6:54',\n  '0',\n  '0',\n  '',\n  '0',\n  '0',\n  '',\n  '0',\n  '0',\n  '',\n  '0',\n  '1',\n  '1',\n  '0',\n  '0',\n  '0',\n  '0',\n  '1',\n  '0',\n  '-7'],\n ['1:15',\n  '0',\n  '0',\n  '',\n  '0',\n  '0',\n  '',\n  '0',\n  '0',\n  '',\n  '0',\n  '0',\n  '0',\n  '0',\n  '0',\n  '0',\n  '0',\n  '0',\n  '0',\n  '0'],\n ['1:15',\n  '0',\n  '0',\n  '',\n  '0',\n  '0',\n  '',\n  '0',\n  '0',\n  '',\n  '0',\n  '0',\n  '0',\n  '0',\n  '0',\n  '0',\n  '0',\n  '0',\n  '0',\n  '0']]"
     },
     "execution_count": 19,
     "metadata": {},
     "output_type": "execute_result"
    }
   ],
   "source": [
    "player_stats"
   ],
   "metadata": {
    "collapsed": false,
    "ExecuteTime": {
     "end_time": "2024-02-01T09:08:27.558989500Z",
     "start_time": "2024-02-01T09:08:27.524721900Z"
    }
   },
   "id": "7095b6a17dac6dfd",
   "execution_count": 19
  },
  {
   "cell_type": "code",
   "outputs": [],
   "source": [
    "def make_rows(player_names, player_stats):\n",
    "    player_names[5].insert(5, 'player')\n",
    "    for i in range(len(player_names)):\n",
    "        player = player_names[i][0]\n",
    "        (player_stats[i].insert(0,player))\n",
    "\n",
    "make_rows(player_names, player_stats)\n",
    "\n",
    "stats = pd.DataFrame(player_stats, columns=headers)"
   ],
   "metadata": {
    "collapsed": false,
    "ExecuteTime": {
     "end_time": "2024-02-01T09:59:13.484848700Z",
     "start_time": "2024-02-01T09:59:13.403937300Z"
    }
   },
   "id": "d1f428bf8162ef81",
   "execution_count": 20
  },
  {
   "cell_type": "code",
   "outputs": [
    {
     "data": {
      "text/plain": "            Starters     MP    FG   FGA   FG%    3P   3PA   3P%    FT   FTA  \\\n0   D'Angelo Russell  36:11     4    12  .333     2     5  .400     1     2   \n1      Anthony Davis  34:09     6    17  .353     1     2  .500     4     4   \n2      Austin Reaves  31:20     4    11  .364     1     2  .500     5     7   \n3     Taurean Prince  29:53     6     8  .750     4     6  .667     2     2   \n4       LeBron James  29:00    10    16  .625     1     4  .250     0     1   \n5             player   None  None  None  None  None  None  None  None  None   \n6       Gabe Vincent  22:18     3     8  .375     0     4  .000     0     0   \n7        Cam Reddish  17:38     2     4  .500     1     2  .500     2     2   \n8     Christian Wood  15:28     3     4  .750     0     1  .000     1     2   \n9      Rui Hachimura  14:39     3    10  .300     0     3  .000     0     0   \n10      Jaxson Hayes   6:54     0     0           0     0           0     0   \n11      Max Christie   1:15     0     0           0     0           0     0   \n12     Maxwell Lewis   1:15     0     0           0     0           0     0   \n\n    ...   ORB   DRB   TRB   AST   STL   BLK   TOV    PF   PTS   +/-  \n0   ...     0     4     4     7     1     0     3     3    11    +1  \n1   ...     1     7     8     4     0     2     2     3    17   -17  \n2   ...     4     4     8     4     2     0     2     2    14   -14  \n3   ...     1     2     3     1     0     1     1     0    18   -14  \n4   ...     1     7     8     5     1     0     0     1    21    +7  \n5   ...  None  None  None  None  None  None  None  None  None  None  \n6   ...     1     0     1     2     1     0     2     3     6   -17  \n7   ...     2     2     4     0     0     1     0     2     7    +7  \n8   ...     1     3     4     0     0     0     1     1     7    +2  \n9   ...     2     1     3     0     0     0     0     2     6    -8  \n10  ...     0     1     1     0     0     0     0     1     0    -7  \n11  ...     0     0     0     0     0     0     0     0     0     0  \n12  ...     0     0     0     0     0     0     0     0     0     0  \n\n[13 rows x 21 columns]",
      "text/html": "<div>\n<style scoped>\n    .dataframe tbody tr th:only-of-type {\n        vertical-align: middle;\n    }\n\n    .dataframe tbody tr th {\n        vertical-align: top;\n    }\n\n    .dataframe thead th {\n        text-align: right;\n    }\n</style>\n<table border=\"1\" class=\"dataframe\">\n  <thead>\n    <tr style=\"text-align: right;\">\n      <th></th>\n      <th>Starters</th>\n      <th>MP</th>\n      <th>FG</th>\n      <th>FGA</th>\n      <th>FG%</th>\n      <th>3P</th>\n      <th>3PA</th>\n      <th>3P%</th>\n      <th>FT</th>\n      <th>FTA</th>\n      <th>...</th>\n      <th>ORB</th>\n      <th>DRB</th>\n      <th>TRB</th>\n      <th>AST</th>\n      <th>STL</th>\n      <th>BLK</th>\n      <th>TOV</th>\n      <th>PF</th>\n      <th>PTS</th>\n      <th>+/-</th>\n    </tr>\n  </thead>\n  <tbody>\n    <tr>\n      <th>0</th>\n      <td>D'Angelo Russell</td>\n      <td>36:11</td>\n      <td>4</td>\n      <td>12</td>\n      <td>.333</td>\n      <td>2</td>\n      <td>5</td>\n      <td>.400</td>\n      <td>1</td>\n      <td>2</td>\n      <td>...</td>\n      <td>0</td>\n      <td>4</td>\n      <td>4</td>\n      <td>7</td>\n      <td>1</td>\n      <td>0</td>\n      <td>3</td>\n      <td>3</td>\n      <td>11</td>\n      <td>+1</td>\n    </tr>\n    <tr>\n      <th>1</th>\n      <td>Anthony Davis</td>\n      <td>34:09</td>\n      <td>6</td>\n      <td>17</td>\n      <td>.353</td>\n      <td>1</td>\n      <td>2</td>\n      <td>.500</td>\n      <td>4</td>\n      <td>4</td>\n      <td>...</td>\n      <td>1</td>\n      <td>7</td>\n      <td>8</td>\n      <td>4</td>\n      <td>0</td>\n      <td>2</td>\n      <td>2</td>\n      <td>3</td>\n      <td>17</td>\n      <td>-17</td>\n    </tr>\n    <tr>\n      <th>2</th>\n      <td>Austin Reaves</td>\n      <td>31:20</td>\n      <td>4</td>\n      <td>11</td>\n      <td>.364</td>\n      <td>1</td>\n      <td>2</td>\n      <td>.500</td>\n      <td>5</td>\n      <td>7</td>\n      <td>...</td>\n      <td>4</td>\n      <td>4</td>\n      <td>8</td>\n      <td>4</td>\n      <td>2</td>\n      <td>0</td>\n      <td>2</td>\n      <td>2</td>\n      <td>14</td>\n      <td>-14</td>\n    </tr>\n    <tr>\n      <th>3</th>\n      <td>Taurean Prince</td>\n      <td>29:53</td>\n      <td>6</td>\n      <td>8</td>\n      <td>.750</td>\n      <td>4</td>\n      <td>6</td>\n      <td>.667</td>\n      <td>2</td>\n      <td>2</td>\n      <td>...</td>\n      <td>1</td>\n      <td>2</td>\n      <td>3</td>\n      <td>1</td>\n      <td>0</td>\n      <td>1</td>\n      <td>1</td>\n      <td>0</td>\n      <td>18</td>\n      <td>-14</td>\n    </tr>\n    <tr>\n      <th>4</th>\n      <td>LeBron James</td>\n      <td>29:00</td>\n      <td>10</td>\n      <td>16</td>\n      <td>.625</td>\n      <td>1</td>\n      <td>4</td>\n      <td>.250</td>\n      <td>0</td>\n      <td>1</td>\n      <td>...</td>\n      <td>1</td>\n      <td>7</td>\n      <td>8</td>\n      <td>5</td>\n      <td>1</td>\n      <td>0</td>\n      <td>0</td>\n      <td>1</td>\n      <td>21</td>\n      <td>+7</td>\n    </tr>\n    <tr>\n      <th>5</th>\n      <td>player</td>\n      <td>None</td>\n      <td>None</td>\n      <td>None</td>\n      <td>None</td>\n      <td>None</td>\n      <td>None</td>\n      <td>None</td>\n      <td>None</td>\n      <td>None</td>\n      <td>...</td>\n      <td>None</td>\n      <td>None</td>\n      <td>None</td>\n      <td>None</td>\n      <td>None</td>\n      <td>None</td>\n      <td>None</td>\n      <td>None</td>\n      <td>None</td>\n      <td>None</td>\n    </tr>\n    <tr>\n      <th>6</th>\n      <td>Gabe Vincent</td>\n      <td>22:18</td>\n      <td>3</td>\n      <td>8</td>\n      <td>.375</td>\n      <td>0</td>\n      <td>4</td>\n      <td>.000</td>\n      <td>0</td>\n      <td>0</td>\n      <td>...</td>\n      <td>1</td>\n      <td>0</td>\n      <td>1</td>\n      <td>2</td>\n      <td>1</td>\n      <td>0</td>\n      <td>2</td>\n      <td>3</td>\n      <td>6</td>\n      <td>-17</td>\n    </tr>\n    <tr>\n      <th>7</th>\n      <td>Cam Reddish</td>\n      <td>17:38</td>\n      <td>2</td>\n      <td>4</td>\n      <td>.500</td>\n      <td>1</td>\n      <td>2</td>\n      <td>.500</td>\n      <td>2</td>\n      <td>2</td>\n      <td>...</td>\n      <td>2</td>\n      <td>2</td>\n      <td>4</td>\n      <td>0</td>\n      <td>0</td>\n      <td>1</td>\n      <td>0</td>\n      <td>2</td>\n      <td>7</td>\n      <td>+7</td>\n    </tr>\n    <tr>\n      <th>8</th>\n      <td>Christian Wood</td>\n      <td>15:28</td>\n      <td>3</td>\n      <td>4</td>\n      <td>.750</td>\n      <td>0</td>\n      <td>1</td>\n      <td>.000</td>\n      <td>1</td>\n      <td>2</td>\n      <td>...</td>\n      <td>1</td>\n      <td>3</td>\n      <td>4</td>\n      <td>0</td>\n      <td>0</td>\n      <td>0</td>\n      <td>1</td>\n      <td>1</td>\n      <td>7</td>\n      <td>+2</td>\n    </tr>\n    <tr>\n      <th>9</th>\n      <td>Rui Hachimura</td>\n      <td>14:39</td>\n      <td>3</td>\n      <td>10</td>\n      <td>.300</td>\n      <td>0</td>\n      <td>3</td>\n      <td>.000</td>\n      <td>0</td>\n      <td>0</td>\n      <td>...</td>\n      <td>2</td>\n      <td>1</td>\n      <td>3</td>\n      <td>0</td>\n      <td>0</td>\n      <td>0</td>\n      <td>0</td>\n      <td>2</td>\n      <td>6</td>\n      <td>-8</td>\n    </tr>\n    <tr>\n      <th>10</th>\n      <td>Jaxson Hayes</td>\n      <td>6:54</td>\n      <td>0</td>\n      <td>0</td>\n      <td></td>\n      <td>0</td>\n      <td>0</td>\n      <td></td>\n      <td>0</td>\n      <td>0</td>\n      <td>...</td>\n      <td>0</td>\n      <td>1</td>\n      <td>1</td>\n      <td>0</td>\n      <td>0</td>\n      <td>0</td>\n      <td>0</td>\n      <td>1</td>\n      <td>0</td>\n      <td>-7</td>\n    </tr>\n    <tr>\n      <th>11</th>\n      <td>Max Christie</td>\n      <td>1:15</td>\n      <td>0</td>\n      <td>0</td>\n      <td></td>\n      <td>0</td>\n      <td>0</td>\n      <td></td>\n      <td>0</td>\n      <td>0</td>\n      <td>...</td>\n      <td>0</td>\n      <td>0</td>\n      <td>0</td>\n      <td>0</td>\n      <td>0</td>\n      <td>0</td>\n      <td>0</td>\n      <td>0</td>\n      <td>0</td>\n      <td>0</td>\n    </tr>\n    <tr>\n      <th>12</th>\n      <td>Maxwell Lewis</td>\n      <td>1:15</td>\n      <td>0</td>\n      <td>0</td>\n      <td></td>\n      <td>0</td>\n      <td>0</td>\n      <td></td>\n      <td>0</td>\n      <td>0</td>\n      <td>...</td>\n      <td>0</td>\n      <td>0</td>\n      <td>0</td>\n      <td>0</td>\n      <td>0</td>\n      <td>0</td>\n      <td>0</td>\n      <td>0</td>\n      <td>0</td>\n      <td>0</td>\n    </tr>\n  </tbody>\n</table>\n<p>13 rows × 21 columns</p>\n</div>"
     },
     "execution_count": 22,
     "metadata": {},
     "output_type": "execute_result"
    }
   ],
   "source": [
    "stats.head(15)"
   ],
   "metadata": {
    "collapsed": false,
    "ExecuteTime": {
     "end_time": "2024-02-01T09:59:58.508275100Z",
     "start_time": "2024-02-01T09:59:58.473832900Z"
    }
   },
   "id": "d541c26fd852074d",
   "execution_count": 22
  },
  {
   "cell_type": "code",
   "outputs": [],
   "source": [],
   "metadata": {
    "collapsed": false
   },
   "id": "b590e4811346ede9"
  }
 ],
 "metadata": {
  "kernelspec": {
   "display_name": "Python 3",
   "language": "python",
   "name": "python3"
  },
  "language_info": {
   "codemirror_mode": {
    "name": "ipython",
    "version": 2
   },
   "file_extension": ".py",
   "mimetype": "text/x-python",
   "name": "python",
   "nbconvert_exporter": "python",
   "pygments_lexer": "ipython2",
   "version": "2.7.6"
  }
 },
 "nbformat": 4,
 "nbformat_minor": 5
}
